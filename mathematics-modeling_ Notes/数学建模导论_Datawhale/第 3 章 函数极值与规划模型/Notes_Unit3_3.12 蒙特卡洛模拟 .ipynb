{
  "nbformat": 4,
  "nbformat_minor": 0,
  "metadata": {
    "colab": {
      "provenance": [],
      "toc_visible": true,
      "authorship_tag": "ABX9TyNC2tu3IYMuj6YZ6tON4zxe",
      "include_colab_link": true
    },
    "kernelspec": {
      "name": "python3",
      "display_name": "Python 3"
    },
    "language_info": {
      "name": "python"
    }
  },
  "cells": [
    {
      "cell_type": "markdown",
      "metadata": {
        "id": "view-in-github",
        "colab_type": "text"
      },
      "source": [
        "<a href=\"https://colab.research.google.com/github/Gaoshu-root/Code-related-courses/blob/main/mathematics-modeling_%20Notes/%E6%95%B0%E5%AD%A6%E5%BB%BA%E6%A8%A1%E5%AF%BC%E8%AE%BA_Datawhale/%E7%AC%AC%203%20%E7%AB%A0%20%E5%87%BD%E6%95%B0%E6%9E%81%E5%80%BC%E4%B8%8E%E8%A7%84%E5%88%92%E6%A8%A1%E5%9E%8B/Notes%20Unit3%203.12%20%E8%92%99%E7%89%B9%E5%8D%A1%E6%B4%9B%E6%A8%A1%E6%8B%9F%20.ipynb\" target=\"_parent\"><img src=\"https://colab.research.google.com/assets/colab-badge.svg\" alt=\"Open In Colab\"/></a>"
      ]
    },
    {
      "cell_type": "markdown",
      "source": [
        "<font size=5>第 3 章 函数极值与规划模型 </font>\n",
        "\n",
        "\n",
        "* <font size=4>3.12 蒙特卡洛模拟 </font>\n",
        "\n",
        "\n",
        "$~$\n",
        "\n",
        "\n",
        "\n",
        ">整理自：\n",
        ">\n",
        ">开源内容：https://github.com/datawhalechina/intro-mathmodel\n",
        ">\n",
        ">在线学习网站：http://www.datawhale.cn/learn/summary/85"
      ],
      "metadata": {
        "id": "8bbeneHPf_BJ"
      }
    },
    {
      "cell_type": "markdown",
      "source": [
        "动态规划：空间换时间\n",
        "\n"
      ],
      "metadata": {
        "id": "Ag32FmzXzuG2"
      }
    },
    {
      "cell_type": "markdown",
      "source": [
        "## 3.12 蒙特卡洛模拟"
      ],
      "metadata": {
        "id": "ltk9H7LXxvcZ"
      }
    },
    {
      "cell_type": "markdown",
      "source": [
        "大量**候选解**模拟出一个近似值逐步逼近精确解"
      ],
      "metadata": {
        "id": "H1Jp7LpypsHX"
      }
    },
    {
      "cell_type": "markdown",
      "source": [
        "**例 3.16** $~~$利用蒙特卡洛模拟解决**非线性规划**问题\n",
        "\n",
        "[修改参考自链接](https://mp.weixin.qq.com/s?__biz=MjM5ODc2Mzk2MA==&mid=2451819811&idx=1&sn=547c0eb508f200b5cec7b06fd01b454c&chksm=b112a1f4866528e24a4e88d47382c170eaa1781b975f810cc5afefbe09e8fb046119b155a7bf&scene=27)\n",
        "\n",
        "\n",
        "$\\max~~x_1x_2x_3$\n",
        "\n",
        "满足：\n",
        "\n",
        "$\\begin{cases}-x_1+2x_2+2x_3\\geq0\\\\\n",
        "x_1+2x_2+2x_3\\leq 72\\\\\n",
        "10\\leq x_2\\leq20\\\\\n",
        "x_1-x_2=10\\end{cases}$"
      ],
      "metadata": {
        "id": "CB9lc-uOqN-U"
      }
    },
    {
      "cell_type": "markdown",
      "source": [
        "求解：\n",
        "\n",
        "基于约束 $x_1-x_2=10$， 整理得:\n",
        "\n",
        "$\\max~~(x_2+10)x_2x_3$\n",
        "\n",
        "满足：\n",
        "\n",
        "$\\begin{cases}x_2+2x_3\\geq10\\\\\n",
        "3x_2+2x_3\\leq 62\\\\\n",
        "10\\leq x_2\\leq20\\\\\n",
        "-5\\leq x_3\\leq16\\end{cases}$\n",
        "\n"
      ],
      "metadata": {
        "id": "IOzKstOPr-sa"
      }
    },
    {
      "cell_type": "code",
      "source": [
        "import numpy as np\n",
        "\n",
        "np.random.seed(0)  # 保证程序输出的一致性\n",
        "\n",
        "N = 1000000\n",
        "\n",
        "# 注意这 3 个参数是候选值列表， 不是仅一个值\n",
        "X2 = np.random.uniform(10, 20.1, N)  #左闭右开 在 x2 的取值范围内随机选取 N 个值\n",
        "X1 = X2 + 10\n",
        "X3 = np.random.uniform(-5, 16.1, N)  # 在 x3 的取值范围内随机选取 N 个值\n",
        "\n",
        "f = float('-inf')\n",
        "for i in range(N):\n",
        "    if -X1[i] + 2 * X2[i] + 2 * X3[i] >= 0 and  X1[i] + 2 * X2[i] + 2 * X3[i] <= 72:\n",
        "        result = X1[i] * X2[i] * X3[i]\n",
        "        if result > f:\n",
        "            f = result\n",
        "            final_X = [X1[i], X2[i], X3[i]]\n",
        "print(\"\"\"最终得到的最大目标函数值为：%.4f\n",
        "最终自变量取值为：\n",
        "x1 = %.4f\n",
        "x2 = %.4f\n",
        "x3 = %.4f\"\"\" % (f, final_X[0], final_X[1], final_X[2]))"
      ],
      "metadata": {
        "colab": {
          "base_uri": "https://localhost:8080/"
        },
        "id": "fsINGx1SqNcA",
        "outputId": "56de866c-ebc3-41f8-927c-dc321a120713"
      },
      "execution_count": null,
      "outputs": [
        {
          "output_type": "stream",
          "name": "stdout",
          "text": [
            "最终得到的最大目标函数值为：3444.6873\n",
            "最终自变量取值为：\n",
            "x1 = 22.4588\n",
            "x2 = 12.4588\n",
            "x3 = 12.3108\n"
          ]
        }
      ]
    },
    {
      "cell_type": "markdown",
      "source": [
        "蒙特卡洛模拟的缺点是**时间开支大**且**精度不太高**，但蒙特卡洛模拟在很多情况下都是求解问题的唯一方法。"
      ],
      "metadata": {
        "id": "G34eyLa0tTUI"
      }
    }
  ]
}
