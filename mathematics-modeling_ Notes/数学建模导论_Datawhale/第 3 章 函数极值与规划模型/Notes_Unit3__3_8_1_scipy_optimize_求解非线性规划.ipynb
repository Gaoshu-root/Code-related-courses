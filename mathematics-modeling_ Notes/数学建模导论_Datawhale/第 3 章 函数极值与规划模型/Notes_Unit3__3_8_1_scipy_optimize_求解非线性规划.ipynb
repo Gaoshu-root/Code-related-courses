{
  "nbformat": 4,
  "nbformat_minor": 0,
  "metadata": {
    "colab": {
      "provenance": [],
      "toc_visible": true,
      "authorship_tag": "ABX9TyPjCB7RIrANA9VvKcW0XgML",
      "include_colab_link": true
    },
    "kernelspec": {
      "name": "python3",
      "display_name": "Python 3"
    },
    "language_info": {
      "name": "python"
    }
  },
  "cells": [
    {
      "cell_type": "markdown",
      "metadata": {
        "id": "view-in-github",
        "colab_type": "text"
      },
      "source": [
        "<a href=\"https://colab.research.google.com/github/Gaoshu-root/Code-related-courses/blob/main/mathematics-modeling_%20Notes/%E6%95%B0%E5%AD%A6%E5%BB%BA%E6%A8%A1%E5%AF%BC%E8%AE%BA_Datawhale/%E7%AC%AC%203%20%E7%AB%A0%20%E5%87%BD%E6%95%B0%E6%9E%81%E5%80%BC%E4%B8%8E%E8%A7%84%E5%88%92%E6%A8%A1%E5%9E%8B/Notes_Unit3__3_8_1_scipy_optimize_%E6%B1%82%E8%A7%A3%E9%9D%9E%E7%BA%BF%E6%80%A7%E8%A7%84%E5%88%92.ipynb\" target=\"_parent\"><img src=\"https://colab.research.google.com/assets/colab-badge.svg\" alt=\"Open In Colab\"/></a>"
      ]
    },
    {
      "cell_type": "markdown",
      "source": [
        "<font size=5>第 3 章 函数极值与规划模型 </font>\n",
        "\n",
        "* <font size=4>3.8.1 使用 scipy 求解函数优化问题 </font>\n",
        "\n",
        "\n",
        "\n",
        "$~$\n",
        "\n",
        "\n",
        "\n",
        ">整理自：\n",
        ">\n",
        ">开源内容：https://github.com/datawhalechina/intro-mathmodel\n",
        ">\n",
        ">在线学习网站：http://www.datawhale.cn/learn/summary/85"
      ],
      "metadata": {
        "id": "8bbeneHPf_BJ"
      }
    },
    {
      "cell_type": "markdown",
      "source": [
        "在 scipy.optimize 模块中，提供了多种用于**非线性规划**问题的方法，适用于不同类型的问题：\n",
        "\n",
        "* brent()：适用于**单变量无约束**优化问题，结合了 Newton 法和二分法。\n",
        "\n",
        "* fmin()：适用于**多变量无约束**优化问题，采用单纯形法\n",
        "\n",
        "* leastsq()： 用于求解非线性最小二乘问题。\n",
        "\n",
        "* minimize()： 适用于**约束优化**问题，利用 Lagrange 乘子法将约束优化问题转化为无约束优化问题。\n",
        "\n"
      ],
      "metadata": {
        "id": "owokVQclKcjF"
      }
    },
    {
      "cell_type": "markdown",
      "source": [
        "对于**无约束**问题优化算法：\n",
        "\n",
        "* method='CG'： 非线性共轭梯度算法，只能处理无约束优化问题，需要使用一阶导数函数。\n",
        "\n",
        "* method='BFGS'： 拟 Newton 法，只能处理无约束优化问题，需要使用一阶导数函数。<mark>BFGS 算法</mark>性能良好，是<mark>**无约束**优化问题的默认算法</mark>。\n",
        "* method='Newton-CG'：  截断 Newton 法，只能处理无约束优化问题，需要使用一阶导数函数，适合处理**大规模问题**。\n",
        "* method='dogleg'： Dog-leg 信赖域算法，需要使用梯度和 <font color=red>Hessian 矩阵（必须正定）</font>，只能处理无约束优化问题。\n",
        "* method='trust-ncg'： 采用 Newton 共轭梯度信赖域算法，需要使用梯度和 <font color=red>Hessian 矩阵（必须正定）</font>，只能处理无约束优化问题，适合**大规模问题**。\n",
        "* method='trust-exact'： 求解无约束**极小化**问题的信赖域方法，需要梯度和 Hessian 矩阵（不需要正定）。\n",
        "* method='trust-krylov'： 使用 Newton-GLTR 信赖域算法，需要使用梯度和 <font color=red>Hessian 矩阵（必须正定）</font>，只能处理无约束优化问题，适合**中大规模**问题。\n",
        "\n"
      ],
      "metadata": {
        "id": "429YqNK5LEjd"
      }
    },
    {
      "cell_type": "markdown",
      "source": [
        "对于**边界约束**条件问题优化算法：\n",
        "\n",
        "* method='Nelder-Mead'： 下山单纯形法，可以处理边界约束条件（决策变量的上下限），只使用目标函数，不使用导数函数或二阶导数，具有**较强的鲁棒性**。\n",
        "* method='L-BFGS-B'： 改进的 BFGS 拟 Newton 法，\"L\" 指有限内存，\"B\" 指边界约束，可以处理边界约束条件，需要使用一阶导数函数。<mark>L-BFGS-B 算法</mark>性能良好，**内存消耗小**，适合处理**大规模**问题，是<mark>**边界约束**优化问题的默认算法</mark>。\n",
        "* method='Powell'： 改进的共轭方向法，可以处理边界约束条件（决策变量的上下限）。\n",
        "* method='TNC'： 截断 Newton 法，可以处理边界约束条件。"
      ],
      "metadata": {
        "id": "8sa0KyQ5Lddu"
      }
    },
    {
      "cell_type": "markdown",
      "source": [
        "对于**带有约束条件**问题优化算法：\n",
        "\n",
        "* method='COBYLA'： 线性近似约束优化方法，通过线性逼近目标函数和约束条件来处理非线性问题。只使用目标函数，不需要导数或二阶导数值，可以处理约束条件。\n",
        "* method='SLSQP'： 序贯最小二乘规划算法，可以处理边界约束、等式约束和不等式约束条件。<mark>SLSQP 算法</mark>性能良好，是<mark>**带有约束条件**优化问题的默认算法</mark>。\n",
        "* method='trust-constr'： 信赖域算法，通用的约束最优化方法，适合处理**大规模**问题。"
      ],
      "metadata": {
        "id": "M2RCniZyLWYi"
      }
    },
    {
      "cell_type": "markdown",
      "source": [
        "## 一些求解示例"
      ],
      "metadata": {
        "id": "9IjrBfOJdm25"
      }
    },
    {
      "cell_type": "markdown",
      "source": [
        "### scipy.optimize.brent\n",
        "\n"
      ],
      "metadata": {
        "id": "ykyROs7ZfD9Y"
      }
    },
    {
      "cell_type": "code",
      "source": [
        "import numpy as np\n",
        "def f(x):\n",
        "  return x**2 - 8 * np.sin(2 * x + np.pi)\n",
        "\n",
        "from scipy import optimize\n",
        "\n",
        "minimizer = optimize.brent(f, brack=(-5, 2), full_output=True) # xmin, fval, iter, funcalls\n",
        "print(\"最优解 x = \", minimizer[0])\n",
        "print(\"局部极小值 = \", minimizer[1])"
      ],
      "metadata": {
        "colab": {
          "base_uri": "https://localhost:8080/"
        },
        "id": "7KE_vWJefDRE",
        "outputId": "8172b92b-bea3-4873-f3cd-c6ad2f5593e8"
      },
      "execution_count": null,
      "outputs": [
        {
          "output_type": "stream",
          "name": "stdout",
          "text": [
            "最优解 x =  -0.7391361754183536\n",
            "局部极小值 =  -7.419459391158727\n"
          ]
        }
      ]
    },
    {
      "cell_type": "markdown",
      "source": [
        "### scipy.optimize.fmin\n",
        "\n"
      ],
      "metadata": {
        "id": "tFCLP3jdgbkS"
      }
    },
    {
      "cell_type": "code",
      "source": [
        "def f(x):\n",
        "  return 100.0 * (x[0] - x[1]**2.0)**2.0 + (1 - x[1])**2.0\n",
        "\n",
        "from scipy import optimize\n",
        "minimum = optimize.fmin(f, (-2, -2))"
      ],
      "metadata": {
        "colab": {
          "base_uri": "https://localhost:8080/"
        },
        "id": "IsfGCxq6iKWw",
        "outputId": "a9607748-0332-4e3d-e8d5-66de7a7ddeb9"
      },
      "execution_count": null,
      "outputs": [
        {
          "output_type": "stream",
          "name": "stdout",
          "text": [
            "Optimization terminated successfully.\n",
            "         Current function value: 0.000000\n",
            "         Iterations: 79\n",
            "         Function evaluations: 149\n"
          ]
        }
      ]
    },
    {
      "cell_type": "code",
      "source": [
        "minimum[0]"
      ],
      "metadata": {
        "colab": {
          "base_uri": "https://localhost:8080/"
        },
        "id": "NbtDp4tvijf7",
        "outputId": "638217ce-d401-46c3-f29a-9a4c62fbe06d"
      },
      "execution_count": null,
      "outputs": [
        {
          "output_type": "execute_result",
          "data": {
            "text/plain": [
              "1.0000269102778025"
            ]
          },
          "metadata": {},
          "execution_count": 14
        }
      ]
    },
    {
      "cell_type": "markdown",
      "source": [
        "### scipy.optimize.minimize"
      ],
      "metadata": {
        "id": "YOLrdsmcixW2"
      }
    },
    {
      "cell_type": "markdown",
      "source": [
        "https://docs.scipy.org/doc/scipy/reference/generated/scipy.optimize.minimize.html#minimize"
      ],
      "metadata": {
        "id": "QN9I6QIii3hq"
      }
    },
    {
      "cell_type": "markdown",
      "source": [
        "求解当 $x_1+x_2=8$ 时，函数 $60-10x_1-4x_2+x_1^2+x_2^2-x_1x_2$ 的极小值"
      ],
      "metadata": {
        "id": "B4KZ2tvIkNzf"
      }
    },
    {
      "cell_type": "code",
      "source": [
        "from scipy.optimize import minimize\n",
        "\n",
        "# 目标函数\n",
        "def func(x):\n",
        "  x1, x2 = x\n",
        "  return 60 - 10 * x1 - 4 * x2 + x1**2 + x2**2 - x1 * x2\n",
        "\n",
        "# 约束\n",
        "cons = ({'type': 'eq', 'fun': lambda x:  x[0] + x[1] - 8})\n",
        "\n",
        "# 边界\n",
        "bnds = ((0, None), (0, None))\n",
        "\n",
        "x_0 = (2, 6) # 猜测的  x 的初始值\n",
        "res = minimize(func, x_0, method='SLSQP', bounds=bnds,\n",
        "               constraints=cons)\n",
        "\n",
        "print(\"目标的最小值：\", res.fun)\n",
        "print(\"最优解 x =\", res.x)\n",
        "print(\"是否优化成功：\", res.message)"
      ],
      "metadata": {
        "colab": {
          "base_uri": "https://localhost:8080/"
        },
        "id": "26ADBhGWi225",
        "outputId": "06e440e2-6981-4149-fdac-0e555b0416b7"
      },
      "execution_count": null,
      "outputs": [
        {
          "output_type": "stream",
          "name": "stdout",
          "text": [
            "目标的最小值： 17.0\n",
            "最优解 x = [5. 3.]\n",
            "是否优化成功： Optimization terminated successfully\n"
          ]
        }
      ]
    },
    {
      "cell_type": "code",
      "source": [
        "from scipy.optimize import minimize\n",
        "\n",
        "# 目标函数\n",
        "def func(x):\n",
        "  return x[0]**2 + 2 * x[1]**2 + 3 * x[2]**2 + 8\n",
        "\n",
        "# 约束 不等式约束要写成 ≥ 的形式\n",
        "cons = ({'type': 'ineq', 'fun': lambda x:  x[0]**2 - x[1] + x[2]**2},\n",
        "     {'type': 'ineq', 'fun': lambda x:  -(x[0] + x[1]**2 + x[2]**3 - 20)},\n",
        "     {'type': 'eq', 'fun': lambda x:  -x[0] - x[1]**2 + 2},\n",
        "     {'type': 'eq', 'fun': lambda x:  x[1] + 2 * x[2]**2 - 3},\n",
        "            )\n",
        "\n",
        "# 边界\n",
        "bnds = ((0, None), (0, None), (0, None))\n",
        "\n",
        "x_0 = (1, 0, 1) # 猜测的  x 的初始值\n",
        "res = minimize(func, x_0, method='SLSQP', bounds=bnds,\n",
        "               constraints=cons)\n",
        "\n",
        "print(\"目标的最小值：\", res.fun)\n",
        "print(\"最优解 x =\", res.x)\n",
        "print(\"是否优化成功：\", res.message)"
      ],
      "metadata": {
        "colab": {
          "base_uri": "https://localhost:8080/"
        },
        "id": "CV6yON9KlGoU",
        "outputId": "9eff504a-d932-4946-c2cb-26d55e64c296"
      },
      "execution_count": null,
      "outputs": [
        {
          "output_type": "stream",
          "name": "stdout",
          "text": [
            "目标的最小值： 13.878994827969784\n",
            "最优解 x = [0.67433678 1.1513745  0.96141185]\n",
            "是否优化成功： Optimization terminated successfully\n"
          ]
        }
      ]
    },
    {
      "cell_type": "markdown",
      "source": [
        "## —— 补充： scipy.optimize.fmin 文档整理\n",
        "\n",
        "https://docs.scipy.org/doc/scipy/reference/generated/scipy.optimize.fmin.html#fmin\n",
        "\n",
        "使用下坡单纯形算法最小化函数。\n",
        "\n",
        "使用 Nelder-Mead 单纯形算法查找一个或多个变量函数的最小值。该算法在实际应用中有着悠久的成功历史。但它**通常会比使用一阶或二阶导数信息的算法慢**。在实际应用中，它**在高维问题上的性能较差**，**对最小化复杂函数的鲁棒性不强**。此外，目前还没有完整的理论描述该算法何时能成功收敛到最小值，或者如果收敛到最小值会有多快。为了收敛，必须同时满足 ftol 和 xtol 标准。"
      ],
      "metadata": {
        "id": "eoJ1RCk1hwK4"
      }
    },
    {
      "cell_type": "code",
      "source": [
        "def f(x):\n",
        "  return x**2\n",
        "\n",
        "from scipy import optimize\n",
        "minimum = optimize.fmin(f, 1)\n"
      ],
      "metadata": {
        "colab": {
          "base_uri": "https://localhost:8080/"
        },
        "id": "QmrdAChZhUWd",
        "outputId": "510cac9f-1285-4a8e-88dd-e7dde7e7365e"
      },
      "execution_count": null,
      "outputs": [
        {
          "output_type": "stream",
          "name": "stdout",
          "text": [
            "Optimization terminated successfully.\n",
            "         Current function value: 0.000000\n",
            "         Iterations: 17\n",
            "         Function evaluations: 34\n"
          ]
        }
      ]
    },
    {
      "cell_type": "code",
      "source": [
        "minimum[0]"
      ],
      "metadata": {
        "colab": {
          "base_uri": "https://localhost:8080/"
        },
        "id": "9RCTAM58hHLP",
        "outputId": "a55dbbec-2766-467f-9ee3-25e30bb3d7a2"
      },
      "execution_count": null,
      "outputs": [
        {
          "output_type": "execute_result",
          "data": {
            "text/plain": [
              "-8.881784197001252e-16"
            ]
          },
          "metadata": {},
          "execution_count": 11
        }
      ]
    },
    {
      "cell_type": "markdown",
      "source": [
        "## —— 补充：scipy.optimize.brent 文档整理\n",
        "\n",
        "https://docs.scipy.org/doc/scipy/reference/generated/scipy.optimize.brent.html#brent\n",
        "\n",
        "给定一个包含**一个变量**和一个可能的括号的函数，返回该函数的局部最小值，将其隔离到 tol 的小数精度。"
      ],
      "metadata": {
        "id": "aM2FmcTpdIon"
      }
    },
    {
      "cell_type": "code",
      "source": [
        "def f(x):\n",
        "  return (x-1)**2\n",
        "\n",
        "from scipy import optimize\n",
        "\n",
        "minimizer = optimize.brent(f, brack=(1, 2))\n",
        "minimizer"
      ],
      "metadata": {
        "id": "Vbq119sGr272",
        "colab": {
          "base_uri": "https://localhost:8080/"
        },
        "outputId": "3fe56c93-a90a-4aac-fee1-21ae1db1aa4c"
      },
      "execution_count": null,
      "outputs": [
        {
          "output_type": "execute_result",
          "data": {
            "text/plain": [
              "1"
            ]
          },
          "metadata": {},
          "execution_count": 2
        }
      ]
    },
    {
      "cell_type": "code",
      "source": [
        "res = optimize.brent(f, brack=(-1, 0.5, 2), full_output=True)\n",
        "xmin, fval, iter, funcalls = res\n",
        "f(xmin), fval"
      ],
      "metadata": {
        "colab": {
          "base_uri": "https://localhost:8080/"
        },
        "id": "ypARwEhyeHWr",
        "outputId": "9ec66798-b0b4-4404-c006-06909f78d0ef"
      },
      "execution_count": null,
      "outputs": [
        {
          "output_type": "execute_result",
          "data": {
            "text/plain": [
              "(0.0, 0.0)"
            ]
          },
          "metadata": {},
          "execution_count": 3
        }
      ]
    },
    {
      "cell_type": "markdown",
      "source": [
        "## —— 补充： scipy.optimize.leastsq 文档整理\n",
        "\n",
        "求一组方程**平方和的最小值**。"
      ],
      "metadata": {
        "id": "rBdodf8QonZv"
      }
    },
    {
      "cell_type": "code",
      "source": [
        "from scipy.optimize import leastsq\n",
        "def func(x):\n",
        "    return 2*(x-3)**2+1\n",
        "leastsq(func, 0)"
      ],
      "metadata": {
        "colab": {
          "base_uri": "https://localhost:8080/"
        },
        "id": "KOi2SPbWozp5",
        "outputId": "6678842c-e9b5-4895-ebc5-63b1386ec15e"
      },
      "execution_count": null,
      "outputs": [
        {
          "output_type": "execute_result",
          "data": {
            "text/plain": [
              "(array([2.99999999]), 1)"
            ]
          },
          "metadata": {},
          "execution_count": 18
        }
      ]
    }
  ]
}