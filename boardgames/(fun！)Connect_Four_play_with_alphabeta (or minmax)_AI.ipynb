{
  "nbformat": 4,
  "nbformat_minor": 0,
  "metadata": {
    "colab": {
      "provenance": []
    },
    "kernelspec": {
      "name": "python3",
      "display_name": "Python 3"
    },
    "language_info": {
      "name": "python"
    }
  },
  "cells": [
    {
      "cell_type": "markdown",
      "source": [
        "20240908 整理自  https://weread.qq.com/web/reader/0403218071e8dae00406ed9k977321c02529778d5d2116b\n",
        "\n",
        "源码库： https://github.com/davecom/ClassicComputerScienceProblemsInPython/tree/master/Chapter8"
      ],
      "metadata": {
        "id": "DMFPQ58FK-uF"
      }
    },
    {
      "cell_type": "markdown",
      "source": [
        "\n",
        "在四子棋游戏中，两名玩家在 **7 列 6 行** 的垂直棋盘网格中交替落下各自不同颜色的棋子。\n",
        "\n",
        "棋子从**棋盘网格顶部**往底部下落，直至碰到底部或其他棋子。其实玩家在每个回合中唯一要做的**决策**就是**把棋子落入 7 列中的哪一列**。玩家可能不会把棋子落入全满的列。\n",
        "\n",
        "只要首先有 4 个同色棋子沿着行、列或对角线紧密相连，中间没有断开，则其玩家就获胜。如果没有玩家能做到这一点，且棋盘网格被完全填满，那么游戏结果就是平局。"
      ],
      "metadata": {
        "id": "SVniAYmgLIZj"
      }
    },
    {
      "cell_type": "markdown",
      "source": [
        "### 棋盘游戏的基础组件"
      ],
      "metadata": {
        "id": "b944Wp5RLbgP"
      }
    },
    {
      "cell_type": "code",
      "source": [
        "# board.py\n",
        "\n",
        "from __future__ import annotations\n",
        "from typing import NewType, List\n",
        "from abc import ABC, abstractmethod\n",
        "\n",
        "Move = NewType('Move', int)  # Move\n",
        "\n",
        "\n",
        "class Piece: # 棋子\n",
        "    @property\n",
        "    def opposite(self) -> Piece:\n",
        "        raise NotImplementedError(\"Should be implemented by subclasses.\")\n",
        "\n",
        "\n",
        "class Board(ABC):\n",
        "    @property\n",
        "    @abstractmethod\n",
        "    def turn(self) -> Piece:  # 该轮到谁走棋了？\n",
        "        ...\n",
        "\n",
        "    @abstractmethod\n",
        "    def move(self, location: Move) -> Board:  # 一步棋\n",
        "        ...\n",
        "\n",
        "    @property\n",
        "    @abstractmethod\n",
        "    def legal_moves(self) -> List[Move]: # 在当前位置上有哪些符合规则的走法？\n",
        "        ...\n",
        "\n",
        "    @property\n",
        "    @abstractmethod\n",
        "    def is_win(self) -> bool: # 游戏有人赢了吗？\n",
        "        ...\n",
        "\n",
        "    @property\n",
        "    def is_draw(self) -> bool: # 游戏平局了吗？等效于 (没人赢 + 没有符合规则的棋步可走)\n",
        "        return (not self.is_win) and (len(self.legal_moves) == 0)\n",
        "\n",
        "    @abstractmethod\n",
        "    def evaluate(self, player: Piece) -> float: # 评估当前位置，看看哪位玩家占据了优势。\n",
        "        ..."
      ],
      "metadata": {
        "id": "1c_Sa6ceLa7W"
      },
      "execution_count": 17,
      "outputs": []
    },
    {
      "cell_type": "markdown",
      "source": [
        "## 8.3 四子棋\n",
        "\n"
      ],
      "metadata": {
        "id": "a3JtGmWlLr91"
      }
    },
    {
      "cell_type": "markdown",
      "source": [
        "### 8.3.1 四子棋游戏程序"
      ],
      "metadata": {
        "id": "-eboz1aWoIes"
      }
    },
    {
      "cell_type": "code",
      "source": [
        "# connectfour.py\n",
        "\n",
        "from __future__ import annotations\n",
        "from typing import List, Optional, Tuple\n",
        "from enum import Enum\n",
        "# from board import Piece, Board, Move\n",
        "\n",
        "\n",
        "class C4Piece(Piece, Enum):\n",
        "    B = \"B\"  # 黑色 black\n",
        "    R = \"R\"  # 红色 red\n",
        "    E = \" \" # stand-in for empty\n",
        "\n",
        "    @property\n",
        "    def opposite(self) -> C4Piece:\n",
        "        if self == C4Piece.B:\n",
        "            return C4Piece.R\n",
        "        elif self == C4Piece.R:\n",
        "            return C4Piece.B\n",
        "        else:\n",
        "            return C4Piece.E\n",
        "\n",
        "    def __str__(self) -> str:\n",
        "        return self.value\n",
        "\n",
        "# 指定大小的四子棋棋盘网格中生成 可能赢棋 的所有网格区段（segment）\n",
        "## 返回 列/行 组成的元组\n",
        "def generate_segments(num_columns: int, num_rows: int, segment_length: int) -> List[List[Tuple[int, int]]]:\n",
        "    segments: List[List[Tuple[int, int]]] = []\n",
        "    # generate the vertical segments\n",
        "    for c in range(num_columns):\n",
        "        for r in range(num_rows - segment_length + 1):\n",
        "            segment: List[Tuple[int, int]] = []\n",
        "            for t in range(segment_length):\n",
        "                segment.append((c, r + t))\n",
        "            segments.append(segment)\n",
        "\n",
        "    # generate the horizontal segments\n",
        "    for c in range(num_columns - segment_length + 1):\n",
        "        for r in range(num_rows):\n",
        "            segment = []\n",
        "            for t in range(segment_length):\n",
        "                segment.append((c + t, r))\n",
        "            segments.append(segment)\n",
        "\n",
        "    # generate the bottom left to top right diagonal segments\n",
        "    for c in range(num_columns - segment_length + 1):\n",
        "        for r in range(num_rows - segment_length + 1):\n",
        "            segment = []\n",
        "            for t in range(segment_length):\n",
        "                segment.append((c + t, r + t))\n",
        "            segments.append(segment)\n",
        "\n",
        "    # generate the top left to bottom right diagonal segments\n",
        "    for c in range(num_columns - segment_length + 1):\n",
        "        for r in range(segment_length - 1, num_rows):\n",
        "            segment = []\n",
        "            for t in range(segment_length):\n",
        "                segment.append((c + t, r - t))\n",
        "            segments.append(segment)\n",
        "    return segments\n",
        "\n",
        "\n",
        "class C4Board(Board):\n",
        "    NUM_ROWS: int = 6\n",
        "    NUM_COLUMNS: int = 7\n",
        "    SEGMENT_LENGTH: int = 4\n",
        "    SEGMENTS: List[List[Tuple[int, int]]] = generate_segments(NUM_COLUMNS, NUM_ROWS, SEGMENT_LENGTH)\n",
        "# 将四子棋棋盘视为 7 列的组合， 能够让 C4Board 类的其余部分更加容易编写。\n",
        "    class Column:\n",
        "        def __init__(self) -> None:\n",
        "            self._container: List[C4Piece] = []\n",
        "\n",
        "        @property\n",
        "        def full(self) -> bool:\n",
        "            return len(self._container) == C4Board.NUM_ROWS\n",
        "\n",
        "        def push(self, item: C4Piece) -> None:\n",
        "            if self.full:\n",
        "                raise OverflowError(\"Trying to push piece to full column\")\n",
        "            self._container.append(item)\n",
        "\n",
        "        def __getitem__(self, index: int) -> C4Piece:\n",
        "            if index > len(self._container) - 1:\n",
        "                return C4Piece.E\n",
        "            return self._container[index]\n",
        "\n",
        "        def __repr__(self) -> str:\n",
        "            return repr(self._container)\n",
        "\n",
        "        def copy(self) -> C4Board.Column:\n",
        "            temp: C4Board.Column = C4Board.Column()\n",
        "            temp._container = self._container.copy()\n",
        "            return temp\n",
        "## 以下 4 个 方法 与 井字棋 的 对应方法 类似\n",
        "    def __init__(self, position: Optional[List[C4Board.Column]] = None, turn: C4Piece = C4Piece.B) -> None:\n",
        "        if position is None:\n",
        "            self.position: List[C4Board.Column] = [C4Board.Column() for _ in range(C4Board.NUM_COLUMNS)]\n",
        "        else:\n",
        "            self.position = position\n",
        "        self._turn: C4Piece = turn\n",
        "\n",
        "    @property\n",
        "    def turn(self) -> Piece:\n",
        "        return self._turn\n",
        "\n",
        "    def move(self, location: Move) -> Board:\n",
        "        temp_position: List[C4Board.Column] = self.position.copy()\n",
        "        for c in range(C4Board.NUM_COLUMNS):\n",
        "            temp_position[c] = self.position[c].copy()\n",
        "        temp_position[location].push(self._turn)\n",
        "        return C4Board(temp_position, self._turn.opposite)\n",
        "\n",
        "    @property\n",
        "    def legal_moves(self) -> List[Move]:\n",
        "        return [Move(c) for c in range(C4Board.NUM_COLUMNS) if not self.position[c].full]\n",
        "\n",
        "    # 返回指定区段中 黑色 和 红色棋子的数量\n",
        "    # Returns the count of black & red pieces in a segment\n",
        "    def _count_segment(self, segment: List[Tuple[int, int]]) -> Tuple[int, int]:\n",
        "        black_count: int = 0\n",
        "        red_count: int = 0\n",
        "        for column, row in segment:\n",
        "            if self.position[column][row] == C4Piece.B:\n",
        "                black_count += 1\n",
        "            elif self.position[column][row] == C4Piece.R:\n",
        "                red_count += 1\n",
        "        return black_count, red_count\n",
        "\n",
        "    @property\n",
        "    def is_win(self) -> bool:  # 查看棋盘中的所有区段来确定是否有人赢\n",
        "        for segment in C4Board.SEGMENTS:\n",
        "            black_count, red_count = self._count_segment(segment)\n",
        "            if black_count == 4 or red_count == 4: # 是否有区段包含 4 个同色棋子\n",
        "                return True\n",
        "        return False\n",
        "\n",
        "# 包含两个同色棋子和两个空棋子的区段将被视为得 1 分。\n",
        "# 包含 3 个同色棋子得分为 100。\n",
        "# 最后，包含 4 个同色棋子（有人赢棋）的区段得分为 1000000。\n",
        "# 如果该区段属于对手，则得分为负数。\n",
        "    ## 评估 辅助函数\n",
        "    def _evaluate_segment(self, segment: List[Tuple[int, int]], player: Piece) -> float:\n",
        "        black_count, red_count = self._count_segment(segment)\n",
        "        if red_count > 0 and black_count > 0:\n",
        "            return 0 # mixed segments are neutral\n",
        "        count: int = max(red_count, black_count)\n",
        "        score: float = 0\n",
        "        if count == 2:\n",
        "            score = 1\n",
        "        elif count == 3:\n",
        "            score = 100\n",
        "        elif count == 4:\n",
        "            score = 1000000\n",
        "        color: C4Piece = C4Piece.B\n",
        "        if red_count > black_count:\n",
        "            color = C4Piece.R\n",
        "        if color != player:\n",
        "            return -score\n",
        "        return score\n",
        "\n",
        "    def evaluate(self, player: Piece) -> float: # 总分\n",
        "        total: float = 0\n",
        "        for segment in C4Board.SEGMENTS:\n",
        "            total += self._evaluate_segment(segment, player)\n",
        "        return total\n",
        "\n",
        "    def __repr__(self) -> str:\n",
        "        display: str = \"\"\n",
        "        for r in reversed(range(C4Board.NUM_ROWS)):\n",
        "            display += \"|\"\n",
        "            for c in range(C4Board.NUM_COLUMNS):\n",
        "                display += f\"{self.position[c][r]}\" + \"|\"\n",
        "            display += \"\\n\"\n",
        "        return display"
      ],
      "metadata": {
        "id": "4EAk0JBlK7Yj"
      },
      "execution_count": 18,
      "outputs": []
    },
    {
      "cell_type": "markdown",
      "source": [
        "### 8.2.2 极小化极大算法"
      ],
      "metadata": {
        "id": "jzb7w9FqWzh5"
      }
    },
    {
      "cell_type": "code",
      "source": [
        "# minimax.py\n",
        "\n",
        "from __future__ import annotations\n",
        "# from board import Piece, Board, Move\n",
        "\n",
        "### 方法一;\n",
        "# Find the best possible outcome for original player\n",
        "def minimax(board: Board, maximizing: bool, original_player: Piece, max_depth: int = 8) -> float:\n",
        "    # Base case – terminal position or maximum depth reached\n",
        "    if board.is_win or board.is_draw or max_depth == 0:\n",
        "        return board.evaluate(original_player)\n",
        "\n",
        "    # Recursive case - maximize your gains or minimize the opponent's gains\n",
        "    if maximizing:\n",
        "        best_eval: float = float(\"-inf\") # arbitrarily low starting point\n",
        "        for move in board.legal_moves:\n",
        "            result: float = minimax(board.move(move), False, original_player, max_depth - 1)\n",
        "            best_eval = max(result, best_eval) # we want the move with the highest evaluation\n",
        "        return best_eval\n",
        "    else: # minimizing\n",
        "        worst_eval: float = float(\"inf\")\n",
        "        for move in board.legal_moves:\n",
        "            result = minimax(board.move(move), True, original_player, max_depth - 1)\n",
        "            worst_eval = min(result, worst_eval) # we want the move with the lowest evaluation\n",
        "        return worst_eval\n",
        "\n",
        "\n",
        "def alphabeta(board: Board, maximizing: bool, original_player: Piece, max_depth: int = 8, alpha: float = float(\"-inf\"), beta: float = float(\"inf\")) -> float:\n",
        "    # Base case – terminal position or maximum depth reached\n",
        "    if board.is_win or board.is_draw or max_depth == 0: # 递归跳出条件： 达到终局状态 或 最大深度\n",
        "        return board.evaluate(original_player)\n",
        "\n",
        "    # Recursive case - maximize your gains or minimize the opponent's gains\n",
        "    if maximizing:\n",
        "        for move in board.legal_moves:\n",
        "            result: float = alphabeta(board.move(move), False, original_player, max_depth - 1, alpha, beta)\n",
        "            alpha = max(result, alpha)\n",
        "            if beta <= alpha:\n",
        "                break\n",
        "        return alpha\n",
        "    else:  # minimizing\n",
        "        for move in board.legal_moves:\n",
        "            result = alphabeta(board.move(move), True, original_player, max_depth - 1, alpha, beta)\n",
        "            beta = min(result, beta)\n",
        "            if beta <= alpha:\n",
        "                break\n",
        "        return beta\n",
        "\n",
        "\n",
        "# 为某棋局中每一步合法的走法循环调用 minimax(),找出评分最高的走法\n",
        "# Find the best possible move in the current position\n",
        "# looking up to max_depth ahead\n",
        "def find_best_move(board: Board, max_depth: int = 3) -> Move:  # 修改： 改成 3\n",
        "    best_eval: float = float(\"-inf\")\n",
        "    best_move: Move = Move(-1)\n",
        "    for move in board.legal_moves:\n",
        "        result: float = alphabeta(board.move(move), False, board.turn, max_depth)\n",
        "        if result > best_eval:\n",
        "            best_eval = result\n",
        "            best_move = move\n",
        "    return best_move\n"
      ],
      "metadata": {
        "id": "hOPFAuQ1P0AM"
      },
      "execution_count": 19,
      "outputs": []
    },
    {
      "cell_type": "markdown",
      "source": [
        "\n",
        "### 8.3.2 四子棋 AI\n",
        "\n",
        "max_depth 设成了 3。\n",
        "\n",
        "\n",
        "*  这里的四子棋 AI 最多只能看到后 3 步的（评分）棋局。\n",
        "\n",
        "\n",
        "<font color=blue>输入你要下的列的编号 ！！！</font>\n",
        "\n",
        "7 列 6 行\n",
        "\n"
      ],
      "metadata": {
        "id": "4FQo0E4HbCJX"
      }
    },
    {
      "cell_type": "code",
      "source": [
        "0# connectfour_ai.py\n",
        "\n",
        "# from minimax import find_best_move\n",
        "# from connectfour import C4Board\n",
        "# from board import Move, Board\n",
        "\n",
        "board: Board = C4Board()\n",
        "\n",
        "\n",
        "def get_player_move() -> Move:\n",
        "    player_move: Move = Move(-1)\n",
        "    while player_move not in board.legal_moves:\n",
        "        play: int = int(input(\"Enter a legal column (0-6):\"))\n",
        "        player_move = Move(play)\n",
        "    return player_move\n",
        "\n",
        "\n",
        "if __name__ == \"__main__\":\n",
        "    # main game loop\n",
        "    while True:\n",
        "        human_move: Move = get_player_move()\n",
        "        board = board.move(human_move)\n",
        "        if board.is_win:\n",
        "            print(\"Human wins!\")\n",
        "            break\n",
        "        elif board.is_draw:\n",
        "            print(\"Draw!\")\n",
        "            break\n",
        "        computer_move: Move = find_best_move(board, 5)\n",
        "        print(f\"Computer move is {computer_move}\")\n",
        "        board = board.move(computer_move)\n",
        "        print(board)\n",
        "        if board.is_win:\n",
        "            print(\"Computer wins!\")\n",
        "            break\n",
        "        elif board.is_draw:\n",
        "            print(\"Draw!\")\n",
        "            break"
      ],
      "metadata": {
        "colab": {
          "base_uri": "https://localhost:8080/"
        },
        "id": "1x7M28qpbFf5",
        "outputId": "49611e8a-1648-4f70-ab7e-955b08d4d118"
      },
      "execution_count": 20,
      "outputs": [
        {
          "output_type": "stream",
          "name": "stdout",
          "text": [
            "Computer move is 2\n",
            "| | | | | | | |\n",
            "| | | | | | | |\n",
            "| | | | | | | |\n",
            "| | | | | | | |\n",
            "| | | | | | | |\n",
            "|B| |R| | | | |\n",
            "\n",
            "Computer move is 4\n",
            "| | | | | | | |\n",
            "| | | | | | | |\n",
            "| | | | | | | |\n",
            "| | | | | | | |\n",
            "|B| | | | | | |\n",
            "|B| |R| |R| | |\n",
            "\n",
            "Computer move is 0\n",
            "| | | | | | | |\n",
            "| | | | | | | |\n",
            "|R| | | | | | |\n",
            "|B| | | | | | |\n",
            "|B| | | | | | |\n",
            "|B| |R| |R| | |\n",
            "\n",
            "Computer move is 3\n",
            "| | | | | | | |\n",
            "| | | | | | | |\n",
            "|R| | | | | | |\n",
            "|B| | | | | | |\n",
            "|B| | |R| | | |\n",
            "|B| |R|B|R| | |\n",
            "\n",
            "Computer move is 3\n",
            "| | | | | | | |\n",
            "| | | | | | | |\n",
            "|R| | | | | | |\n",
            "|B| | |R| | | |\n",
            "|B| | |R|B| | |\n",
            "|B| |R|B|R| | |\n",
            "\n",
            "Computer move is 4\n",
            "| | | | | | | |\n",
            "| | | | | | | |\n",
            "|R| | |B| | | |\n",
            "|B| | |R|R| | |\n",
            "|B| | |R|B| | |\n",
            "|B| |R|B|R| | |\n",
            "\n",
            "Computer move is 2\n",
            "| | | | | | | |\n",
            "| | | | | | | |\n",
            "|R| | |B| | | |\n",
            "|B| |R|R|R| | |\n",
            "|B| |B|R|B| | |\n",
            "|B| |R|B|R| | |\n",
            "\n",
            "Computer move is 5\n",
            "| | | | | | | |\n",
            "| | | | | | | |\n",
            "|R| |B|B| | | |\n",
            "|B| |R|R|R| | |\n",
            "|B| |B|R|B| | |\n",
            "|B| |R|B|R|R| |\n",
            "\n",
            "Computer move is 3\n",
            "| | | | | | | |\n",
            "| | | |R| | | |\n",
            "|R| |B|B|B| | |\n",
            "|B| |R|R|R| | |\n",
            "|B| |B|R|B| | |\n",
            "|B| |R|B|R|R| |\n",
            "\n",
            "Computer move is 0\n",
            "| | | | | | | |\n",
            "|R| | |R| | | |\n",
            "|R| |B|B|B| | |\n",
            "|B| |R|R|R| | |\n",
            "|B| |B|R|B| | |\n",
            "|B| |R|B|R|R|B|\n",
            "\n",
            "Computer move is 5\n",
            "| | | | | | | |\n",
            "|R| | |R| | | |\n",
            "|R| |B|B|B| | |\n",
            "|B| |R|R|R| | |\n",
            "|B| |B|R|B|R|B|\n",
            "|B| |R|B|R|R|B|\n",
            "\n",
            "Enter a legal column (0-6):5\n",
            "Computer move is 5\n",
            "| | | | | | | |\n",
            "|R| | |R| | | |\n",
            "|R| |B|B|B|R| |\n",
            "|B| |R|R|R|B| |\n",
            "|B| |B|R|B|R|B|\n",
            "|B| |R|B|R|R|B|\n",
            "\n",
            "Computer wins!\n"
          ]
        }
      ]
    },
    {
      "cell_type": "markdown",
      "source": [
        "通过增加搜索的深度，我们可以提升它的游戏水平，但计算机每走一步的计算时间将呈指数级增长。"
      ],
      "metadata": {
        "id": "8N12mzzPt6rp"
      }
    },
    {
      "cell_type": "markdown",
      "source": [
        "<mark>最佳的四子棋开局走法是把棋子放在中间列。</font>"
      ],
      "metadata": {
        "id": "Wk4Qz4X4u5ap"
      }
    },
    {
      "cell_type": "markdown",
      "source": [
        "### 8.3.3 用 α-β 剪枝算法优化极小化极大算法"
      ],
      "metadata": {
        "id": "XkDjTMqXvnIh"
      }
    },
    {
      "cell_type": "markdown",
      "source": [
        "在搜索时能**将不会生成更优结果的棋局排除**，由此来**增加搜索的深度**。\n",
        "\n",
        "\n",
        "α 表示搜索树当前找到的最优极大化走法的评分，而 β 则表示当前找到的**对手**的最优极小化走法的评分。\n",
        "* 如果 β $\\leq$ α，则不值得对该搜索分支做进一步搜索，因为已经发现的走法比继续沿着该分支搜索得到的走法都要好或相当。这种启发式算法能显著缩小搜索空间。"
      ],
      "metadata": {
        "id": "_8CP8cb_vx9D"
      }
    },
    {
      "cell_type": "markdown",
      "source": [
        "minimax() 的搜索深度为 5 时，四子棋 AI 每步大约耗时 3 分钟，而相同深度条件下用 alphabeta() 每步大约耗时 30 秒，只需要六分之一的时间！"
      ],
      "metadata": {
        "id": "SfZHUOml6R58"
      }
    },
    {
      "cell_type": "markdown",
      "source": [
        "## 优化技术"
      ],
      "metadata": {
        "id": "X8aZNJY_8XL_"
      }
    },
    {
      "cell_type": "markdown",
      "source": [
        "### 优化技术：迭代加深（iterative deepening）​"
      ],
      "metadata": {
        "id": "S4AlQghv754T"
      }
    },
    {
      "cell_type": "markdown",
      "source": [
        "有一种常见的优化技术就是迭代加深（iterative deepening）​。在迭代加深技术中，搜索函数将**先以最大深度 1 运行**，然后以最大深度 2 运行，再以最大深度 3 运行，依次类推。**达到指定时限时，搜索停止**。最后一次完成的搜索深度的结果将会被返回。"
      ],
      "metadata": {
        "id": "eB8SRWTe6_Wo"
      }
    },
    {
      "cell_type": "markdown",
      "source": [
        "### 优化技术：静态搜索（quiescence search）​\n",
        "\n",
        "\n",
        "在静态搜索技术中，极小化极大搜索树将朝着会让棋局发生巨大变化的路线（如国际象棋中的吃子）行进，而不是朝着相对“平静”的棋局发展。理想情况下，采用这种方案搜索**不会将计算时间浪费在**无聊的棋局上，也就是**那些不会让玩家获得明显优势的棋局。**"
      ],
      "metadata": {
        "id": "w20nzGQA8QEi"
      }
    },
    {
      "cell_type": "markdown",
      "source": [
        "极小化极大搜索的最佳优化方案不外乎两种，一种是**在规定的时间内搜索更深的深度**，另一种就是**改进棋局评分函数**。\n",
        "\n",
        "要在相同时间内搜索更多的棋局，就需要减少在每个棋局上耗费的时间，这可以通过**提高代码效率或采用运行速度更快的硬件**而获得，但也可能会通过后一种改进技术（改进棋局评分函数）而获得。\n",
        "\n",
        "采用更多的参数或启发式算法来对棋局进行评分可能会耗费更多的时间，但最终能够获得更优质的引擎，即**用更少的搜索深度找到最优走法**。"
      ],
      "metadata": {
        "id": "htDpZS0H80EP"
      }
    },
    {
      "cell_type": "markdown",
      "source": [
        "大多数传统棋盘游戏（如跳棋、国际象棋、四子棋、拼字游戏等）的**搜索空间都比较小**，**基于极小化极大算法的技术可足以应对了**。"
      ],
      "metadata": {
        "id": "oGASdZW69QGf"
      }
    }
  ]
}
