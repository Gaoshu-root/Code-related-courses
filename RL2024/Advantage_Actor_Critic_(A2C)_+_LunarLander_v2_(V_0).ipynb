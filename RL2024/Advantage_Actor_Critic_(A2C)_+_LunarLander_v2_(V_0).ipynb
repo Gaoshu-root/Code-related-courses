{
  "nbformat": 4,
  "nbformat_minor": 0,
  "metadata": {
    "colab": {
      "provenance": []
    },
    "kernelspec": {
      "name": "python3",
      "display_name": "Python 3"
    },
    "language_info": {
      "name": "python"
    }
  },
  "cells": [
    {
      "cell_type": "markdown",
      "source": [
        "* 整理自： https://gymnasium.farama.org/tutorials/gymnasium_basics/vector_envs_tutorial/#sphx-glr-tutorials-gymnasium-basics-vector-envs-tutorial-py"
      ],
      "metadata": {
        "id": "6aXaPBAXBmKS"
      }
    },
    {
      "cell_type": "markdown",
      "source": [
        "如何使用矢量化环境来训练 Advantage Actor-Critic 代理。\n",
        "\n",
        "* 矢量化环境[3]可以通过允许相同环境的多个实例并行运行(在多个 CPUs 上)来帮助实现更快、更健壮的训练。这可以显著减少方差，从而加快训练速度。\n",
        "\n",
        "\n",
        "我们将从头开始实现一个 Advantage Actor-Critic，你将学到如何将**批处理的状态**馈送到你的网络中，以获得行动向量(每个环境一个行动)，并计算 actor 和 critic 在小批量 transitions 上的损失。\n",
        "\n",
        "每个 minibatch 包含一个采样阶段的 transitions ：n_step_per_update 个 step 在 n_envs 个环境中并行执行\n",
        "(将两者相乘以获得 minibatch 中的 transitions 数量)。\n",
        "* the number of transitions in a minibatch = n_steps_per_update $\\times$ n_envs\n",
        "\n",
        "在每个采样阶段后，计算损耗并执行一个梯度步骤。\n",
        "\n",
        "为了计算优势，我们将使用广义优势估计(Generalized Advantage Estimation, GAE)方法[2]，该方法平衡了优势估计的**方差和偏差**之间的**权衡**。\n",
        "\n",
        "\n",
        "\n",
        "\n",
        "为了计算优势 advantages，我们将使用广义优势估计(GAE)方法[2]，该方法平衡了优势估计的**方差和偏差**之间的权衡。\n"
      ],
      "metadata": {
        "id": "EKY2yEM0Bv5q"
      }
    },
    {
      "cell_type": "markdown",
      "source": [
        "A2C 代理类是用输入状态的特征数量、代理可以采取的动作数量、学习率和并行运行以收集经验的环境数量来初始化的。\n",
        "\n",
        "定义了 actor 和 critic 网络，并初始化了各自的优化器。\n",
        "\n",
        "网络的前向传递**接受**状态的批处理向量，并**返回**状态值张量和动作逻辑logits 张量。\n",
        "\n",
        "select_action 方法返回所选操作的元组，这些操作的 log-probs 以及每个操作的状态值。\n",
        "此外，它还返回策略分布的熵，该熵从稍后的损失中减去(带有权重因子 ent_coef)以鼓励探索。\n",
        "\n",
        "get_losses 函数计算 actor 和 critic 网络的损失(使用 GAE)，然后使用 update_parameters 函数更新这些损失。\n"
      ],
      "metadata": {
        "id": "j3JDPl8Nj4qi"
      }
    },
    {
      "cell_type": "code",
      "source": [
        "pip install gymnasium"
      ],
      "metadata": {
        "colab": {
          "base_uri": "https://localhost:8080/"
        },
        "id": "rWb3DSi1SyU0",
        "outputId": "b98ec71b-f583-4448-ba29-2e5aea50f2fd"
      },
      "execution_count": 1,
      "outputs": [
        {
          "output_type": "stream",
          "name": "stdout",
          "text": [
            "Requirement already satisfied: gymnasium in /usr/local/lib/python3.10/dist-packages (0.29.1)\n",
            "Requirement already satisfied: numpy>=1.21.0 in /usr/local/lib/python3.10/dist-packages (from gymnasium) (1.22.4)\n",
            "Requirement already satisfied: cloudpickle>=1.2.0 in /usr/local/lib/python3.10/dist-packages (from gymnasium) (2.2.1)\n",
            "Requirement already satisfied: typing-extensions>=4.3.0 in /usr/local/lib/python3.10/dist-packages (from gymnasium) (4.12.2)\n",
            "Requirement already satisfied: farama-notifications>=0.0.1 in /usr/local/lib/python3.10/dist-packages (from gymnasium) (0.0.4)\n"
          ]
        }
      ]
    },
    {
      "cell_type": "code",
      "source": [
        "# 库函数 导入\n",
        "\n",
        "from __future__ import annotations\n",
        "\n",
        "import os\n",
        "\n",
        "import matplotlib.pyplot as plt\n",
        "import numpy as np\n",
        "import torch\n",
        "import torch.nn as nn\n",
        "from torch import optim\n",
        "\n",
        "from tqdm import tqdm\n",
        "\n",
        "import gymnasium as gym"
      ],
      "metadata": {
        "id": "ocIzEeYBECr6"
      },
      "execution_count": 2,
      "outputs": []
    },
    {
      "cell_type": "markdown",
      "source": [
        "## Advantage Actor-Critic (A2C)\n",
        "\n",
        "Actor-Critic 组合了基于价值和基于策略的方法的元素。\n",
        "\n",
        "在 A2C 中，代理有两个独立的神经网络:一个评估状态值函数的批评家网络，和一个输出所有动作的分类概率分布的行为者网络。批评家网络被训练成最小化预测状态值和代理接收到的实际回报之间的均方误差(这相当于最小化平方优势，因为一个行为的优势是回报和状态值之间的差:A(s, A) = Q(s, A) - V(s)。行动者网络经过训练，通过根据评论家网络选择具有高期望值的行为来最大化预期回报。\n",
        "\n",
        "\n",
        "\n",
        "\n",
        "本教程的重点不在于 A2C 本身的细节。相反，本教程将侧重于如何使用**矢量化环境**和**领域随机化**来**加速** A2C (和其他强化学习算法)的**训练**过程。\n"
      ],
      "metadata": {
        "id": "Nr_qsuSuC8Jo"
      }
    },
    {
      "cell_type": "code",
      "execution_count": 3,
      "metadata": {
        "id": "O1y6P9lIBUgV"
      },
      "outputs": [],
      "source": [
        "class A2C(nn.Module):\n",
        "  \"\"\"\n",
        "  (Synchronous) Advantage Actor-Critic (A2C) 代理 类\n",
        "\n",
        "  参数：\n",
        "    n_features: 输入状态 的 特征数目\n",
        "    n_actions: agent 能采取的动作 数目\n",
        "    device:  运行计算的设备 (在 GPU 上运行 对于更大的神经网络来说可能更快，\n",
        "          对于这段代码，CPU 完全没问题)。\n",
        "    critic_lr: critic 网络的学习率。 一般比  actor_lr 大一些\n",
        "    actor_lr: actor 网络的学习率\n",
        "    n_envs:  为收集经验而 并行运行(在多个 cpu 上) 的 环境数量。\n",
        "  \"\"\"\n",
        "\n",
        "  def __init__(\n",
        "      self,\n",
        "      n_features: int,\n",
        "      n_actions: int,\n",
        "      device: torch.device,\n",
        "      critic_lr: float,\n",
        "      actor_lr: float,\n",
        "      n_envs: int,\n",
        "  ) -> None:\n",
        "    \"\"\"初始化 actor 和 critic 网络 及其 各自的优化器。\"\"\"\n",
        "    super().__init__()\n",
        "    self.device = device\n",
        "    self.n_envs = n_envs\n",
        "\n",
        "    critic_layers = [\n",
        "        nn.Linear(n_features, 32),\n",
        "        nn.ReLU(),\n",
        "        nn.Linear(32, 32),\n",
        "        nn.ReLU(),\n",
        "        nn.Linear(32, 1),\n",
        "    ] # 估计 V(s)\n",
        "\n",
        "    actor_layers = [\n",
        "        nn.Linear(n_features, 32),\n",
        "        nn.ReLU(),\n",
        "        nn.Linear(32, 32),\n",
        "        nn.ReLU(),\n",
        "        nn.Linear(32, n_actions),\n",
        "    ] #  估计动作 logits (稍后将输入到 softmax 中)\n",
        "\n",
        "    # 为什么 π 要 取 log ，这是必要的吗\n",
        "\n",
        "    # 定义 actor 和 crictic 网络\n",
        "    self.critic = nn.Sequential(*critic_layers).to(self.device)\n",
        "    self.actor = nn.Sequential(*actor_layers).to(self.device)\n",
        "\n",
        "    # 为 actor 和 critic 定义 优化器\n",
        "    self.critic_optim = optim.RMSprop(self.critic.parameters(), lr=critic_lr)\n",
        "    self.actor_optim = optim.RMSprop(self.actor.parameters(), lr=actor_lr)\n",
        "\n",
        "  def forward(self, x: np.ndarray)-> tuple[torch.Tensor, torch.Tensor]:\n",
        "    \"\"\"\n",
        "    网络的 前向计算\n",
        "\n",
        "    参数：\n",
        "      x: 状态的 批次向量 A batched vector of states.\n",
        "\n",
        "    返回：\n",
        "      state_values: A tensor with the state values, with shape [n_envs,].\n",
        "      action_logits_vec: A tensor with the action logits, with shape [n_envs, n_actions].\n",
        "    \"\"\"\n",
        "    x = torch.Tensor(x).to(self.device)\n",
        "    state_values = self.critic(x)  # shape: [n_envs,]\n",
        "    action_logits_vec = self.actor(x) # shape: [n_envs, n_actions]\n",
        "    return (state_values, action_logits_vec)\n",
        "\n",
        "\n",
        "  def select_action(self, x:np.ndarray) -> tuple[torch.Tensor, torch.Tensor, torch.Tensor, torch.Tensor]:\n",
        "    \"\"\"\n",
        "    返回所选动作的元组以及这些动作的 log-probs\n",
        "\n",
        "    参数：\n",
        "      x: A batched vector of states.\n",
        "\n",
        "    返回值： 动作、动作的 log 概率、状态值\n",
        "      actions: A tensor with the actions, with shape [n_steps_per_update, n_envs].\n",
        "      action_log_probs: A tensor with the log-probs of the actions, with shape [n_steps_per_update, n_envs].\n",
        "      state_values: A tensor with the state values, with shape [n_steps_per_update, n_envs].\n",
        "    \"\"\"\n",
        "    state_values, action_logits = self.forward(x)\n",
        "    action_pd = torch.distributions.Categorical(logits=action_logits) # 隐式使用softmax\n",
        "    actions = action_pd.sample()\n",
        "    action_log_probs = action_pd.log_prob(actions)\n",
        "    entropy = action_pd.entropy()\n",
        "    return (actions, action_log_probs, state_values, entropy)\n",
        "\n",
        "  def get_losses(\n",
        "      self,\n",
        "      rewards: torch.Tensor,\n",
        "      action_log_probs: torch.Tensor,\n",
        "      value_preds: torch.Tensor,\n",
        "      entropy: torch.Tensor,\n",
        "      masks: torch.Tensor,\n",
        "      gamma: float,\n",
        "      lam: float,\n",
        "      ent_coef: float,\n",
        "      device: torch.device\n",
        "  )->tuple[torch.Tensor, torch.Tensor]:\n",
        "    \"\"\"\n",
        "    计算 critic 和 actor 的 minibatch (一个采样阶段搜集的 transitions) 的损失\n",
        "    Generalized Advantage Estimation (GAE) 计算优势 (https://arxiv.org/abs/1506.02438)\n",
        "\n",
        "    参数：奖励、动作 log 概率、预测的状态值、n 步内奖励记录 masks[step]、\n",
        "      rewards: A tensor with the rewards for each time step in the episode, with shape [n_steps_per_update, n_envs].\n",
        "      action_log_probs: A tensor with the log-probs of the actions taken at each time step in the episode, with shape [n_steps_per_update, n_envs].\n",
        "      value_preds: A tensor with the state value predictions for each time step in the episode, with shape [n_steps_per_update, n_envs].\n",
        "      masks: masks[step] 环境正在执行 为 1， 若是终止则为 0. A tensor with the masks for each time step in the episode, with shape [n_steps_per_update, n_envs].\n",
        "      gamma: The discount factor.\n",
        "      lam: The GAE hyperparameter. (lam=1 corresponds to Monte-Carlo sampling with high variance and no bias,\n",
        "                                    and lam=0 corresponds to normal TD-Learning that has a low variance but is biased\n",
        "                                    because the estimates are generated by a Neural Net).\n",
        "      device: The device to run the computations on (e.g. CPU or GPU).\n",
        "\n",
        "    返回： critic_loss 和 actor_loss\n",
        "      critic_loss: The critic loss for the minibatch.\n",
        "      actor_loss: The actor loss for the minibatch.\n",
        "    \"\"\"\n",
        "    T = len(rewards)\n",
        "    advantages = torch.zeros(T, self.n_envs, device=device)\n",
        "\n",
        "    # 计算 GAE 版本的 advantage\n",
        "    gae = 0.0\n",
        "    for t in reversed(range(T-1)):\n",
        "      td_error = (\n",
        "          rewards[t] + gamma * masks[t] * value_preds[t + 1]-value_preds[t]\n",
        "      )\n",
        "      gae = td_error + gamma * lam * masks[t] * gae\n",
        "      advantages[t] = gae\n",
        "\n",
        "    # 计算 actor 和 critic 的 minibatch 的 loss\n",
        "    critic_loss = advantages.pow(2).mean()\n",
        "\n",
        "    # 当熵增加时，给予奖励， 以鼓励 探索\n",
        "    actor_loss = (\n",
        "        -(advantages.detach() * action_log_probs).mean() - ent_coef * entropy.mean()\n",
        "    )\n",
        "    return (critic_loss, actor_loss)\n",
        "\n",
        "  def update_parameters(\n",
        "      self, critic_loss: torch.Tensor, actor_loss: torch.Tensor\n",
        "  ) -> None:\n",
        "    \"\"\"\n",
        "    更新 actor 和 critic 网络的 参数\n",
        "\n",
        "    参数：\n",
        "      critic_loss: The critic loss.\n",
        "      actor_loss: The actor loss.\n",
        "    \"\"\"\n",
        "    self.critic_optim.zero_grad()\n",
        "    critic_loss.backward()\n",
        "    self.critic_optim.step()\n",
        "\n",
        "    self.actor_optim.zero_grad()\n",
        "    actor_loss.backward()\n",
        "    self.actor_optim.step()\n",
        "\n"
      ]
    },
    {
      "cell_type": "markdown",
      "source": [
        "![image.png](data:image/png;base64,iVBORw0KGgoAAAANSUhEUgAAAmgAAABfCAIAAADTbawiAAAgAElEQVR4Ae1dzWvbSBt//6c56WAwFAI9+GRfIgjU9LChsIbAmsKaHjYsFBeKyMH0UFwooVARKM4hOFBSWHAhuIegQsCF4kJAh4IhIMhBYNDLPCPJ+pgZfViynfgJy1aWRvPxm9H85vmYZ/7n4B8igAggAogAIoAIpEbgf6lTYkJEABFABBABRAARcJA4cRAgAogAIoAIIAIZEEDizAAWJkUEEAFEABFABJA4cQwgAogAIoAIIAIZEEDizAAWJkUEEAFEABFABJA4cQwgAogAIoAIIAIZEEDizAAWJkUEEAFEABFABJA4cQwgAogAIoAIIAIZEEDizAAWJkUEEAFEABFABJA4cQwgAogAIoAIIAIZEEDizAAWJkUEEAFEABFABPITp/1Tb+12RzPEEBFABBABRAAR2CIEchKnfd1vVohSUUj98MLcIrywqYgAIoAIIAJbjkAe4rSvempFUV+PZtZUf14lj9pD5M4tH0fYfEQAEUAEtgaB7MRpDvZJtX0ytRlG89notao80sbu761BDhuKCCACiAAisJUIZCdOx3HsKEnGbmwllthoRAAR4CIwn/RrhBBlZ1dV91T1sUIIIY8a9HpP3anQX+1zi/uq/KZ9a9lzeRLxU9s03rerfw7QT0OMET7hI5CLOPlZ4d2iEZibo5PhJM98krom9mx8MjBKLSJ1XTBhWQjcjPSzcseR9WOo/yc22FxpSqUzNN0F9+QdZVH1w9Rt7+2wTWr96+yt/0HpWMi4d+bkJrrEZ2XMPh+qu41GfYcS+B8Dcb2zVwnfKAgB6/tAv5zx+2+pIqzJmT66WSoLx1nuPM7ZWUshRLtathIrev9u1K0QUuneD63y3VQ/UBpHRglDJ4S3edpSsnp43S8kQ83duh/U+73S0K5KHkd3hlZXmu8m3GKMI6V95st1s8GfhISY0tBIe3ibuWuAgNXjn4IXrzTyeix4Brd/D1rZiNMevVQIUbqX3FbKisJnmRCYfe02Kq2SVjT2ldaoNPvXS3XiEhLn7UUHdCytU/+TyATOqhObJ02qEiLkHlR4bg4OFPJEn+ZWQzmOc93fIYRUdtS/+uPfErRhOqhrxp0kTejRfUIyVPHt+2EOWhXS/OjJdnkAmF38TQWzan2/ezqxJAPyl94kSus0Jr/NDa1yOPJHl3XRoV9h4M5s2Kr1J5Kc+dWe6nuEVLSx6MXCifNGd2cQ1O7ye6SYu5TYiNL9KiQ2++fw+E3iZg57en7c+xIbjVDH6ccmWY6YcxOnbRxRfQshZP8Tv3LFoFhULvaYipvsr6aVLsctV23zU4uQpv5ruVwcx7HGWh3aLJ+YQIJUXo6EQzVYkXuFZLDiW3c9N6lst+TyC1AzP1HdUqIlks5H8XE7t63bwMi60mhWz4cL+0AkQWI/WaMuNY42qrRG1cae2vww4bxUMHHa41cMAyouly7Bc9qzHbfuxlqN8OeiuT37NdZfNqHfNUOEx91seql3n0CqI0Gq+VR/stSnkZc46erS+xNVTtSwddyfnbYIaTQYi0jsIkXVbW7nd5gCDRJ/6GSvnnXehn5KsCHBlNfofQ9McIKyVo2koBpZb9u+xJP1zfWmv0vuEVEFoadkK3fRi5z7rndPmPDi6dgK7GAo0UExA+f+ybKrbeszFVxbklV7scQJX2Wj3nBnvSDxx3HAOzkRYPJYXGYwNIZ7ZWfnEbviEeeVm0p5vAO0SYiYm+yvXYUorYUFIVuN8xEntVIo9YYrcsoNCdnqU05q26CrmFfjGQUL/uQS2NK1mJ21iHT6kJQweVsLW4AkaVM8cjVjRBGPIZoLddBImhapQ/WqkUzRwhRJvveUSk+w+Ezx+tqSGL2K0vueq3hGdcWNc0Z4hLQGMrW/kzR6zcEfEQNnrtY5jvFGSfhMiiROmNAr3fEM/CToFJKwEs3Zqi1/TTwL2beWBWtf40hMnFR1wbysPaKVTHrLfSB5iBO4ujX4BqZ1QsjGa/xB6mrqN44zn/RdoVPpfF7oigofrnSxnw8Wpgit9Xm6p3zVtEcvYagleEVZF38TqmeT+putHsl8bY6+RZeivCVqNN2m/abffz7nO/uSrhFr74obR790FcZRUy4sgqer8krggceWcSLDpDXSYIMK26bC+782cr/auIFzqv8Je138HOpVauD3f9KLVsj8kd45CCZ01vDJO1foVP6+KHEG2bSRuJL6MOcJ+cwsI85FJVMQp+PAWjCnq1d24gTuadAP0qvchvtzw8rC13x6qsulFNyLDhJc5SZONt8lSIeCQkW3WZ6EEIm93XEc0OwR2bS4DiRFjcp2f+uIkxnklHykK8DWpGYhQsieLvM1oq5AYt/1b6BMW17PyQj4H6lVvjiJk4rRla7r38SkIgpEXKMoQA5vp0KADbAElUaBxOmAuV24yJPWOTNxUmNYTRtTqdnoue42G72Wtz53FNLo//BgYBI6Hfc51xpeRrJ/cxMnU4iJ1lzWj6H2l+sT0XyhR/ZfTj7sN9/y3J7YXEYIka+RQVaQpFkLkjKU0z/bOuJkAQc6fJlobk3OtXYdzECPmp0TI+QrO58cP2v2edtX2NKKain9r4nTBUx1wU/DhrfMMMnJkHcLCJjt4Jx+anfOeRbToogTtg+AqODWBNTRMIOIBGtelfFeAgJsMZSkbCuSONOVyK12RuKkY8hXcrL9WIQQsUc4t8xV3mTeU+EVrvf9U6GT98EVUL+8xOltceNNTOZp27V4028W/uoBJ366EBbaXbxPXbpbzlWjCWyBa0KygM5wHGfbiJMpIblz0NwcPI+OoyArUJWMyDLqCVu1tzINsMuOHLcL0K+KR2n6voZPeJ/u8zMHrV3BTqqCiBP85sIfDoOXfoIJpo30LcKU8JEmLe4dp0jidNj6siVzZhN0TCbitMeva+TPgelunJoND9j8nSBcC4p2b89ct0+WVbr/pw6NC1rKGJ2AhwuUVJZbeV7iZNpvDp5gVybVJ139cjq7nU0vB9pT6ufk70ml1BheH4Rgv4aQZwnuxG7p3GG0LiRDrcj9Y9uIk7aX63zAtvBXmy/18a+Z9Xs6PtWaVG/kDTnQxwhj8TjW8Dn7bgIrtlinsIWp8sZ3xrKNN2B9ZDIuIcpj+rN1ItP4xnIN37gz+k931GftfckeZQlxfj+mtk8W+Y9uUVXVvWO/uqGSwOcgtlBYbMarlR+iJFSfh/uDDRuJHyxreqHEyQSVPP53WYjzR78R1HkuyB+WfpvYo6A05znp+Fv4ZWSzRItyEieT+eISPExnjaNxWKU2PYatSFRoloqbtB1zo0ejIXAnU7+dzONRDTlQuA/XhqRfuaUuchPn3LaspA0hd8lJ8oZUpUuZHHZKtlWDEzeHrp8a2rewU8vPY7r7Elx+ZOImdMDsjO1uklpPmSEz5bbgpfpV+rKEOKXvBR/CROGtKoIP/GAIuWIeBXPCa4YAU1QkRgUolDid8Ws6KcqdP7gdlJ44KTnXXoec5bw2CL5t20qeUbiVKuimfaXVRFuVF7v4Y/KoX/rcd272b6W9yEmcrgooZjOmuyl4kQKpcZsqi+jnLVE7z2ejV97+M5lyydW9x2fqNSJJEV8+GHc+4vw9bIEVv/GGZzmGscCiThIi2QI7Gx7AHqh6T5iLcFjlJE7R4t14o3BdIYwjGqbKdOjySOIdBtH7YPlF6OYu4YJCKO8K21nKg98jWfjcNEWCakogUy7iIcTkUfDeLyeovfVrqO1KVy1p2rWRaRib+Co0UR090olNkqEXmPJMto+TJU9ZaChv+JGWOMExxP1m4v9o3+I5g4+AyFgST178HVAriekETBe0KSK3cli2i2kVKjx57xNSHBXBnWfiEIwi4hSBA14/nfNRvyZ2dJqbF/80CGloJ30Ws0I8M4qIs2QkZ5OJYMN81mDcsy+dqPlO0AmL22K1P92My/6Ee0B9awUJaCbDvTUbermINUKzi467rXtRr6SrqvZNyFwi4gzXLPCLrsA6w//6Ne76DBK6Z9cf6DqN1yr2m3UtynLdRqDoDb5cbL7iVtIPAlPpXEQC7RYf1N443lMb9UYDxglvvuVW8T7dTMlh94o4YeXVOplat1bwP/OU6W0WlrZFRzGto9xffJG6hCuqlRLTCVVvurF2BW7lzDkwEFEzSx0LljiFRYMaoN5QRAuUuTmkniDV9hn1o3C3E3B9RmgRAuIsGcnZaStBP8PWE8vsesoncd5Njp9VSUU9/Cz0IbOvj/cfEWX3UBw60568368SRf33wnMOEHZn7EHBEmcsf+8GRbjWqCsc4QmSwNn1RNntGXeOv7tJ5PvtennwTCReeffhX7b5SiJYOxaL4kt9hMLRgEsKak93MsD2fyTOpG3ZmyFxUuEs6MDpD3umkyFEDY8bql372k0IiOVnUsoFjOmkKJ2erylP72SPaAMWnlDZapmTOFmhcRunuHD2IcXxp2+wSPGBuNuuICJ0a+TaOEtHcnOJUwz7qp7kJE729XFsnMJ6s4mGa952rG8a1av4xwD4u5tEzmgbYuMUNjbVA9CxJe3U9HzuQmcuUXwCC27XcSFwJ2dQe1rtB0yc0480wEbCGtpDoCjiLNPGSVejgoiX33tuBLtAZKPpx33fYw3c57oXAkUcG7+leNXCQQ3CFbH/4Xju9SG38p/6/p6q7sJZfRB5pPtF2gA/t8BFTuJ0t8bynBECmQcv4UPi+cS7rElCB5N57RUIFmz2DJdePpJInMEODV/nJE6HfZgZZD7oep5dw2XN8FES3oozvEnDq7q7PgvMCd6T+/MvbL4SGXECzfDcjD3vKvqI+kYEtOjLB7UPlPeAidO1jCQNG4ZAQcQp0LEFABddJtk42fy7d8w/38q1ycU338D+GFFgLVFdCrvP7Pbt46/j8aX8v4veM9eWFHEBABcvJbdKJC9xMpsZf/M4Fx46jOLzI5zlSc23B/7eIfa2951XNCN+GJPn0xvwy18Fkkic3J6Fm3mJkxlWhTr5eIG0oLhfBj0WkX4fseM8PUkr/orjRjLj5BYvdWPvMHV0+/0oaQIZX7zZ92YQ/plLrrOoPE5haiAeMHG6qz15kJaCJU53H6c8/DK3c4TEaVvW7Neo/wycLWrdixsWPNfLxKbGTvNL143zvqeNbugdm03H7LsVaXK8PMr6d+Ep7g7pdP8El8+MwIJ3slU2L3Gy8IkkWVZ2q0NXTFE9rceaC91aoO6uEo9r/Y1HDloJkkicgf6JXOYlTndntyByUKQQx3HoCjiqp/VYk3fEpsNCGXBDiMgiB8VL3sg7njdAuonDT8Xb/1pYUHsG1EMmTrZwF6z26BaNW8v6PTmmp6BTM+Dx9Yw53Lik48r6NNns+tj1yPvzePIbXuRuKpOWKB+ZAuK0x9TCF/oL+UAbb7nei+6HulYD52Jvcqj6KX4sFJjLGTjduK9xQVDeFfCULXXTxqqFjo+wrEuNj9pDrkeLbfQgzH1cDcU0bAGf23KQjAfyfqyQR41wMG4/ljeAwhQbq3cOStFfJSfJTZzZYtWCA3mEZRl5KKpgK46/Dycafo9ZQMXeuSUjVkD2sPkqxXwRTxL30WNTs0j3Fv8WQiHpVXUv/CF48lZuTVgB6JSYBRtyYVORW5yrU41Dvojd4a7/eElE+9dXGas2DW6gnVCPf6ZJu5FpQPZSP+SPbJJb4nSynI4CHBnT686t6ZUxDe9xD6FsTQ2qwZ7MQtpaJijwzKWhlzP+SIEkSpxiTHMTp+v7mu50FDg/J77S/z0ZX8us+7NragcxbgL2PMdxoMdluzzFrX2AT4oKau9B85AlTgf2o5P0+jYPlLz/Mntc9zI8gNPlJpA4070sSAXaCbb4uhtrT/vZ930LMl7VbfPTvnfenj0+4ge8ltdlNedx0n3rWVxwZXVmfkNFa9fTILkK4sTzOCV9z2TEgk7VBb+hhN3Pkro8sEfMwFlAUHsPl4dNnGlPBfbQWOpfdtpHXEmQLtMyiJMuk8EV3jaO1NYpV2OYrnZrSgWjk0aut680NepfU36dQDPpn4MmLg8s23mPy45kC+Egio/cmwbJVRBnpLXb8RN07wJ/+CACICO2ODHZg4nSXd/BOc+5jBTpCrhfqQoLau83+4ETp8PMQ0m7gHw4lrhg0b+53m1pci2DOB3zrNN43Gz9td89nYTCq6ap0SakMYed+k7zoL3/cjCR6DxLqyrQWNLoAQ+sgElyidrAfBeJp7hEdoFXUyApI870wbgDZeKliwA70CZpNzNsAyhGRQ/jtiWOjLUlPVNCUHtndvGvqu6xIwUJO6D78LNMkX5fsYa5KIXYsFz72KeRd5u+4zilEOdybcK3vdgF8invRm/GY33lAQ9OzPC3t+fJYal3ZMS5VMb4Mpy6VYnGtYngYp40455ikTSpfsKW3/uoYUrVOky0KgTsK60hihxQUB3oCi+8NTlrxkicWRFbVfq7Sf+pEgpfUE7J5mlLqXdH61u82j+Gg+s89vly8HhouUKM2dhGzMJbeWdodaX1cYodWTi0W5ih+fmwsRyxSUCjxFxp6T+XGqpInBKE1/1obo5OhuXqiu3Z+GRgrEMdvW5wt6n8m5F+Vu44sn4Mlz2KZJs6BNuaiID1faBfzpYiN34Z1uRMH93wn6W/i8SZHitMiQggAogAIoAIoI0TxwAigAggAogAIpAFAZQ4s6CFaREBRAARQAS2HgEkzq0fAggAIoAIIAKIQBYEkDizoIVpEQFEABFABLYeASTOrR8CCAAigAggAohAFgSQOLOghWkRAUQAEUAEth4BJM6tHwIIACKACCACiEAWBJA4s6CFadeFQPlb+DO17MHs9y9sm/m2RdIoLTiJ/Xusnxr3MsR3pk/onidOJk569Db3+OxAy9OkWSS3TXoe5HezhKgQi0K4VxCEmhQTGJ1bAN4sAQH7p96qlB80LlPNIcJc891k9WM4UzXliWdfuwUGNoPYjYcX9+8wJDlIvKd3U/2gtHCYc3NwoDT+uTBDx+XyqoH31odAInHC0dsJ5wSlSRNoIhybRRLyDKQv6pKdEU0IqWn37ojQojBYXT43epN3GHvk2FjjjRJJ1XgfPj/cHLSSwpSvrlHBktYU09w84eM6DnG40atEcY0cLF9CKO01nxYQ7JwSr4HYiOQAhvlsfNLTr5aIYwknhKwgTnWJKD30rLeIOIMzTu5j2B76eCiufXPburWsm2HbncDb+q+ZdWvZkXX0nWX+120QQirq4cl4+jus3Zibgz+JbJIqrr45ckp1+luOfOWv2JZ1a5lnHq7PdQpaTCdk35qjVxRXZfdQv5zOIsjfjbUaKf7wptWcCSXHp+Sn5qcWIfwj/2zLnJz3W4/pWlA4w1jT0ftOE9LQ08H+0gZXnAMW4LTIFGepltxYzF6EgIA4LUN/0+vR/7qtGiG1Vtf9yW5G/h9JoycEDV+LxGkbWo3U6g1XwMl78LcIx3t5f27bITGljEbAaduUO+nB4Nw/+0qrEb4mNu1RzNx8V3CT8URBZ4lnqy+cPk1xfT0WvAhnAvNPiyvxuGBYTDR630sfWIJWl3xbcMg8DFTaG9XHO2yG4ROnOWw/UtR/dePGsm4mw7f7VVhWVp8Po4pZdmBkvYe6sZJ7NGf2AuJk3Aadmv1/rcFvaW3WQZwwspv6r6n+xG1Q+3wJXYq0ffflIT3BuPRJH9T4FHLBqJhP+nWB6DMH0t3sJc7kLV1X9q9X3uf+FyoyefzoCw81vAU1wPNhKR9AqZmvHOZIgcLuBjUA1aZ4/cIjTvot7Pw7CsIO8iv9PBrvJpGyrHOqVMBpKgLLhvwUEOeidmnsl4I0Nxcgs0bE017vFRVixVJsksC6qFvqK5iClVfUDGR97rhCZ70/EchAqfO93wnpYkI07RbXMuOIrVSU3ndOpnTiEBzHbV92FUJqsQmFk8sab4Hkx4bWamthaAzXSs+IFwwqbtHx1Mxm0fkcnMDjWeS+Y138Tagyc+mTm3LXoKwXmZNErR+luGB5EuL8pavQZdV/LhbQ26Mu60fSHUWkdOuiQ6idYhvcrYIQ3ovrMonzyv203YGR9h+BaLIEnLB288wSTI6hldl2E8JqiHP6kU0XpPs1MjE4zu9hq6K0zjg2Hsexx68UQhTtaomOX8Grc0OrEFLphn1zVlDwVN9jX1RswnWc2VlLqbSGfMWPCUqX4r8yv81Mb/nwfNfZSk454ixU/LbLJM7vPXfJTrRAFr5KJr6yZI8e4hJkgdd9vUpHnGlsnHHZBYiTM/GJVbUgnRT9STNl4N+LVR7TgdBZZ2NXc3dT/Tk1fyiPW8fXtmMZ+osm/V3Zab0vbAtEbuK0fgy1vxpgnqk2X0Q1BJMP+823C9MMVQjDX0x5ZV38rZA/B1HrjvspMeNoZ9FtvE9s9u2484TZiZSdg/6YS8G8F4u7xwSsWv9HcVmmymk2PHBxjVpGbi86FdL6JBBUmBwjF5sce3quMScXQqrNl4PpXao6uYmY/TXwxWV5eXPTTt5RTVmCpC6ROOdT/VmVkOr+h+AnLCFOJ1WJmwvYQ65ZOuKs7Kh7quS/nQrhKP02gzjBPy1shQJHIZh1lMjuiM3oatt401AOBubNYB/IcueR0vo4sW6ng38ahKj6r2KqmY84zdM2Yyo2bdP/B5Xe1MQVRttXPISX6tAvnhog3iA2AUnnd+vLYZUAMnPHsSb6gbKWlRCb3QRyc7xhhd3xdOAkvDaFPSGSzRKsO6SsNnmvKqTR/c8Eo92oWyfZdNGMm7k65MJav/qMGMMlrZAkxMmtMtNY0K+Is0a0PlNlrfImIKByM8GbK0cgHXHGpclQRWFIxdNsBHGCYirmB8G0SXS4xqsdalqqH8bbKJUsSEV09WwgkAgch847wD0mECchsKOLqS6pcbgo4SYHcQLbkeqTLuxwmE0vB9pTqn/ypUnqPRFB22sFCU7WttGrcxwiFnCz+V3SO8zg5OsMqL+i2AVpkW/xV2wsrX52Mz/RZVVEBrK/9xqkIRkh7sgPL2JCoMAGXJ8p7aueSreEBrWLoeS8H8z+2hquQQHAq04x99xGReX7SOYZiZN9UPSrPlooaRZZsq+gdA++RYF4lRKBB06cYJaoaVcx65ofDCEiHqWErcxk9tcuqWjG3KEX9K89vHUcxzbeqgpRdv6Oea7nrUxm4gTzcONoHIoHNp8eP/GU3nFx02HrAGjHH4u1wuRdQx6Ggq21xXstPHC8zRhMIawEisiLSvb3voEt/2XUtyN7RtnecCEiZN/XyoJVgj8Fe3kz+Xjxinff/5fZpP0ELEJF9XUmG645+IMUqBrx67bOCyZGi3dVuXXLRJzQX/Tb4O8achy26NzTwzFB1gkDls0QSEec91VVKxCFoemLeAgRCSk4NO4sK5N1J/hu7msawJAyPZvjEmTiOY0zEI0qkK7ozMT5vadwvWCuNAW8KCmkvgi4qIPn/+lLLRBzh+MrtHjFSRSM3ASkuv9SH15NZ3e2zcVhmR6c2+bVcftRktE9UTgOtKvIS1YuIcQTH+keykp3JB2xTMHrawji9XE1wBW182YwujatO9u6ja07HYePtpuda7cL65DjRd2rOy4jJkneGYjTNo5YhIqeIeqylIXeKyAfRmXTEecSzkHNFxm2o3ToJsukeSo98Nf9GhFbMWH3OohCItUW+KdIaDV9TfKkZMt2on6ULTdB7AjbFGNlTd7T7zPbn0STHMvfATtN53zUr3HRdhviWnGkOyX8vBOJ04mG9FPU16NZdH+RvAdt81oQMHl2cbinNuoNarwn+wtJ2a9f8CIFcc6+dDJp86tvU5i1Ijpwc9AiSoLriuMkEifzHQ2Mlmr7ZBplTnD/EW8xROJcGC+CIyV4TUP7ElJ9rsscr5A4g5Bt0nU64pSYmmhjBIKdvyIOfIUpLosiTmv43FMhChCnCkP448ceg9lB/SDjLUHGRdx2VUPy/RjMpfNQLmSIapNZ4hRlBAOARmXiBytglXQZSLpTYlFAMnE6jvVd7zx1A7WwbozSRkIPGlqC5o0RQAHEuWhYgVfuCCGEKqhnwwNFSWEMSyROx3HM/7R2PUj00ZUl6ELUSPDbQMuQOBOIEwIFk8ar+FIvgKLjh1NIEnPDL+GvFSBQOnFy1DVsGcUjY/iqCyJOSeQUH1cW5YROupzNUmDsUbRvfurVXjDLWXxbdLAWbPe0cEdHMCnnujjidOUYkXDsav8I0c6lOyUCdXTtu54JM/CEXlq/jPHV1DW1zu3Z9eCwDtTpKS1Z+qQeLIg412TjdJyFDnxIw3q0EiRjACViwowAO7sej689l565bV72mhAsPqzahS2kFWEMRWqae3g2TjdSgaTVgGUKVS34Wymho3XmRn+vxfGWRxtnZIBuzE8+cbrrfZiL8vyPzV8i85uYOJ07GsA6n8UuDCk7qCE5NhDE0KJN9N0IHccavaJ7bxrUS5NU66r69FgWK8RxCvaqhZYkGDh/6vt7qroL8hZYoLtfvPkuDITkV9HEyVl8sNJDw0myUyJYV7ZbnLe68nWJQfmSuZh6zJ2yB4shTrd1Yc4ONqW0a1ewY19oU6rS9+vgbqvl1daz+ofctsevafauQdoadem2NHcLb2NPbX7gfhnpHFD9Ot2PC3bgTNKyPpE46Wk/SutjWPtNgwrxnJBTWAHuB3gPrpZ84rSudH60PFmo94At84twqwUFUEKcReELBrDGq+H4cpzw38nhDpt4IrZVpgfLK8wt3Q7XLigPOAfkml8mLpg4eSTHcPDcg2lITslOiRBosyGNm8Dbx+nKr6HIOBBLIXMPFkOcbIkTlslCTSnthz166Y7d0FZaeXlsRRLcGuSm92g4GFicuX2Gj+Fj3rzCAAsLP+oHpmBkESdCqwoO0nLipMe4kp0X+ig8Lw3oOTYcuFzHad4qh1M03lohAnzijFfAuh4c7kZ1QfbXbvVxSzs1BC4W8WzgTunE6W959LZlnmUAAAWfSURBVKaVdP/W3gaWzzC/hO4IWlPKbVcvJDdwsi+ZbVbJU4viiJPOuZ60x6sJCyVDSOMNb7Ma7w3HEUYOAolzp3MO2/Mdx7kzx2+aCqm2z8LLteQeLIQ41xU5iKLmqiVIltNI2IqQtyIBibPZv5oxlY89m9CAGxW1F97NBRtUpP5orLs53Mzv6ftyl6Ed1HMsag7aNXrc25cuDS9ESO3lhXlL9WcLt/y7SR82PfNnI966U1biomy8WgMCycRpXQ81GikKTkw8D1KkPTnpNEGfSUPBHQ3S8mfZxOkt+vgDVHZ3QUJJ5rGSu8qeHP+l7r+UngK/nIGT+nQVFeQd5mL+hMJwYj0i2qzGx1IWq3Z2ebxwC3rU2H9xPPq1iJvN8ov34PSkFY5+1agSZWc3FBKrdRL0BWNCmNQ5aG2xamkrmZY444nH4li1c2tyvnALUh6r7aOBEQ14m2jgdGu1XbFqJY6QvrwoScMPD8SGn9ACwv9u8O5KEBAT59ya/nfc2YW4xJWd1ttxkDMXdaN73fSuGy+UVJ/xz2VdpF+NqjZUXo4fS3mr5igvzysJLqPJWRZFnKCJlauwbPNqPIlOwQk1ZLZMubJanEWaHixC4oReCBjIxTUq48mdaVxOYptwEkpitkzZQkeSARNY/5FEe2DIP8TpPs3pKBLosj5iUHM2RmfNCNMXjwCfOM3zNuxgo1Jm5/1oGl3Nc+ph/Rr1D7xDXPnnXXhvlS1xeuXk/3c+psFg2A7OX4P2i2FYCZg/4wLfBHcYpjGzx0fNfliflqagos7jNI4UyTnVaWrCT7PMeZyperAA4hQe0Mhv0mbcZc7k+TYogwsx28E5/dTunMe+jGUy3wx4JLVYZXfjeZySjlj7Iz5xOvZYq7e080kouFqKytrmuP+in2DI2nzihBrSqGNzc3CgciL2pYCi7CTgI0Od4+0rTT0QnTFSdi2ooa1fIyUdiA2qyFynv6XqwaWJk8XQ4FmnVoD7EkXYxlGNbsHKfloA9Ajors1Ba1eLh7yh0YsIL8jlEtXdoFdhXPG3fRdby/mUnv4WdssqtgTMbRkEBMS5TJYP4V3beNvc2d1vP2v3LzNv81gRAOawU99pHrT3Xw4mKVQCZdUK3F/LMmix6SPlDpZQC9P0oIQ4jWN/tw8h5FFD3VOPYwdxA0lEPeZCtdjYH0D5eQjgzug/3VGftff/6o/junfItpYtsO3GYsSvGHR6njUHPzvBXXamk/YtGrJJkBxvrxoBJM5VI/7QyrvRm5XOBQ1DX84f3fdGUm5SzFgDCXGmyAki7rZOY7rKFK9uQhIIXpNLmhfWnm2e5oihwjfu4wOqhaIH2E2j8R2LawysPzL6fBVXOuaUAgEkzhQgYZK1ImBf95uVRgkK89noZCQ4RjupwXRDXmwbe9JLm/bc/HzYqBQmMdPgq/XuaFMVNEWCDxtLyiI2IObkaHxFtgfzyowAEmdmyPCFNSBwM9LP1qmQjjTZ+jHU/7uvsmawLdb3gX45K0AhaM/GJwNjjSaDYKtWcD03RyfDMkak/XusnxpZnUtW0GIsIogAEmcQDbxGBBABRAARQAQSEEDiTAAIHyMCiAAigAggAkEEkDiDaOA1IoAIIAKIACKQgAASZwJA+BgRQAQQAUQAEQgigMQZRAOvEQFEABFABBCBBASQOBMAwseIACKACCACiEAQASTOIBp4jQggAogAIoAIJCCAxJkAED5GBBABRAARQASCCCBxBtHAa0QAEUAEEAFEIAEBJM4EgPAxIoAIIAKIACIQRACJM4gGXiMCiAAigAggAgkIIHEmAISPEQFEABFABBCBIAJInEE08BoRQAQQAUQAEUhAAIkzASB8jAggAogAIoAIBBFA4gyigdeIACKACCACiEACAkicCQDhY0QAEUAEEAFEIIjA/wFyo1fNOFXD9QAAAABJRU5ErkJggg==)"
      ],
      "metadata": {
        "id": "59ELo_MHncRf"
      }
    },
    {
      "cell_type": "markdown",
      "source": [
        "## 使用矢量化环境\n",
        "\n",
        "当你计算两个神经网络在一个epoch上的损失时，它可能有**很高的方差**。\n",
        "\n",
        "在矢量化的环境中，我们可以并行地处理  n_envs，从而获得线性加速(这意味着理论上，我们收集样本的速度要快 n_envs 倍)，我们可以用它来计算当前策略和 critic 网络的损失。\n",
        "\n",
        "当我们使用**更多的样本**来计算损失时，它将具有**更低的方差**，因此可以**更快地学习**。\n",
        "\n",
        "A2C 是一种同步方法，这意味着网络的参数更新是确定的(在每个采样阶段之后)，但我们仍然可以使用异步矢量 envs 来生成多个进程以并行环境执行。\n",
        "\n",
        "创建矢量环境最简单的方法是调用 `gym.vector.make`，它创建同一环境的多个实例:\n",
        "\n",
        "```\n",
        "envs = gym.vector.make(\"LunarLander-v2\", num_envs=3, max_episode_steps=600)\n",
        "```\n",
        "\n",
        "\n"
      ],
      "metadata": {
        "id": "vRLeT07is4Bu"
      }
    },
    {
      "cell_type": "markdown",
      "source": [
        "\n",
        "## 域随机化\n",
        "\n",
        "如果我们想要随机化训练环境以获得更健壮的代理(可以处理环境的不同参数化，因此可能具有更高的泛化程度)，我们可以手动设置所需的参数或使用伪随机数生成器来生成它们。\n",
        "\n",
        "\n"
      ],
      "metadata": {
        "id": "lk9lbdgsuCeT"
      }
    },
    {
      "cell_type": "code",
      "source": [
        "!apt update\n",
        "!apt install python-opengl xvfb -y\n",
        "!pip install -q swig\n",
        "!pip install box2d==2.3.2 gym[box2d]==0.25.2 box2d-py pyvirtualdisplay tqdm numpy==1.22.4\n",
        "!pip install box2d==2.3.2 box2d-kengz"
      ],
      "metadata": {
        "colab": {
          "base_uri": "https://localhost:8080/"
        },
        "id": "ClvMfGqa6HYY",
        "outputId": "49b6b1c4-4c2d-4d1b-edb9-a6a96917833c"
      },
      "execution_count": 4,
      "outputs": [
        {
          "output_type": "stream",
          "name": "stdout",
          "text": [
            "Hit:1 https://cloud.r-project.org/bin/linux/ubuntu jammy-cran40/ InRelease\n",
            "Hit:2 https://developer.download.nvidia.com/compute/cuda/repos/ubuntu2204/x86_64  InRelease\n",
            "Hit:3 http://security.ubuntu.com/ubuntu jammy-security InRelease\n",
            "Hit:4 http://archive.ubuntu.com/ubuntu jammy InRelease\n",
            "Hit:5 http://archive.ubuntu.com/ubuntu jammy-updates InRelease\n",
            "Ign:6 https://r2u.stat.illinois.edu/ubuntu jammy InRelease\n",
            "Hit:7 http://archive.ubuntu.com/ubuntu jammy-backports InRelease\n",
            "Hit:8 https://r2u.stat.illinois.edu/ubuntu jammy Release\n",
            "Hit:9 https://ppa.launchpadcontent.net/deadsnakes/ppa/ubuntu jammy InRelease\n",
            "Hit:10 https://ppa.launchpadcontent.net/graphics-drivers/ppa/ubuntu jammy InRelease\n",
            "Hit:11 https://ppa.launchpadcontent.net/ubuntugis/ppa/ubuntu jammy InRelease\n",
            "Reading package lists... Done\n",
            "Building dependency tree... Done\n",
            "Reading state information... Done\n",
            "136 packages can be upgraded. Run 'apt list --upgradable' to see them.\n",
            "\u001b[1;33mW: \u001b[0mSkipping acquire of configured file 'main/source/Sources' as repository 'https://r2u.stat.illinois.edu/ubuntu jammy InRelease' does not seem to provide it (sources.list entry misspelt?)\u001b[0m\n",
            "Reading package lists... Done\n",
            "Building dependency tree... Done\n",
            "Reading state information... Done\n",
            "\u001b[1;31mE: \u001b[0mUnable to locate package python-opengl\u001b[0m\n",
            "Requirement already satisfied: box2d==2.3.2 in /usr/local/lib/python3.10/dist-packages (2.3.2)\n",
            "Requirement already satisfied: gym==0.25.2 in /usr/local/lib/python3.10/dist-packages (from gym[box2d]==0.25.2) (0.25.2)\n",
            "Requirement already satisfied: box2d-py in /usr/local/lib/python3.10/dist-packages (2.3.5)\n",
            "Requirement already satisfied: pyvirtualdisplay in /usr/local/lib/python3.10/dist-packages (3.0)\n",
            "Requirement already satisfied: tqdm in /usr/local/lib/python3.10/dist-packages (4.66.4)\n",
            "Requirement already satisfied: numpy==1.22.4 in /usr/local/lib/python3.10/dist-packages (1.22.4)\n",
            "Requirement already satisfied: cloudpickle>=1.2.0 in /usr/local/lib/python3.10/dist-packages (from gym==0.25.2->gym[box2d]==0.25.2) (2.2.1)\n",
            "Requirement already satisfied: gym-notices>=0.0.4 in /usr/local/lib/python3.10/dist-packages (from gym==0.25.2->gym[box2d]==0.25.2) (0.0.8)\n",
            "Requirement already satisfied: pygame==2.1.0 in /usr/local/lib/python3.10/dist-packages (from gym[box2d]==0.25.2) (2.1.0)\n",
            "Requirement already satisfied: swig==4.* in /usr/local/lib/python3.10/dist-packages (from gym[box2d]==0.25.2) (4.2.1)\n",
            "Requirement already satisfied: box2d==2.3.2 in /usr/local/lib/python3.10/dist-packages (2.3.2)\n",
            "Requirement already satisfied: box2d-kengz in /usr/local/lib/python3.10/dist-packages (2.3.3)\n"
          ]
        }
      ]
    },
    {
      "cell_type": "code",
      "source": [
        "!pip install gymnasium[box2d]"
      ],
      "metadata": {
        "id": "z1F7RgiQ49xp",
        "colab": {
          "base_uri": "https://localhost:8080/"
        },
        "outputId": "0af4f9e8-e7b6-43f7-a636-58bdfcf9b85c"
      },
      "execution_count": 5,
      "outputs": [
        {
          "output_type": "stream",
          "name": "stdout",
          "text": [
            "Requirement already satisfied: gymnasium[box2d] in /usr/local/lib/python3.10/dist-packages (0.29.1)\n",
            "Requirement already satisfied: numpy>=1.21.0 in /usr/local/lib/python3.10/dist-packages (from gymnasium[box2d]) (1.22.4)\n",
            "Requirement already satisfied: cloudpickle>=1.2.0 in /usr/local/lib/python3.10/dist-packages (from gymnasium[box2d]) (2.2.1)\n",
            "Requirement already satisfied: typing-extensions>=4.3.0 in /usr/local/lib/python3.10/dist-packages (from gymnasium[box2d]) (4.12.2)\n",
            "Requirement already satisfied: farama-notifications>=0.0.1 in /usr/local/lib/python3.10/dist-packages (from gymnasium[box2d]) (0.0.4)\n",
            "Requirement already satisfied: box2d-py==2.3.5 in /usr/local/lib/python3.10/dist-packages (from gymnasium[box2d]) (2.3.5)\n",
            "Collecting pygame>=2.1.3 (from gymnasium[box2d])\n",
            "  Using cached pygame-2.6.0-cp310-cp310-manylinux_2_17_x86_64.manylinux2014_x86_64.whl.metadata (12 kB)\n",
            "Requirement already satisfied: swig==4.* in /usr/local/lib/python3.10/dist-packages (from gymnasium[box2d]) (4.2.1)\n",
            "Using cached pygame-2.6.0-cp310-cp310-manylinux_2_17_x86_64.manylinux2014_x86_64.whl (14.0 MB)\n",
            "Installing collected packages: pygame\n",
            "  Attempting uninstall: pygame\n",
            "    Found existing installation: pygame 2.1.0\n",
            "    Uninstalling pygame-2.1.0:\n",
            "      Successfully uninstalled pygame-2.1.0\n",
            "Successfully installed pygame-2.6.0\n"
          ]
        }
      ]
    },
    {
      "cell_type": "code",
      "source": [
        "# 手动设置 3 个具有不同参数的平行“LunarLander-v2”envs:\n",
        "\n",
        "envs = gym.vector.AsyncVectorEnv(\n",
        "    [\n",
        "        lambda: gym.make(\n",
        "            \"LunarLander-v2\",\n",
        "            gravity=-10.0,\n",
        "            enable_wind=True,\n",
        "            wind_power=15.0,\n",
        "            turbulence_power=1.5,\n",
        "            max_episode_steps=600,\n",
        "        ),\n",
        "        lambda: gym.make(\n",
        "            \"LunarLander-v2\",\n",
        "            gravity=-9.8,\n",
        "            enable_wind=True,\n",
        "            wind_power=10.0,\n",
        "            turbulence_power=1.3,\n",
        "            max_episode_steps=600,\n",
        "        ),\n",
        "        lambda: gym.make(\n",
        "            \"LunarLander-v2\",\n",
        "            gravity=-7.0,\n",
        "            enable_wind=False,\n",
        "            max_episode_steps=600\n",
        "        )\n",
        "    ]\n",
        ")"
      ],
      "metadata": {
        "id": "ifDmu5M5s1np"
      },
      "execution_count": 6,
      "outputs": []
    },
    {
      "cell_type": "code",
      "source": [
        "# 随机生成 3 个并行的“LunarLander-v2”envs 的参数。通过 np.clip 保持在推荐的参数空间中:\n",
        "# numpy.clip(a, a_min, a_max, out=None, **kwargs) # 将数组 a 中的元素， 相应位置 小于 a_min, 置为 a_min。 大于 a_max, 置为 a_max\n",
        "# random.normal(loc=0.0, scale=1.0, size=None) # 均值， 方差\n",
        "\n",
        "envs = gym.vector.AsyncVectorEnv(\n",
        "    [\n",
        "        lambda: gym.make(\n",
        "            \"LunarLander-v2\",\n",
        "            gravity=np.clip(\n",
        "                np.random.normal(loc=-10.0, scale=1.0),a_min=-11.99, a_max=-0.01\n",
        "            ),\n",
        "            enable_wind=np.random.choice([True, False]),\n",
        "            wind_power=np.clip(\n",
        "                np.random.normal(loc=15.0, scale=1.0), a_min=0.01, a_max=19.99\n",
        "            ),\n",
        "            turbulence_power=np.clip(\n",
        "               np.random.normal(loc=1.5, scale=0.5), a_min=0.01, a_max=1.99\n",
        "            ),\n",
        "            max_episode_steps=600,\n",
        "        )\n",
        "        for i in range(3)\n",
        "    ]\n",
        ")"
      ],
      "metadata": {
        "id": "SbO_y_sys2G0"
      },
      "execution_count": 7,
      "outputs": []
    },
    {
      "cell_type": "markdown",
      "source": [
        "这里我们使用正态分布，环境的**标准参数**化作为平均值和任意标准偏差(尺度)。根据问题的不同，您可以尝试更高的方差并使用不同的分布。\n",
        "\n",
        "\n",
        "如果您在整个训练时间内都在 n_envs 个相同环境上进行训练，并且 n_envs 是一个相对较低的数字(与环境的复杂程度成比例)，那么您选择的特定参数化仍有可能会过拟合。\n",
        "\n",
        "为了缓解这种情况，你可以选择大量随机参数化的环境，或者每隔几个采样阶段重新构建环境，以生成一组新的伪随机参数。\n",
        "\n"
      ],
      "metadata": {
        "id": "_g7bTHZpDlka"
      }
    },
    {
      "cell_type": "markdown",
      "source": [
        "## Setup"
      ],
      "metadata": {
        "id": "jTG8tWqPErZc"
      }
    },
    {
      "cell_type": "code",
      "source": [
        "# 环境 超参数\n",
        "\n",
        "n_envs = 10\n",
        "n_updates = 1000\n",
        "n_steps_per_update = 128\n",
        "randomize_domain = False\n",
        "\n",
        "# agent 超参数\n",
        "\n",
        "gamma = 0.999\n",
        "lam = 0.95  # GAE 的超参数\n",
        "ent_coef = 0.01 # #熵奖励系数(鼓励探索)\n",
        "actor_lr = 0.001 # actor 的 学习率 更低，以便 目标更稳定，对于 critic 更容易评估\n",
        "critic_lr = 0.005\n",
        "\n",
        "# 环境设置\n",
        "if randomize_domain:\n",
        "  envs = gym.vector.AsyncVectorEnv(\n",
        "      [\n",
        "          lambda: gym.make(\n",
        "              \"LunarLander-v2\",\n",
        "              gravity=np.clip(\n",
        "                  np.random.normal(loc=-10.0, scale=1.0),a_min=-11.99, a_max=-0.01\n",
        "              ),\n",
        "              enable_wind=np.random.choice([True, False]),\n",
        "              wind_power=np.clip(\n",
        "                  np.random.normal(loc=15.0, scale=1.0), a_min=0.01, a_max=19.99\n",
        "              ),\n",
        "              turbulence_power=np.clip(\n",
        "                np.random.normal(loc=1.5, scale=0.5), a_min=0.01, a_max=1.99\n",
        "              ),\n",
        "              max_episode_steps=600,\n",
        "          )\n",
        "          for i in range(n_envs)\n",
        "      ]\n",
        "  )\n",
        "else:\n",
        "  envs = gym.vector.make(\"LunarLander-v2\", num_envs=n_envs, max_episode_steps=600)\n",
        "\n",
        "\n",
        "obs_shape = envs.single_observation_space.shape[0]\n",
        "action_shape = envs.single_action_space.n\n",
        "\n",
        "# device 配置\n",
        "use_cuda = False\n",
        "if use_cuda:\n",
        "  device = torch.device(\"cuda\" if torch.cuda.is_available() else \"cpu\")\n",
        "else:\n",
        "  device = torch.device(\"cpu\")\n",
        "\n",
        "# 初始化\n",
        "agent = A2C(obs_shape, action_shape, device, critic_lr, actor_lr, n_envs)\n"
      ],
      "metadata": {
        "id": "aGgR9vELDlGh",
        "colab": {
          "base_uri": "https://localhost:8080/"
        },
        "outputId": "cabf9630-e903-4b5a-901a-24be57b17b63"
      },
      "execution_count": 8,
      "outputs": [
        {
          "output_type": "stream",
          "name": "stderr",
          "text": [
            "/usr/local/lib/python3.10/dist-packages/gymnasium/vector/__init__.py:53: UserWarning: \u001b[33mWARN: `gymnasium.vector.make(...)` is deprecated and will be replaced by `gymnasium.make_vec(...)` in v1.0\u001b[0m\n",
            "  gym.logger.warn(\n"
          ]
        }
      ]
    },
    {
      "cell_type": "markdown",
      "source": [
        "## 训练 A2C agent\n",
        "\n",
        "对于我们的训练循环，我们使用 `RecordEpisodeStatistics` wrapper 来记录回合episode长度和回报returns，并且我们还保存损失和熵，以便在代理完成训练后绘制它们。\n",
        "\n"
      ],
      "metadata": {
        "id": "wBsmGfkoKJtT"
      }
    },
    {
      "cell_type": "code",
      "source": [
        "# 创建一个 wrapper 环境 来 存储 回合episode 奖励 和 回合长度\n",
        "\n",
        "envs_wrapper = gym.wrappers.RecordEpisodeStatistics(envs, deque_size=n_envs * n_updates)\n",
        "\n",
        "critic_losses = []\n",
        "actor_losses = []\n",
        "entropies = []\n",
        "\n",
        "# 用 tqdm 来绘制 训练进度条\n",
        "for sample_phase in tqdm(range(n_updates)):\n",
        "  # 无需重置环境。 等到 回合终止时会 自动重置\n",
        "\n",
        "  # 重置用于 收集 一个回合经验的 列表 (抽样阶段)\n",
        "  ep_value_preds = torch.zeros(n_steps_per_update, n_envs, device=device)\n",
        "  ep_rewards = torch.zeros(n_steps_per_update, n_envs, device=device)\n",
        "  ep_action_log_probs = torch.zeros(n_steps_per_update, n_envs, device=device)\n",
        "  masks = torch.zeros(n_steps_per_update, n_envs, device=device)\n",
        "\n",
        "  # 在 训练开始时，重置所有的环境以获得初始状态\n",
        "  if sample_phase == 0:\n",
        "    states, info = envs_wrapper.reset(seed=42)\n",
        "\n",
        "  # 在 并行环境中 走一步 以 收集数据\n",
        "  for step in range(n_steps_per_update):\n",
        "    # 根据 agent 的状态 S_{t} 选择一个 动作 A_{t}\n",
        "    actions, action_log_probs, state_value_preds, entropy = agent.select_action(\n",
        "        states\n",
        "    )\n",
        "\n",
        "    # 在 环境中 执行 动作 A_{t} 得到 S_{t+1} 和 R_{t+1}\n",
        "    states, rewards, terminated, truncated, infos = envs_wrapper.step(\n",
        "        actions.cpu().numpy()\n",
        "    )\n",
        "\n",
        "    ep_value_preds[step] = torch.squeeze(state_value_preds)\n",
        "    ep_rewards[step] = torch.tensor(rewards, device=device)\n",
        "    ep_action_log_probs[step] = action_log_probs\n",
        "\n",
        "    # 增加 一个 mask (用于 后续的 累积回报)\n",
        "    # 对于每个 env， 如果 回合在进行中， mask 为 1， 若终止则为 0 【非截断情形】\n",
        "    masks[step] = torch.tensor([not term for term in terminated])\n",
        "\n",
        "  # 累积 actor 和 critic 的 losses\n",
        "    critic_loss, actor_loss = agent.get_losses(\n",
        "      ep_rewards,\n",
        "      ep_action_log_probs,\n",
        "      ep_value_preds,\n",
        "      entropy,\n",
        "      masks,\n",
        "      gamma,\n",
        "      lam,\n",
        "      ent_coef,\n",
        "      device\n",
        "  )\n",
        "\n",
        "  # 更新 actor 和 critic 网络\n",
        "  agent.update_parameters(critic_loss, actor_loss)\n",
        "\n",
        "  # 记录 losses 和 entropy\n",
        "  critic_losses.append(critic_loss.detach().cpu().numpy())\n",
        "  actor_losses.append(actor_loss.detach().cpu().numpy())\n",
        "  entropies.append(entropy.detach().mean().cpu().numpy())\n"
      ],
      "metadata": {
        "id": "r_rWxmRB4W0O",
        "colab": {
          "base_uri": "https://localhost:8080/"
        },
        "outputId": "e5679dfb-c37a-4da8-d3a3-f27a67b63619"
      },
      "execution_count": 9,
      "outputs": [
        {
          "output_type": "stream",
          "name": "stderr",
          "text": [
            "100%|██████████| 1000/1000 [43:11<00:00,  2.59s/it]\n"
          ]
        }
      ]
    },
    {
      "cell_type": "markdown",
      "source": [
        "## 绘图"
      ],
      "metadata": {
        "id": "oumVSTW5VcKn"
      }
    },
    {
      "cell_type": "code",
      "source": [
        "# 绘制 结果\n",
        "\n",
        "# %matplotlib inline\n",
        "\n",
        "rolling_length = 20  # 平滑 用于 可视化\n",
        "fig, axs = plt.subplots(nrows=2, ncols=2, figsize=(12, 5))\n",
        "fig.suptitle(\n",
        "    f\"Training plots for {agent.__class__.__name__} in the in the LunarLander-v2 environment \\n \\\n",
        "    (n_envs={n_envs}, n_steps_per_update={n_steps_per_update}, randomize_domain={randomize_domain})\"\n",
        ")\n",
        "\n",
        "# 回合 回报\n",
        "axs[0][0].set_title(\"Episode Returns\")\n",
        "episode_returns_moving_average = (\n",
        "    np.convolve(\n",
        "      np.array(envs_wrapper.return_queue).flatten(),\n",
        "      np.ones(rolling_length),\n",
        "      mode=\"valid\",\n",
        "    )/ rolling_length\n",
        ")\n",
        "\n",
        "axs[0][0].plot(\n",
        "  np.arange(len(episode_returns_moving_average)) / n_envs,\n",
        "  episode_returns_moving_average,\n",
        ")\n",
        "axs[0][0].set_xlabel(\"Number of episodes\")\n",
        "\n",
        "\n",
        "# 熵 entropy\n",
        "axs[1][0].set_title(\"Entropy\")\n",
        "entropy_moving_average = (\n",
        "    np.convolve(np.array(entropies), np.ones(rolling_length),mode=\"valid\"\n",
        "                )/rolling_length\n",
        ")\n",
        "axs[1][0].plot(entropy_moving_average)\n",
        "axs[1][0].set_xlabel(\"Number of updates\")\n",
        "\n",
        "\n",
        "# critic loss\n",
        "axs[0][1].set_title(\"Critic loss\")\n",
        "critic_losses_moving_average = (\n",
        "    np.convolve(\n",
        "        np.array(critic_losses).flatten(), np.ones(rolling_length), mode=\"valid\"\n",
        "    ) / rolling_length\n",
        ")\n",
        "axs[0][1].plot(critic_losses_moving_average)\n",
        "axs[0][1].set_xlabel(\"Number of updates\")\n",
        "\n",
        "# actor loss\n",
        "axs[1][1].set_title(\"Actor Loss\")\n",
        "actor_losses_moving_average = (\n",
        "    np.convolve(np.array(actor_losses).flatten(), np.ones(rolling_length), mode=\"valid\"\n",
        "    ) / rolling_length\n",
        ")\n",
        "axs[1][1].plot(actor_losses_moving_average)\n",
        "axs[1][1].set_xlabel(\"Number of updates\")\n",
        "\n",
        "plt.tight_layout()\n",
        "plt.show()\n"
      ],
      "metadata": {
        "id": "0LPEN01dKybd",
        "colab": {
          "base_uri": "https://localhost:8080/",
          "height": 406
        },
        "outputId": "50e18f79-59cb-4c91-859b-cb61613dbce7"
      },
      "execution_count": 10,
      "outputs": [
        {
          "output_type": "display_data",
          "data": {
            "text/plain": [
              "<Figure size 1200x500 with 4 Axes>"
            ],
            "image/png": "[encoded data removed]"
          },
          "metadata": {}
        }
      ]
    },
    {
      "cell_type": "markdown",
      "source": [
        "## 存储 和 加载 权重\n",
        "\n"
      ],
      "metadata": {
        "id": "w6eEImxVi2DU"
      }
    },
    {
      "cell_type": "code",
      "source": [
        "save_weights =  False\n",
        "load_weights = False\n",
        "\n",
        "actor_weights_path = \"weights/actor_weights.h5\"\n",
        "critic_weights_path = \"weights/critic_weights.h5\"\n",
        "\n",
        "if not os.path.exists(\"weights\"):\n",
        "  os.mkdir(\"weights\")\n",
        "\n",
        "# 存储 网络权重\n",
        "if save_weights:\n",
        "  torch.save(agent.actor.state_dict(), actor_weights_path)\n",
        "  torch.save(agent.critic.state_dict(),critic_weights_path)\n",
        "\n",
        "# 加载 网络权重\n",
        "if load_weights:\n",
        "  agent = A2C(obs_shape, action_shape, device, critic_lr, actor_lr)\n",
        "\n",
        "  agent.actor.load_state_dict(torch.load(actor_weights_path))\n",
        "  agent.critic.load_state_dict(torch.load(critic_weights_path))\n",
        "  agent.actor.eval()\n",
        "  agent.critic.eval()\n"
      ],
      "metadata": {
        "id": "bT0arcV2ZIVO"
      },
      "execution_count": 11,
      "outputs": []
    },
    {
      "cell_type": "markdown",
      "source": [
        "## Agent 可视化\n"
      ],
      "metadata": {
        "id": "OFApdKKhmL5R"
      }
    },
    {
      "cell_type": "code",
      "source": [
        "# 可视化 几个 回合\n",
        "\n",
        "n_showcase_episodes = 3\n",
        "\n",
        "for episode in range(n_showcase_episodes):\n",
        "  print(f\"starting episode {episode}...\")\n",
        "\n",
        "  # 创建一个新的示例环境来获取新的随机参数\n",
        "  if randomize_domain:\n",
        "    env = gym.make(\n",
        "        \"LunarLandar-v2\",\n",
        "        render_mode=\"human\",\n",
        "        gravity=np.clip(\n",
        "           np.random.normal(loc=-10.0, scale=2.0), a_min=-11.9, a_max=-0.01\n",
        "        ),\n",
        "        enable_wind=np.random.choice([True, False]),\n",
        "        wind_power=np.clip(\n",
        "           np.random.normal(loc=15.0, scale=2.0), a_min=0.01, a_max= 19.99\n",
        "        ),\n",
        "        turbulence_power=np.clip(\n",
        "            np.random.normal(loc=1.5, scale=1.0), a_min=0.01, a_max=1.99\n",
        "        ),\n",
        "        max_episode_steps=500\n",
        "    )\n",
        "\n",
        "  else:\n",
        "    env = gym.make(\"LunarLander-v2\", render_mode=\"human\", max_episode_steps=500)\n",
        "\n",
        "  ## 获取 初始状态\n",
        "  state, info = env.reset()\n",
        "\n",
        "  # 一个回合\n",
        "  done = False\n",
        "  while not done:\n",
        "    # 根据 agent 的当前环境状态 S_{t} 选择一个动作\n",
        "    with torch.no_grad():\n",
        "      action, _, _, _ = agent.select_action(state[None, :])\n",
        "\n",
        "    # 在环境中 执行 A_{t} 以获得 S_{t+1} 和 R_{t+1}\n",
        "    state, reward, terminated, truncated, info = env.step(action.item())\n",
        "\n",
        "    #\n",
        "    done = terminated or truncated\n",
        "\n",
        "env.close()"
      ],
      "metadata": {
        "colab": {
          "base_uri": "https://localhost:8080/"
        },
        "id": "nQ6O4taGs2Qy",
        "outputId": "bbe7b3d1-2673-458d-de07-3b6120ad40fc"
      },
      "execution_count": 12,
      "outputs": [
        {
          "output_type": "stream",
          "name": "stdout",
          "text": [
            "starting episode 0...\n",
            "starting episode 1...\n",
            "starting episode 2...\n"
          ]
        }
      ]
    },
    {
      "cell_type": "code",
      "source": [
        "!pip install gymnasium[other]"
      ],
      "metadata": {
        "colab": {
          "base_uri": "https://localhost:8080/"
        },
        "id": "4Wtpak5MNpjd",
        "outputId": "be5cceda-52cb-4ddc-9161-c100d73620a0"
      },
      "execution_count": 14,
      "outputs": [
        {
          "output_type": "stream",
          "name": "stdout",
          "text": [
            "Requirement already satisfied: gymnasium[other] in /usr/local/lib/python3.10/dist-packages (0.29.1)\n",
            "Requirement already satisfied: numpy>=1.21.0 in /usr/local/lib/python3.10/dist-packages (from gymnasium[other]) (1.22.4)\n",
            "Requirement already satisfied: cloudpickle>=1.2.0 in /usr/local/lib/python3.10/dist-packages (from gymnasium[other]) (2.2.1)\n",
            "Requirement already satisfied: typing-extensions>=4.3.0 in /usr/local/lib/python3.10/dist-packages (from gymnasium[other]) (4.12.2)\n",
            "Requirement already satisfied: farama-notifications>=0.0.1 in /usr/local/lib/python3.10/dist-packages (from gymnasium[other]) (0.0.4)\n",
            "Collecting lz4>=3.1.0 (from gymnasium[other])\n",
            "  Downloading lz4-4.3.3-cp310-cp310-manylinux_2_17_x86_64.manylinux2014_x86_64.whl.metadata (3.7 kB)\n",
            "Requirement already satisfied: opencv-python>=3.0 in /usr/local/lib/python3.10/dist-packages (from gymnasium[other]) (4.8.0.76)\n",
            "Requirement already satisfied: matplotlib>=3.0 in /usr/local/lib/python3.10/dist-packages (from gymnasium[other]) (3.7.1)\n",
            "Requirement already satisfied: moviepy>=1.0.0 in /usr/local/lib/python3.10/dist-packages (from gymnasium[other]) (1.0.3)\n",
            "Requirement already satisfied: torch>=1.0.0 in /usr/local/lib/python3.10/dist-packages (from gymnasium[other]) (2.3.1+cu121)\n",
            "Requirement already satisfied: contourpy>=1.0.1 in /usr/local/lib/python3.10/dist-packages (from matplotlib>=3.0->gymnasium[other]) (1.2.1)\n",
            "Requirement already satisfied: cycler>=0.10 in /usr/local/lib/python3.10/dist-packages (from matplotlib>=3.0->gymnasium[other]) (0.12.1)\n",
            "Requirement already satisfied: fonttools>=4.22.0 in /usr/local/lib/python3.10/dist-packages (from matplotlib>=3.0->gymnasium[other]) (4.53.1)\n",
            "Requirement already satisfied: kiwisolver>=1.0.1 in /usr/local/lib/python3.10/dist-packages (from matplotlib>=3.0->gymnasium[other]) (1.4.5)\n",
            "Requirement already satisfied: packaging>=20.0 in /usr/local/lib/python3.10/dist-packages (from matplotlib>=3.0->gymnasium[other]) (24.1)\n",
            "Requirement already satisfied: pillow>=6.2.0 in /usr/local/lib/python3.10/dist-packages (from matplotlib>=3.0->gymnasium[other]) (9.4.0)\n",
            "Requirement already satisfied: pyparsing>=2.3.1 in /usr/local/lib/python3.10/dist-packages (from matplotlib>=3.0->gymnasium[other]) (3.1.2)\n",
            "Requirement already satisfied: python-dateutil>=2.7 in /usr/local/lib/python3.10/dist-packages (from matplotlib>=3.0->gymnasium[other]) (2.8.2)\n",
            "Requirement already satisfied: decorator<5.0,>=4.0.2 in /usr/local/lib/python3.10/dist-packages (from moviepy>=1.0.0->gymnasium[other]) (4.4.2)\n",
            "Requirement already satisfied: tqdm<5.0,>=4.11.2 in /usr/local/lib/python3.10/dist-packages (from moviepy>=1.0.0->gymnasium[other]) (4.66.4)\n",
            "Requirement already satisfied: requests<3.0,>=2.8.1 in /usr/local/lib/python3.10/dist-packages (from moviepy>=1.0.0->gymnasium[other]) (2.31.0)\n",
            "Requirement already satisfied: proglog<=1.0.0 in /usr/local/lib/python3.10/dist-packages (from moviepy>=1.0.0->gymnasium[other]) (0.1.10)\n",
            "Requirement already satisfied: imageio<3.0,>=2.5 in /usr/local/lib/python3.10/dist-packages (from moviepy>=1.0.0->gymnasium[other]) (2.31.6)\n",
            "Requirement already satisfied: imageio-ffmpeg>=0.2.0 in /usr/local/lib/python3.10/dist-packages (from moviepy>=1.0.0->gymnasium[other]) (0.5.1)\n",
            "Requirement already satisfied: filelock in /usr/local/lib/python3.10/dist-packages (from torch>=1.0.0->gymnasium[other]) (3.15.4)\n",
            "Requirement already satisfied: sympy in /usr/local/lib/python3.10/dist-packages (from torch>=1.0.0->gymnasium[other]) (1.13.1)\n",
            "Requirement already satisfied: networkx in /usr/local/lib/python3.10/dist-packages (from torch>=1.0.0->gymnasium[other]) (3.3)\n",
            "Requirement already satisfied: jinja2 in /usr/local/lib/python3.10/dist-packages (from torch>=1.0.0->gymnasium[other]) (3.1.4)\n",
            "Requirement already satisfied: fsspec in /usr/local/lib/python3.10/dist-packages (from torch>=1.0.0->gymnasium[other]) (2023.6.0)\n",
            "Collecting nvidia-cuda-nvrtc-cu12==12.1.105 (from torch>=1.0.0->gymnasium[other])\n",
            "  Using cached nvidia_cuda_nvrtc_cu12-12.1.105-py3-none-manylinux1_x86_64.whl.metadata (1.5 kB)\n",
            "Collecting nvidia-cuda-runtime-cu12==12.1.105 (from torch>=1.0.0->gymnasium[other])\n",
            "  Using cached nvidia_cuda_runtime_cu12-12.1.105-py3-none-manylinux1_x86_64.whl.metadata (1.5 kB)\n",
            "Collecting nvidia-cuda-cupti-cu12==12.1.105 (from torch>=1.0.0->gymnasium[other])\n",
            "  Using cached nvidia_cuda_cupti_cu12-12.1.105-py3-none-manylinux1_x86_64.whl.metadata (1.6 kB)\n",
            "Collecting nvidia-cudnn-cu12==8.9.2.26 (from torch>=1.0.0->gymnasium[other])\n",
            "  Using cached nvidia_cudnn_cu12-8.9.2.26-py3-none-manylinux1_x86_64.whl.metadata (1.6 kB)\n",
            "Collecting nvidia-cublas-cu12==12.1.3.1 (from torch>=1.0.0->gymnasium[other])\n",
            "  Using cached nvidia_cublas_cu12-12.1.3.1-py3-none-manylinux1_x86_64.whl.metadata (1.5 kB)\n",
            "Collecting nvidia-cufft-cu12==11.0.2.54 (from torch>=1.0.0->gymnasium[other])\n",
            "  Using cached nvidia_cufft_cu12-11.0.2.54-py3-none-manylinux1_x86_64.whl.metadata (1.5 kB)\n",
            "Collecting nvidia-curand-cu12==10.3.2.106 (from torch>=1.0.0->gymnasium[other])\n",
            "  Using cached nvidia_curand_cu12-10.3.2.106-py3-none-manylinux1_x86_64.whl.metadata (1.5 kB)\n",
            "Collecting nvidia-cusolver-cu12==11.4.5.107 (from torch>=1.0.0->gymnasium[other])\n",
            "  Using cached nvidia_cusolver_cu12-11.4.5.107-py3-none-manylinux1_x86_64.whl.metadata (1.6 kB)\n",
            "Collecting nvidia-cusparse-cu12==12.1.0.106 (from torch>=1.0.0->gymnasium[other])\n",
            "  Using cached nvidia_cusparse_cu12-12.1.0.106-py3-none-manylinux1_x86_64.whl.metadata (1.6 kB)\n",
            "Collecting nvidia-nccl-cu12==2.20.5 (from torch>=1.0.0->gymnasium[other])\n",
            "  Using cached nvidia_nccl_cu12-2.20.5-py3-none-manylinux2014_x86_64.whl.metadata (1.8 kB)\n",
            "Collecting nvidia-nvtx-cu12==12.1.105 (from torch>=1.0.0->gymnasium[other])\n",
            "  Using cached nvidia_nvtx_cu12-12.1.105-py3-none-manylinux1_x86_64.whl.metadata (1.7 kB)\n",
            "Requirement already satisfied: triton==2.3.1 in /usr/local/lib/python3.10/dist-packages (from torch>=1.0.0->gymnasium[other]) (2.3.1)\n",
            "Collecting nvidia-nvjitlink-cu12 (from nvidia-cusolver-cu12==11.4.5.107->torch>=1.0.0->gymnasium[other])\n",
            "  Downloading nvidia_nvjitlink_cu12-12.6.68-py3-none-manylinux2014_x86_64.whl.metadata (1.5 kB)\n",
            "Requirement already satisfied: setuptools in /usr/local/lib/python3.10/dist-packages (from imageio-ffmpeg>=0.2.0->moviepy>=1.0.0->gymnasium[other]) (71.0.4)\n",
            "Requirement already satisfied: six>=1.5 in /usr/local/lib/python3.10/dist-packages (from python-dateutil>=2.7->matplotlib>=3.0->gymnasium[other]) (1.16.0)\n",
            "Requirement already satisfied: charset-normalizer<4,>=2 in /usr/local/lib/python3.10/dist-packages (from requests<3.0,>=2.8.1->moviepy>=1.0.0->gymnasium[other]) (3.3.2)\n",
            "Requirement already satisfied: idna<4,>=2.5 in /usr/local/lib/python3.10/dist-packages (from requests<3.0,>=2.8.1->moviepy>=1.0.0->gymnasium[other]) (3.7)\n",
            "Requirement already satisfied: urllib3<3,>=1.21.1 in /usr/local/lib/python3.10/dist-packages (from requests<3.0,>=2.8.1->moviepy>=1.0.0->gymnasium[other]) (2.0.7)\n",
            "Requirement already satisfied: certifi>=2017.4.17 in /usr/local/lib/python3.10/dist-packages (from requests<3.0,>=2.8.1->moviepy>=1.0.0->gymnasium[other]) (2024.7.4)\n",
            "Requirement already satisfied: MarkupSafe>=2.0 in /usr/local/lib/python3.10/dist-packages (from jinja2->torch>=1.0.0->gymnasium[other]) (2.1.5)\n",
            "Requirement already satisfied: mpmath<1.4,>=1.1.0 in /usr/local/lib/python3.10/dist-packages (from sympy->torch>=1.0.0->gymnasium[other]) (1.3.0)\n",
            "Downloading lz4-4.3.3-cp310-cp310-manylinux_2_17_x86_64.manylinux2014_x86_64.whl (1.3 MB)\n",
            "\u001b[2K   \u001b[90m━━━━━━━━━━━━━━━━━━━━━━━━━━━━━━━━━━━━━━━━\u001b[0m \u001b[32m1.3/1.3 MB\u001b[0m \u001b[31m14.0 MB/s\u001b[0m eta \u001b[36m0:00:00\u001b[0m\n",
            "\u001b[?25hUsing cached nvidia_cublas_cu12-12.1.3.1-py3-none-manylinux1_x86_64.whl (410.6 MB)\n",
            "Using cached nvidia_cuda_cupti_cu12-12.1.105-py3-none-manylinux1_x86_64.whl (14.1 MB)\n",
            "Using cached nvidia_cuda_nvrtc_cu12-12.1.105-py3-none-manylinux1_x86_64.whl (23.7 MB)\n",
            "Using cached nvidia_cuda_runtime_cu12-12.1.105-py3-none-manylinux1_x86_64.whl (823 kB)\n",
            "Using cached nvidia_cudnn_cu12-8.9.2.26-py3-none-manylinux1_x86_64.whl (731.7 MB)\n",
            "Using cached nvidia_cufft_cu12-11.0.2.54-py3-none-manylinux1_x86_64.whl (121.6 MB)\n",
            "Using cached nvidia_curand_cu12-10.3.2.106-py3-none-manylinux1_x86_64.whl (56.5 MB)\n",
            "Using cached nvidia_cusolver_cu12-11.4.5.107-py3-none-manylinux1_x86_64.whl (124.2 MB)\n",
            "Using cached nvidia_cusparse_cu12-12.1.0.106-py3-none-manylinux1_x86_64.whl (196.0 MB)\n",
            "Using cached nvidia_nccl_cu12-2.20.5-py3-none-manylinux2014_x86_64.whl (176.2 MB)\n",
            "Using cached nvidia_nvtx_cu12-12.1.105-py3-none-manylinux1_x86_64.whl (99 kB)\n",
            "Downloading nvidia_nvjitlink_cu12-12.6.68-py3-none-manylinux2014_x86_64.whl (19.7 MB)\n",
            "\u001b[2K   \u001b[90m━━━━━━━━━━━━━━━━━━━━━━━━━━━━━━━━━━━━━━━━\u001b[0m \u001b[32m19.7/19.7 MB\u001b[0m \u001b[31m16.0 MB/s\u001b[0m eta \u001b[36m0:00:00\u001b[0m\n",
            "\u001b[?25hInstalling collected packages: nvidia-nvtx-cu12, nvidia-nvjitlink-cu12, nvidia-nccl-cu12, nvidia-curand-cu12, nvidia-cufft-cu12, nvidia-cuda-runtime-cu12, nvidia-cuda-nvrtc-cu12, nvidia-cuda-cupti-cu12, nvidia-cublas-cu12, lz4, nvidia-cusparse-cu12, nvidia-cudnn-cu12, nvidia-cusolver-cu12\n",
            "Successfully installed lz4-4.3.3 nvidia-cublas-cu12-12.1.3.1 nvidia-cuda-cupti-cu12-12.1.105 nvidia-cuda-nvrtc-cu12-12.1.105 nvidia-cuda-runtime-cu12-12.1.105 nvidia-cudnn-cu12-8.9.2.26 nvidia-cufft-cu12-11.0.2.54 nvidia-curand-cu12-10.3.2.106 nvidia-cusolver-cu12-11.4.5.107 nvidia-cusparse-cu12-12.1.0.106 nvidia-nccl-cu12-2.20.5 nvidia-nvjitlink-cu12-12.6.68 nvidia-nvtx-cu12-12.1.105\n"
          ]
        }
      ]
    },
    {
      "cell_type": "code",
      "source": [
        "# 似乎 没反应  ？？？\n",
        "# https://gymnasium.farama.org/api/utils/\n",
        "\n",
        "from gymnasium.utils.play import play\n",
        "\n",
        "play(gym.make('LunarLander-v2', render_mode='rgb_array'),\n",
        "    keys_to_action={'w': 2, 'a': 1, 'd': 3}, noop=0)"
      ],
      "metadata": {
        "colab": {
          "base_uri": "https://localhost:8080/",
          "height": 350
        },
        "id": "s_srbdA0pNUP",
        "outputId": "91d94e06-80d9-4fd6-8a02-f1169b747ef0"
      },
      "execution_count": 15,
      "outputs": [
        {
          "output_type": "error",
          "ename": "KeyboardInterrupt",
          "evalue": "",
          "traceback": [
            "\u001b[0;31m---------------------------------------------------------------------------\u001b[0m",
            "\u001b[0;31mKeyboardInterrupt\u001b[0m                         Traceback (most recent call last)",
            "\u001b[0;32m<ipython-input-15-67276f416c0a>\u001b[0m in \u001b[0;36m<cell line: 4>\u001b[0;34m()\u001b[0m\n\u001b[1;32m      2\u001b[0m \u001b[0;32mfrom\u001b[0m \u001b[0mgymnasium\u001b[0m\u001b[0;34m.\u001b[0m\u001b[0mutils\u001b[0m\u001b[0;34m.\u001b[0m\u001b[0mplay\u001b[0m \u001b[0;32mimport\u001b[0m \u001b[0mplay\u001b[0m\u001b[0;34m\u001b[0m\u001b[0;34m\u001b[0m\u001b[0m\n\u001b[1;32m      3\u001b[0m \u001b[0;34m\u001b[0m\u001b[0m\n\u001b[0;32m----> 4\u001b[0;31m play(gym.make('LunarLander-v2', render_mode='rgb_array'),\n\u001b[0m\u001b[1;32m      5\u001b[0m     keys_to_action={'w': 2, 'a': 1, 'd': 3}, noop=0)\n",
            "\u001b[0;32m/usr/local/lib/python3.10/dist-packages/gymnasium/utils/play.py\u001b[0m in \u001b[0;36mplay\u001b[0;34m(env, transpose, fps, zoom, callback, keys_to_action, seed, noop)\u001b[0m\n\u001b[1;32m    276\u001b[0m                 \u001b[0mcallback\u001b[0m\u001b[0;34m(\u001b[0m\u001b[0mprev_obs\u001b[0m\u001b[0;34m,\u001b[0m \u001b[0mobs\u001b[0m\u001b[0;34m,\u001b[0m \u001b[0maction\u001b[0m\u001b[0;34m,\u001b[0m \u001b[0mrew\u001b[0m\u001b[0;34m,\u001b[0m \u001b[0mterminated\u001b[0m\u001b[0;34m,\u001b[0m \u001b[0mtruncated\u001b[0m\u001b[0;34m,\u001b[0m \u001b[0minfo\u001b[0m\u001b[0;34m)\u001b[0m\u001b[0;34m\u001b[0m\u001b[0;34m\u001b[0m\u001b[0m\n\u001b[1;32m    277\u001b[0m         \u001b[0;32mif\u001b[0m \u001b[0mobs\u001b[0m \u001b[0;32mis\u001b[0m \u001b[0;32mnot\u001b[0m \u001b[0;32mNone\u001b[0m\u001b[0;34m:\u001b[0m\u001b[0;34m\u001b[0m\u001b[0;34m\u001b[0m\u001b[0m\n\u001b[0;32m--> 278\u001b[0;31m             \u001b[0mrendered\u001b[0m \u001b[0;34m=\u001b[0m \u001b[0menv\u001b[0m\u001b[0;34m.\u001b[0m\u001b[0mrender\u001b[0m\u001b[0;34m(\u001b[0m\u001b[0;34m)\u001b[0m\u001b[0;34m\u001b[0m\u001b[0;34m\u001b[0m\u001b[0m\n\u001b[0m\u001b[1;32m    279\u001b[0m             \u001b[0;32mif\u001b[0m \u001b[0misinstance\u001b[0m\u001b[0;34m(\u001b[0m\u001b[0mrendered\u001b[0m\u001b[0;34m,\u001b[0m \u001b[0mList\u001b[0m\u001b[0;34m)\u001b[0m\u001b[0;34m:\u001b[0m\u001b[0;34m\u001b[0m\u001b[0;34m\u001b[0m\u001b[0m\n\u001b[1;32m    280\u001b[0m                 \u001b[0mrendered\u001b[0m \u001b[0;34m=\u001b[0m \u001b[0mrendered\u001b[0m\u001b[0;34m[\u001b[0m\u001b[0;34m-\u001b[0m\u001b[0;36m1\u001b[0m\u001b[0;34m]\u001b[0m\u001b[0;34m\u001b[0m\u001b[0;34m\u001b[0m\u001b[0m\n",
            "\u001b[0;32m/usr/local/lib/python3.10/dist-packages/gymnasium/core.py\u001b[0m in \u001b[0;36mrender\u001b[0;34m(self)\u001b[0m\n\u001b[1;32m    469\u001b[0m     \u001b[0;32mdef\u001b[0m \u001b[0mrender\u001b[0m\u001b[0;34m(\u001b[0m\u001b[0mself\u001b[0m\u001b[0;34m)\u001b[0m \u001b[0;34m->\u001b[0m \u001b[0mRenderFrame\u001b[0m \u001b[0;34m|\u001b[0m \u001b[0mlist\u001b[0m\u001b[0;34m[\u001b[0m\u001b[0mRenderFrame\u001b[0m\u001b[0;34m]\u001b[0m \u001b[0;34m|\u001b[0m \u001b[0;32mNone\u001b[0m\u001b[0;34m:\u001b[0m\u001b[0;34m\u001b[0m\u001b[0;34m\u001b[0m\u001b[0m\n\u001b[1;32m    470\u001b[0m         \u001b[0;34m\"\"\"Uses the :meth:`render` of the :attr:`env` that can be overwritten to change the returned data.\"\"\"\u001b[0m\u001b[0;34m\u001b[0m\u001b[0;34m\u001b[0m\u001b[0m\n\u001b[0;32m--> 471\u001b[0;31m         \u001b[0;32mreturn\u001b[0m \u001b[0mself\u001b[0m\u001b[0;34m.\u001b[0m\u001b[0menv\u001b[0m\u001b[0;34m.\u001b[0m\u001b[0mrender\u001b[0m\u001b[0;34m(\u001b[0m\u001b[0;34m)\u001b[0m\u001b[0;34m\u001b[0m\u001b[0;34m\u001b[0m\u001b[0m\n\u001b[0m\u001b[1;32m    472\u001b[0m \u001b[0;34m\u001b[0m\u001b[0m\n\u001b[1;32m    473\u001b[0m     \u001b[0;32mdef\u001b[0m \u001b[0mclose\u001b[0m\u001b[0;34m(\u001b[0m\u001b[0mself\u001b[0m\u001b[0;34m)\u001b[0m\u001b[0;34m:\u001b[0m\u001b[0;34m\u001b[0m\u001b[0;34m\u001b[0m\u001b[0m\n",
            "\u001b[0;32m/usr/local/lib/python3.10/dist-packages/gymnasium/wrappers/order_enforcing.py\u001b[0m in \u001b[0;36mrender\u001b[0;34m(self, *args, **kwargs)\u001b[0m\n\u001b[1;32m     68\u001b[0m                 \u001b[0;34m\"set `disable_render_order_enforcing=True` on the OrderEnforcer wrapper.\"\u001b[0m\u001b[0;34m\u001b[0m\u001b[0;34m\u001b[0m\u001b[0m\n\u001b[1;32m     69\u001b[0m             )\n\u001b[0;32m---> 70\u001b[0;31m         \u001b[0;32mreturn\u001b[0m \u001b[0mself\u001b[0m\u001b[0;34m.\u001b[0m\u001b[0menv\u001b[0m\u001b[0;34m.\u001b[0m\u001b[0mrender\u001b[0m\u001b[0;34m(\u001b[0m\u001b[0;34m*\u001b[0m\u001b[0margs\u001b[0m\u001b[0;34m,\u001b[0m \u001b[0;34m**\u001b[0m\u001b[0mkwargs\u001b[0m\u001b[0;34m)\u001b[0m\u001b[0;34m\u001b[0m\u001b[0;34m\u001b[0m\u001b[0m\n\u001b[0m\u001b[1;32m     71\u001b[0m \u001b[0;34m\u001b[0m\u001b[0m\n\u001b[1;32m     72\u001b[0m     \u001b[0;34m@\u001b[0m\u001b[0mproperty\u001b[0m\u001b[0;34m\u001b[0m\u001b[0;34m\u001b[0m\u001b[0m\n",
            "\u001b[0;32m/usr/local/lib/python3.10/dist-packages/gymnasium/wrappers/env_checker.py\u001b[0m in \u001b[0;36mrender\u001b[0;34m(self, *args, **kwargs)\u001b[0m\n\u001b[1;32m     65\u001b[0m             \u001b[0;32mreturn\u001b[0m \u001b[0menv_render_passive_checker\u001b[0m\u001b[0;34m(\u001b[0m\u001b[0mself\u001b[0m\u001b[0;34m.\u001b[0m\u001b[0menv\u001b[0m\u001b[0;34m,\u001b[0m \u001b[0;34m*\u001b[0m\u001b[0margs\u001b[0m\u001b[0;34m,\u001b[0m \u001b[0;34m**\u001b[0m\u001b[0mkwargs\u001b[0m\u001b[0;34m)\u001b[0m\u001b[0;34m\u001b[0m\u001b[0;34m\u001b[0m\u001b[0m\n\u001b[1;32m     66\u001b[0m         \u001b[0;32melse\u001b[0m\u001b[0;34m:\u001b[0m\u001b[0;34m\u001b[0m\u001b[0;34m\u001b[0m\u001b[0m\n\u001b[0;32m---> 67\u001b[0;31m             \u001b[0;32mreturn\u001b[0m \u001b[0mself\u001b[0m\u001b[0;34m.\u001b[0m\u001b[0menv\u001b[0m\u001b[0;34m.\u001b[0m\u001b[0mrender\u001b[0m\u001b[0;34m(\u001b[0m\u001b[0;34m*\u001b[0m\u001b[0margs\u001b[0m\u001b[0;34m,\u001b[0m \u001b[0;34m**\u001b[0m\u001b[0mkwargs\u001b[0m\u001b[0;34m)\u001b[0m\u001b[0;34m\u001b[0m\u001b[0;34m\u001b[0m\u001b[0m\n\u001b[0m\u001b[1;32m     68\u001b[0m \u001b[0;34m\u001b[0m\u001b[0m\n\u001b[1;32m     69\u001b[0m     \u001b[0;34m@\u001b[0m\u001b[0mproperty\u001b[0m\u001b[0;34m\u001b[0m\u001b[0;34m\u001b[0m\u001b[0m\n",
            "\u001b[0;32m/usr/local/lib/python3.10/dist-packages/gymnasium/envs/box2d/lunar_lander.py\u001b[0m in \u001b[0;36mrender\u001b[0;34m(self)\u001b[0m\n\u001b[1;32m    789\u001b[0m         \u001b[0;32melif\u001b[0m \u001b[0mself\u001b[0m\u001b[0;34m.\u001b[0m\u001b[0mrender_mode\u001b[0m \u001b[0;34m==\u001b[0m \u001b[0;34m\"rgb_array\"\u001b[0m\u001b[0;34m:\u001b[0m\u001b[0;34m\u001b[0m\u001b[0;34m\u001b[0m\u001b[0m\n\u001b[1;32m    790\u001b[0m             return np.transpose(\n\u001b[0;32m--> 791\u001b[0;31m                 \u001b[0mnp\u001b[0m\u001b[0;34m.\u001b[0m\u001b[0marray\u001b[0m\u001b[0;34m(\u001b[0m\u001b[0mpygame\u001b[0m\u001b[0;34m.\u001b[0m\u001b[0msurfarray\u001b[0m\u001b[0;34m.\u001b[0m\u001b[0mpixels3d\u001b[0m\u001b[0;34m(\u001b[0m\u001b[0mself\u001b[0m\u001b[0;34m.\u001b[0m\u001b[0msurf\u001b[0m\u001b[0;34m)\u001b[0m\u001b[0;34m)\u001b[0m\u001b[0;34m,\u001b[0m \u001b[0maxes\u001b[0m\u001b[0;34m=\u001b[0m\u001b[0;34m(\u001b[0m\u001b[0;36m1\u001b[0m\u001b[0;34m,\u001b[0m \u001b[0;36m0\u001b[0m\u001b[0;34m,\u001b[0m \u001b[0;36m2\u001b[0m\u001b[0;34m)\u001b[0m\u001b[0;34m\u001b[0m\u001b[0;34m\u001b[0m\u001b[0m\n\u001b[0m\u001b[1;32m    792\u001b[0m             )\n\u001b[1;32m    793\u001b[0m \u001b[0;34m\u001b[0m\u001b[0m\n",
            "\u001b[0;31mKeyboardInterrupt\u001b[0m: "
          ]
        }
      ]
    }
  ]
}