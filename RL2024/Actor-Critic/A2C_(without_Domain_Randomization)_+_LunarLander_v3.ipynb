{
  "nbformat": 4,
  "nbformat_minor": 0,
  "metadata": {
    "colab": {
      "provenance": [],
      "toc_visible": true
    },
    "kernelspec": {
      "name": "python3",
      "display_name": "Python 3"
    },
    "language_info": {
      "name": "python"
    }
  },
  "cells": [
    {
      "cell_type": "markdown",
      "source": [
        "整理自： https://gymnasium.farama.org/tutorials/gymnasium_basics/vector_envs_tutorial/#sphx-glr-tutorials-gymnasium-basics-vector-envs-tutorial-py"
      ],
      "metadata": {
        "id": "EbthDdJHOWO7"
      }
    },
    {
      "cell_type": "markdown",
      "source": [
        "如何使用矢量化环境来训练优势 Advantage Actor-Critic 代理。\n",
        "\n",
        "**`矢量化环境`** 可以通过允许**相同环境**的**多个实例并行运行**（在多个 CPUs 上）来帮助实现**更快、更健壮的训练**。这可以显著**减少方差**，从而**加快训练速度**。"
      ],
      "metadata": {
        "id": "wUKrKlgnOx9n"
      }
    },
    {
      "cell_type": "markdown",
      "source": [
        "————————————————————\n",
        "\n",
        "We will implement an Advantage Actor-Critic from scratch to look at how you can feed batched states into your networks to get a vector of actions (one action per environment) and calculate the losses for actor and critic on minibatches of transitions.\n",
        "* 我们将从头开始实现一个 Advantage Actor-Critic，看看如何将**批状态**馈送到网络中，以获得**动作向量 (每个环境一个行动**)，并计算 actor 和 critic 在**小批量转换**上的损失。\n",
        "\n",
        "Each minibatch contains the transitions of one sampling phase:\n",
        "* 每个小批量包含一个采样阶段的过渡：\n",
        "\n",
        "n_steps_per_update steps are executed in n_envs environments in parallel (multiply the two to get the number of transitions in a minibatch).\n",
        "\n",
        "* N_steps_per_update 步在 n_envs 个环境中并行执行 (两者相乘等于 minibatch 中的转换数量)。\n",
        "\n",
        "\n",
        "After each sampling phase, the losses are calculated and one gradient step is executed.\n",
        "\n",
        "* 在每个采样阶段后，计算损失并执行一个梯度步。\n",
        "\n",
        "\n",
        "To calculate the advantages, we are going to use the Generalized Advantage Estimation (GAE) method [2], which balances the tradeoff between variance and bias of the advantage estimates.\n",
        "\n",
        "* 为了计算优势，我们将使用广义优势估计（GAE）方法，该方法平衡了优势估计的方差和偏差之间的权衡。"
      ],
      "metadata": {
        "id": "tk6sXS9tPgAG"
      }
    },
    {
      "cell_type": "markdown",
      "source": [
        "——————————————————\n",
        "\n",
        "The A2C agent class is initialized with the number of features of the input state, the number of actions the agent can take, the learning rates and the number of environments that run in parallel to collect experiences.\n",
        "\n",
        "* A2C 代理类是用**输入状态的特征数量**、**代理可以采取的动作数量**、**学习率**和**并行**运行以收集经验的**环境数量**来初始化的。\n",
        "\n",
        "The actor and critic networks are defined and their respective optimizers are initialized.\n",
        "\n",
        "* 定义了 actor 和 critic 网络，并初始化了各自的优化器。\n",
        "\n",
        "The forward pass of the networks takes in a batched vector of states and returns a tensor of state values and a tensor of action logits.\n",
        "\n",
        "* 网络的前向传递接受**状态的批向量**，并返回**状态价值张量**和**动作逻辑张量**。\n",
        "\n",
        "The select_action method returns a tuple of the chosen actions, the log-probs of those actions, and the state values for each action.\n",
        "\n",
        "* select_action 方法返回**所选动作的元组**、这些动作的 log-probs 以及每个动作的状态价值。\n",
        "\n",
        "In addition, it also returns the entropy of the policy distribution, which is subtracted from the loss later (with a weighting factor ent_coef) to encourage exploration.\n",
        "\n",
        "* 此外，它还返回策略分布的熵，该熵从稍后的损失中减去( 带有权重因子 ent_coef ) 以**鼓励探索**。"
      ],
      "metadata": {
        "id": "_DgI90nYR40x"
      }
    },
    {
      "cell_type": "markdown",
      "source": [
        "——————————————————\n",
        "\n",
        "The get_losses function calculates the losses for the actor and critic networks (using GAE), which are then updated using the update_parameters function.\n",
        "\n",
        "* get_losses 函数计算 actor 和 critic 网络的损失 (使用 GAE )，然后使用 update_parameters 函数更新这些损失。"
      ],
      "metadata": {
        "id": "lfNvLHvSRldi"
      }
    },
    {
      "cell_type": "code",
      "source": [
        "!pip install gymnasium"
      ],
      "metadata": {
        "id": "OrRwncWoTY41",
        "colab": {
          "base_uri": "https://localhost:8080/"
        },
        "outputId": "7156c224-a13c-4daa-ad4c-5b48267d1e65"
      },
      "execution_count": 3,
      "outputs": [
        {
          "output_type": "stream",
          "name": "stdout",
          "text": [
            "Requirement already satisfied: gymnasium in /usr/local/lib/python3.10/dist-packages (1.0.0)\n",
            "Requirement already satisfied: numpy>=1.21.0 in /usr/local/lib/python3.10/dist-packages (from gymnasium) (1.26.4)\n",
            "Requirement already satisfied: cloudpickle>=1.2.0 in /usr/local/lib/python3.10/dist-packages (from gymnasium) (3.1.0)\n",
            "Requirement already satisfied: typing-extensions>=4.3.0 in /usr/local/lib/python3.10/dist-packages (from gymnasium) (4.12.2)\n",
            "Requirement already satisfied: farama-notifications>=0.0.1 in /usr/local/lib/python3.10/dist-packages (from gymnasium) (0.0.4)\n"
          ]
        }
      ]
    },
    {
      "cell_type": "code",
      "execution_count": 4,
      "metadata": {
        "id": "3cWHH_8HOTay"
      },
      "outputs": [],
      "source": [
        "from __future__ import annotations\n",
        "\n",
        "import os\n",
        "\n",
        "import matplotlib.pyplot as plt\n",
        "import numpy as np\n",
        "\n",
        "import torch\n",
        "import torch.nn as nn\n",
        "from torch import optim\n",
        "\n",
        "from tqdm import tqdm\n",
        "\n",
        "import gymnasium as gym"
      ]
    },
    {
      "cell_type": "markdown",
      "source": [
        "The Actor-Critic combines elements of value-based and policy-based methods.\n",
        "\n",
        "* Actor-Critic 整合了 基于价值 和 基于策略的方法 的要素。\n",
        "\n",
        "In A2C, the agent has two separate neural networks: a critic network that estimates the state-value function, and an actor network that outputs logits for a categorical probability distribution over all actions.\n",
        "\n",
        "* 在 A2C 中，代理有**两个独立的神经网络**：一个**评估状态价值函数**的 critic 网络，和一个**输出所有动作的分类概率分布**的 actor 网络。\n",
        "\n",
        "The critic network is trained to minimize the mean squared error between the predicted state values and the actual returns received by the agent (this is equivalent to minimizing the squared advantages, because the advantage of an action is as the difference between the return and the state-value: $A(s,a) = Q(s,a) - V(s)$.\n",
        "\n",
        "* **critic 网络**被训练成 最小化预测状态价值和代理收到的实际回报之间的均方误差 (这相当于**最小化 优势的平方**，因为一个动作的优势是回报和状态价值之间的差：$A(s， a) = Q(s， a) - V(s)$。\n",
        "\n",
        "The actor network is trained to maximize the expected return by selecting actions that have high expected values according to the critic network.\n",
        "\n",
        "* actor 网络经过训练，通过根据 critic 网络选择具有**高价值期望的动作**来最大化回报的期望。"
      ],
      "metadata": {
        "id": "CuDB_KuATdgX"
      }
    },
    {
      "cell_type": "markdown",
      "source": [
        "重点在于<mark>如何使用**矢量化环境**和**领域随机化**来**加速 A2C 的训练过程**。</mark>"
      ],
      "metadata": {
        "id": "Vs_2DRrlTu1o"
      }
    },
    {
      "cell_type": "markdown",
      "source": [
        "## A2C 类"
      ],
      "metadata": {
        "id": "FMJIT_X_Vp8L"
      }
    },
    {
      "cell_type": "code",
      "source": [
        "class A2C(nn.Module):\n",
        "  \"\"\"\n",
        "  (Synchronous) Advantage Actor-Critic 代理 类\n",
        "\n",
        "  参数:\n",
        "    n_features:  输入状态的特征数量\n",
        "    n_actions: agent 可以选取的动作数量\n",
        "    device:  本代码用 CPU 就可以\n",
        "    actor_lr:\n",
        "    critic_lr: 一般应比 actor_lr 略大\n",
        "    n_envs:  并行用于收集数据的 环境数量\n",
        "  \"\"\"\n",
        "  def __init__(\n",
        "      self,\n",
        "      n_features:int,\n",
        "      n_actions:int,\n",
        "      device: torch.device,\n",
        "      critic_lr:float,\n",
        "      actor_lr:float,\n",
        "      n_envs: int,\n",
        "      )->  None:\n",
        "    super().__init__()\n",
        "    self.device = device\n",
        "    self.n_envs = n_envs\n",
        "\n",
        "    # actor 网络初始化\n",
        "    actor_layers = [\n",
        "        nn.Linear(n_features, 32),\n",
        "        nn.ReLU(),\n",
        "        nn.Linear(32, 32),\n",
        "        nn.ReLU(),\n",
        "        nn.Linear(32, n_actions),\n",
        "    ]\n",
        "    self.actor = nn.Sequential(*actor_layers).to(self.device)\n",
        "    self.actor_optim = optim.Adam(self.actor.parameters(),lr=actor_lr)\n",
        "\n",
        "    # critic 网络初始化\n",
        "    critic_layers = [\n",
        "        nn.Linear(n_features, 32),\n",
        "        nn.ReLU(),\n",
        "        nn.Linear(32, 32),\n",
        "        nn.ReLU(),\n",
        "        nn.Linear(32, 1),\n",
        "    ]\n",
        "    self.critic = nn.Sequential(*critic_layers).to(self.device)\n",
        "    self.critic_optim = optim.Adam(self.critic.parameters(), lr=critic_lr)\n",
        "\n",
        "  def forward(self, x:np.ndarray)-> tuple[torch.Tensor, torch.Tensor]:\n",
        "    \"\"\"\n",
        "    网络的正向传递\n",
        "\n",
        "    参数：\n",
        "      x: 小批状态\n",
        "\n",
        "    返回：\n",
        "      状态价值: [n_envs,]\n",
        "      action_logits_vec: [n_envs, n_actions]\n",
        "    \"\"\"\n",
        "    x = torch.Tensor(x).to(self.device)\n",
        "    state_values = self.critic(x) # [n_envs,]\n",
        "    action_logits_vec = self.actor(x)  # [n_envs, n_actions]\n",
        "    return (state_values, action_logits_vec)\n",
        "\n",
        "  def select_action(self, x: np.ndarray)-> tuple[torch.Tensor, torch.Tensor, torch.Tensor,torch.Tensor]:\n",
        "    \"\"\"\n",
        "    返回 选定的动作的元组 和 这些动作的 log-probs\n",
        "\n",
        "    参数:\n",
        "      x: 小批状态\n",
        "    返回:\n",
        "      actions: [n_steps_per_update, n_envs]\n",
        "      action_log_probs: [n_steps_per_update, n_envs]\n",
        "      state_values:  [n_steps_per_update, n_envs]\n",
        "    \"\"\"\n",
        "    state_values, action_logits = self.forward(x)\n",
        "    action_pd = torch.distributions.Categorical(logits=action_logits)\n",
        "    actions = action_pd.sample()\n",
        "    action_log_probs = action_pd.log_prob(actions)\n",
        "    entropy = action_pd.entropy()\n",
        "    return (actions, action_log_probs, state_values, entropy)\n",
        "\n",
        "  def get_losses(\n",
        "      self,\n",
        "      rewards: torch.Tensor,\n",
        "      action_log_probs: torch.Tensor,\n",
        "      value_preds: torch.Tensor,\n",
        "      entropy: torch.Tensor,\n",
        "      masks: torch.Tensor,\n",
        "      gamma: float,\n",
        "      lam: float,\n",
        "      ent_coef: float,\n",
        "      device: torch.device,\n",
        "  ) -> tuple[torch.Tensor, torch.Tensor]:\n",
        "    \"\"\"\n",
        "    计算 actor 和 critic 在小批量转换 的损失\n",
        "        使用 Generalized Advantage Estimation (GAE) 计算优势\n",
        "\n",
        "    参数：\n",
        "      rewards:\n",
        "      action_log_probs:\n",
        "      value_preds:\n",
        "      masks: 回合里的 n-step 数据 A tensor with the masks for each time step in the episode, with shape [n_steps_per_update, n_envs].\n",
        "      gamma:\n",
        "      lam: lam=1对应于蒙特卡罗抽样，方差大，无偏差；\n",
        "          lam=0 对应的是低方差但有偏的正常 TD-Learning\n",
        "      device:\n",
        "    返回:\n",
        "      critic_loss:\n",
        "      actor_loss:\n",
        "    \"\"\"\n",
        "    T = len(rewards)\n",
        "    advantages = torch.zeros(T, self.n_envs, device=device)\n",
        "\n",
        "    # 用 GAE 计算 优势  mask[t]: 第 t 个时间步为 终止状态， 则 mask[t] = 0, 若为 运行状态 则 masks[t] = 0\n",
        "    gae = 0.0\n",
        "    for t in reversed(range(T-1)):\n",
        "      td_error = (rewards[t] + gamma * masks[t] * value_preds[t+1] - value_preds[t])\n",
        "      gae = td_error + gamma * lam * masks[t] * gae\n",
        "      advantages[t] = gae\n",
        "\n",
        "    # 计算 actor  和 critic 在小批次上的 损失\n",
        "    critic_loss = advantages.pow(2).mean()\n",
        "    actor_loss = (-(advantages.detach() * action_log_probs).mean() - ent_coef * entropy.mean() )\n",
        "\n",
        "    return (critic_loss, actor_loss)\n",
        "\n",
        "  def update_parameters(self, critic_loss:torch.Tensor, actor_loss: torch_Tensor) -> None:\n",
        "    \"\"\"\n",
        "    更新 actor 和 critic 网络的参数\n",
        "    \"\"\"\n",
        "    self.critic_optim.zero_grad()\n",
        "    critic_loss.backward()\n",
        "    self.critic_optim.step()\n",
        "\n",
        "    self.actor_optim.zero_grad()\n",
        "    actor_loss.backward()\n",
        "    self.actor_optim.step()"
      ],
      "metadata": {
        "id": "RElGKqZtTdpL"
      },
      "execution_count": 5,
      "outputs": []
    },
    {
      "cell_type": "markdown",
      "source": [
        "![image.png](data:image/png;base64,iVBORw0KGgoAAAANSUhEUgAAAuQAAACDCAIAAABKqJn5AAAgAElEQVR4AeyddzyV7//HC4dIiFRSGaWhtJG0S0uUkPZeSppKqbRTNChKKEJIpYyUkb33zN57HePsc9/X/Xuc4+Cc41h9Gvr+7vsP7nmN53Wd+3pd7+t9XfcQ5B/dYGL655sLx4nO3vXoRyP5b2UCkFsTve0snQNrcdDfSgMjXojUXF/biKewJQNApKxv9o/tfMpaqGyX0EOUAEpg0BCA88I8rB89uE/bHjx67vglppAABk3q0ISgBP42gSF/OwE/Hz+xPsfu7AbJsVN0b30o+3s/a0BuraysIZD+tljpASSAqU1VJfV/XUv1kDz0NEoAJYASQAmgBPok8A+LFQRQm0vjLI+uFBeXXXfsUWRJK9xndtEbUAIoAZQASgAlgBL41wj8y2KFxhpQCLWRtgbzJUZIyK+18MnAoYbTf60KoulFCaAEUAIoAZRA7wT+dbHCyB2xLsPt6RP3kCxUrPRe3uhVlABKACWAEkAJ/HME/kfEyj/HHU0wSgAlgBJACaAEUAL9JICKlX6CQm9DCaAEUAIoAZQASuDvEPj/KFYgMjYrytfZzsYpIJsMoU4uf6fm/ZpYCWlvnzy2f+ubUtxAQf2rfw1TNBSUAEoAJTDoCPRLrMBUMuV/pVEnF3ofXT5t/tojdl8SK5tJqFQZdFVyQAkClNr8eJe7+otmzdU2/dg8oGfRm1ECKAGUAErgHyHQi1gB5JYiv8cGKpPFJ05fuGSxypJNhu+TK39DvgCxMT/ow8eYcuLvlg6gLf78/JFj5h4MqOpphTSIiMf/kT46IOEas6O++oRntJB/d75/XaEBmEwkkqmDzIgBcIkOhnLi47a9rRoASgAVhdqd2bddY73aqpUrV6/d+DiobgCP/zqoaEgoAZQASgAl0DuBnsUKpS7w0X5pYV4ujITxp5xPZjvGD+MerW7Re3A/dZUQa7Vv3MhRm55l/+6F1SgZz+eJDJt20KONc6MESEVfzK/fC8z9jZOKAK4qKTzI1/fzq4fGavISqgavS5s5p+anYP7WhwCuKvPt08cfEksogyzJlAwnNTnxsfu9B7aYMUypi3fRU5LkHjKEi1foqEvZIFNhv7U00cBRAigBlMA/Q6BHsUKtCD+vLs87dAjXMAWrmGJX4/ViGMzYDfd/Q84o5Qk+NjaOkaX9tqxQmkuykmMiQoODg+hbcFh0em0/FrGlpFgpCA+becKHxDkblISbKmKS8yxCf6N8gLEFX9+7OTq9sbe+s0JKYOE/JFYAOeubxRLpmWc9E4mDrFWn/nDdMHW0sJ4HkXPJ9ngWKg85vW4arZ6jYqVHSOgFlABKACXwlwn0KFZa0z7uUB47dMgQrmGzrTMI9YVJfl4+4VlVvye9APSvpw61VYa53t+tvkx1+drN2lu3bW/fdhw0vBNe0Xf72S5WFAx8OYsVKO+26sixM/d+re9fan6OBYAhiJbUmixf3anD/yGxAsjNgY/1JkzZ6BJb0jfrn4Pzs08xxMrWgYuVitAz61Gx8rPc0edQAigBlMAfIcBZrMAQuTzccfMcMbpYUXiUgG3FESgQzGjDYXJDceq3T++9vkSWtDE1WzC5rbWlfWvFEWEAYHJ9YqBvSGJB669wyyDUZlrqr5u3fPuTzyn1eAKB2LWRSP2a1tO7WIFKnJeJ8E3dZlfNlKffVwr/nFihtFQ82zlFZu35qCL878PycyEPUKxQG/Jivd55BCUWtZT2KFbIuNqUUL/3H32icur+SI34uayjT6EEUAIogf99AhzFCihJstk4eawgH/eQIUOGDOUTl5JbqHM+OKcVQahNRaE3d6pOlVc5ZHzr2r6loiJSW03epFXjIIBAJf5nNBSEeWgP8Sjs8ftsvWOmMPfQIdxC047bR7Syfw8YAdS2/PgvLy1u33vhlVNP6B02ta3c+fLWzUcsEit7cDjp/Xn6VY5iBSK2pId4ubu72V/UFOLlm7/X/K27h29kZjPh97rQ/DNiBbTlxQZ6erg72t5bIys0Y92hx6/cPN4HDSrF0l+xAmBceeLT42tGC/BgBMWlps7V2bNnzXxpDOswELWtKvi5waKp0ou3GNy+fmKx9FjZ5Udcokvxg81Vpx91Hr0FJYASQAn8DxDgKFYQCMIXB9trzhKlW1ZmWsTUNbXgKBCMK/Q7sVCch09c/bxTKREBrfEG8hhugdFrDF9k1dO8BciNPpslaBKHe5yChvqWXdvUZIR4hnKNWHXpfS2ebWwFLo94cePW84Avr3cumb/pSXyvnVdQ6H9li5bht7wWtlAGVAaUxCczhIbNPfOV2Q2TQmiK++L6xvHZ8VVTMHxTjjxxfPPG+WNIahMeFSt0unBTRoivyxsny8sakiITNh4xtXd68+atf/7Pi8YBFVq/bqbmumlMGy2k87Z3zUtpKXM12SQpwDWEZ4z6rY9JGcme5sfnjx9Bq+cdPiuAUOFzc4s4D9eYWZtd03EIwMfeXocZyj129ha78BJ0snu/ygO9CSWAEkAJ/FICnMUKgoCGeDdtxjDQbJsserMN13w8s5xv6BDukXLHn0fTWwXCp/2SXEOG8kuq3vPJIMAIuTV8lwzNtDJ02JQTHqnE1kJP83MHDhs5h+UT2Zp+UtbjQwbehXhsspv2vPHzjILYrrNkE6623Tb7qG0Ku+BhuamvA0AufGsoISCia5vTPS7Qknh1nTzfVIPEgbpo9hVtT9f/GcsKIwNw8uP14+SWPw0s606vpzz+sfNwfZjhYhm+OedSelOzoCrVXXuq4NAhQ7ild4a10nQvufCb/qpJPF1iBa4OebR44oghQ3mmrTaOpd+DD7s8jnvIUIzI0qNW2Y09TXr/Y3lFI0IJoARQAv/vCAxArEAVvjtnjR0yZAjfWIUrHu3tPZRyfQFNm3CLrDHxrMGDTrHCPU7dPa+O/lXklobGZlK3lTmg4ndXH0a0wa1Rr87NHDfT6Ftxb+yJX/dMUTQPKams4rzVNuF6b0EhYlP6F+ttKjNm6d5LaOje3gB8qvPGmRKyR3x6n1QEUwiNtZzTwHS2ur6l9x4+La//mFgBWJtNYyYtPexf3G08r8eSA215wfcevMkldAfe4zM9XgCtcY43L3sWc7bAwfh8H7Ol0pJrTlhGFTZSOdrfAJT89pg0hqalBdXut6saiM3BFm74fFVLnJ9rCBdmru7jPHrCoQKb+bRaziUyf8en5FqOYfeYbPQCSgAlgBJACfxnAgMQK+R4G2Up4SFDhvBLzr35qYjeZsB55ktpL/8h3NN3PS1ponSJFaktnwsbeksegKgQgOqzHh1QFl9omFzb1svNcO3rJbxcPLx8PW2jZFY5ZvXYImKLvQ4oywiLTNhw2a2Ws98BNdPNZNa4cXve1/eSDARBEh5qiPEP6ykZjPPDhglO2R/Z14DBPyZW8F91xwqp7nuWPwCtgo+2NZyldi4P1/9nesQPsGEGC6epWfc86QtA+FzPnXPEhcRlt1xzr2jpVh9gatgdNYGhNNkhsdW+fUYYu1ih5lrtWzyCi2ZpUdz9ooQugeEqx8W89Fo+YeWL7+0Cpsd0ohdQAigBlABK4JcTGIhYSXq5WFqETazkmC1ud6idsde6pIk6ALFCywpcHu+mJS+54fqnRgLnDjMjw8Sve6ctepFGoEKct455Sj3yAZTWH4E2WxWnz9z2MB3brRmjVr831R0voeZa1fcgEG3qcV9bf6Zi/1tiBRdqJCU0etfjGE6zvmFSa0N1VWVVVQ22jUgvC4DH1taUJVgdX6uy92lBWTWWyVsZUAnY+pqq6trmNjyeQOr8kANEbK2rrq5pxFEgSktDbVVlVR0WDyMIRME11tYUfTFfOHnhpfCKuoZmUvfKAgh5XtfmioutNXyZXIHrfp1e3ahhN1fw0cXKGN2XPYiVfJtDy4Toi8R1iZWKV6p0Sc4jtfplSH632tNjrUMvoARQAigBlMAvITAAsQLXBB6cL9k+DGTSMQyUcGUufRhIbOP1j3UEpmGgPi0rCAKo+GCr7ZMmrX4WnEeGGlPDUpo4NzIIAtfY7Zh95Hnyf1tZllLkZigxXFjrWbsPThdAal3S7e0Lxq24WkwbsAC42vLcwrLf7F/7Tw0DAVLMFZURo2eZh9OWywPkmpiIrI6ygJpyw9/Y29k7vHppbfXo1aeCBgKCUNJ97R7fOKM2V37F3gtPnj7/ltXSjptUn+Pv+NTK5oWtra2dreUtM+fsdm8mCjY18N1zK1P9Q6auvr5ub149v3/1xMXn6Ti4tTbF88Ujo+3LJaeuvvLk6Wv3oNJuvkugKeL0Ymm+2edTenH7BVDCqz3jaP7fQ4evMsPSh3PYLSsw9uvtrWMEuIYMxczVfcQYBsp9OpsmVrhGKe/1Sfuti/B01Ul0DyWAEkAJoAQ6CfRHrCg8zaB3JuHGr5fXDqM72J54EUNfbpbwYe84riFDh8usfPz1Bwl0OdhyT9zsVdjHkAqlrfjWeimFLVdiy4nkPMdDBq41PYkVBBR/va695aRfTlPvvimdGeO4Q0l6MlNo2OxTX5hnAyEIaEzz3asycZHRJzwFAEpr7Cd7B6/Y5t/cg2ZYVk50W24fEHK+2j9/9SGzmqOZh5jzzYF+laNbDPHHV/sXr72yazg9Syzxt7d0/BRTw2mtYEAo8rOzcvaNr+s+gAXl31s+ZtT0/YGNAEGg6jCbY/cCGZ6sULnrmd2HX6fiINCQFXjV5FZkfiNAAAFbk+httWHZxmf+iVU1tS30GOGWPOfLO1fufxxT2IBvLXG9rCU1/2gijgYaXxz36pV7atqbdULCGy65pVU0V0W/3r3V6BsWgqiExrK4hwdXqxy2L6+urm9s7T6DmJrnrjF9jJCuG0coHZUBlMY5rJtIG9Hhnrj9O03WgLbsz/sXT2x3sD3ypgRGQEOMzUppYZqDrdqlOLr0IXy/JME9ZCjfKDVD27zm/1IBOxKC/kcJoARQAiiBgRDoSazAZWEO66fR5k1w8Upc/tbeC0WI1eHGS8S5ecXWnrIvxAPQHHlYDsMjOG7zZdfCFppfAqnGc4M4F60TKrzIMqmPrx4SsalH54/fbPK2HFf+9vzRh7HYHrUKglBx5W9Nd2odvBtV0tzLbb3nneM6KwgC6pK9dijKbX0WSYKQuszP5ndsEit7d7TtPZ7+XAXliU7rxvPN3G2Z38Dq0kEMOzpFbOS4WQbPvnMwNZFoV0WlFW87J3KIhhR6eIqYqIyymVty96vE71flxIRlVfQ8Ujh4CBGCLk0WE56opOMUXcPuQ0rNvKY8atzSm9lU0FYUYnb9cXBJKyN8arHt/hWy81bvMbhs+dorKrMER2p39MDFuV9U0zwdWciwqSAIJefzHdUZqx6l06sTpcz54qaF++1a6N+NJDZU5ZeU14fdkR4+2yKZphEorfXFJdW0cSAEoZSGn9dcddgxiT1hHZns5zorFGyB3alVYpihQ3hEV156Fxcf8uiU5mRRfq4hQ4Zy8y0++jK9splCbgh9tE2ch0t8xkbHxGYA2sKvrcIM5ZmgtMs9qa67TupIAvofJYASQAmgBH4XAY5iBVRluWyfLTmMiza8P2TIUJEJc/bdeJ1NW8YTUFqzHu5fPGHC9M37DQ6vlR8mNGm/uV853eME+uGyedpI7vaHhnAJTpy//V4Qh1axIy8wucXLVHv52q2H9+05/Sa5z2aAVJ/z8vTGmQs2mjqFVLY3Yh1B9fN/D2IFAfhS9yt6izT17109tvvAtdDS36hUQEvcrV2aqipK06XHio4cKSomMVlhvuriJQYvEhi5gMrtt00RGzlF56JdXncTCFThsGO61OyN9uGctCBUbrd9mvRcTccoDh9GgMq9tk0Tn691Jbqag3kAKnmnLTdSTH71HbfEbrYVuMLrzBxZ5SMmlw4fu/Q+oYxpug2g1me6mp3VVVOcMEpivZFjcQtNXwB83YerWuoGL/I7tSVU4W6iJbPcuIxIM6VAlbFXtFfsfBbN9I1raqLFZoGphkmshi8EAZVRLlorNtkllvZU0P0UK7QxvrKYOzuVhfi4hnLx8I+U0j5xZsdKBcHho+Rmq6hvN3juk4QFCICJaa7nF8mMkV+qffKY9lQx0Snrzn3Na+vTNaqn5KHnUQIoAZQASuC/EOAoVvoKEKY0lmWFBfh/C0koZ15uv6/nul+Hybiy3Izc8sZuU5u730s7A0gNCZ+sDmxcPEthnurSFavV2rc1m3cafWufucH5OcbZnsQK7TKEr8xNS0gv73DF6DWg334R1OUmOds7F3ByZ/2NkcOE5Ajntx9T2dUCPUpcbV5KWnZta9dFSn2u8/0bdqG5NMEBE9M+Pzh48l5qFe0GYkPhHb2lR55+a6QQS/0fOYRjEajMxVhrwS4bLBlGYGpZuJPW4nUW4T/KPt55k0q3LVEKrfTmyhzxZR/BAvh4jysrNQxji5shXImv3ZvMbo4p/RYr9JzAuNK0CD9f//icGhK5pbykHMtpcjUZV5cZE+z/NSixoOGnjXm/sbDQoFECKAGUwP8bAj8lVv4+HXJDaW56UnxMTDR9i0lIyWvqakN7TB8lxWqW8LAeP2TY43N//AKAixI8HZxDexsY+w2JgknNYR5PPsbU9TTawhYnrjjm5tFdxrafktPSE6ODXV48tn0f1UgvCEJDwd19a4/fdQoNev/gll1aC0AAMcvbQnfXBe/opPiIgFf3TixdpmXh4vzg3N1Yuv8LXPFln7LiQa9usQNcgue1zVvPvP8a5u90z/pDZjf/WoQuVsSFB/4hQ7YcoYcoAZQASgAlMAgJ/KNi5SdJUn+8VBYZNv3Ie9xPBvCHHoPJFZ+f3vPNYLgK/aFYEaSlIMDmsXMufRynP5ECcmtBatQ3P19fX78vX75+j0qp7vgEFKAQ8qL9PN55fQsISe/wFIZxNQlBPh98fP0DgmLjE0P8Pnh8+PgtsardlRluyPJ47Znc1N2xGW6tyv7y3sPbPyAwNIPjErLkFIcVk0eJ7/b6w6ao/lBC70EJoARQAiiB/0jg/5dYAbjEC4qiY+Ye+FbWDzvMf0T7849D6Q5nHnimdV/V7OeD7M+TUJ7DxcveWRzEQq9PA4hCIuAJ3RcpRgBMpVBgdkcPQCURGd/IhqlkMpP3CwJTqZ2rrrDHCVMp5J4GC+HWuJcGk8Un7nhb3k+bEHvo6DFKACWAEkAJDGIC/7/ECm1eSbGP/jK5aSpbzd8G5da0gUHZuAEA/42EAdBNWQziqtueNGJpWsiLyzvnTJuz48HX7sNDgz79aAJRAigBlABKoG8C/+/ECm3dXAq+MCHA1c7mTWA2o4vfNyj0jkFJAJ/x7vnLt5++Z1c0M5toBmVa0UShBFACKAGUwE8S+P8oVn4SFfoYSgAlgBJACaAEUAJ/gwAqVv4GdTROlABKACWAEkAJoAT6TQAVK/1Ghd6IEkAJoARQAigBlMDfIDAYxAqo+PZo3UKFyZNkadukydOmy8+cMX3q1GmzFJdqH77iFlmAepb0r27AhW9PzZefOolOctJkuenyM2bMmD51mvzcRWq7ztz/mtXYv3DQu1ACKAGUAEoAJTCICAwGscLAUeS4VRQjutrgRV77eu0wuTY//u39YwsmTVpy7EX27/6u4B8pFEAltbbiep6f+wsSASj4L9dXC/FN3GMV2EymTXaCyG1l6SHPjbZIiUtrXv1Q1MZhrf1fEDEaBEoAJYASQAmgBH4PgcEjVkgBp+T5xORP20UzL3gPiAXW+1WHY0Q2Pkn5H1jvi1gaZ2PnXlD7Gxelg4j11ttl+aVWP/+ex/yBRIBLvqQqgRkhfcotl/n876lXaKgoAZQASgAlgBL4ZQQGjVihZl2YPWzk1FXPw1hXW4erXQ1XjsAMnbDVsanvNVGghsKM7JpBu+AbaE5+v/vgxeii3zgcQ2yK2DOFf/zy40E5HR9Gbq8tUKHF2glDeUesueTb7dM6v6w+oQGhBFACKAGUAErglxMYLGIFyn+uyI+RW3biew3LIAXcGHt5owIfF9+qe8l92wMoBXYGuy761f5yTL8oQIBNfr/r4IWowt8oVprjrs8YJrTk8JOszs8d01MPV/noyYnxDB+r75jTfUH7X5RBNBiUAEoAJYASQAn8egKDRKyACgc9Ph6BJUdfVzB/3xaQsj7cUhovIKpyKYXQd+YJGR66avvdy1gtCn0/x+EOuKXQ+8WDG88802tJAJCrMr7bml29dNcxpZ5FS3F4srdTPyVWAGjK9n96y+TafYfo/Hrmpc9I9ZXlLWxmJDjj3mLeEdIHHn5lMUSBtshHu8YI8spqWub+Dwyn9QYZvYYSQAmgBFAC/2sEBodYAQ0uu6dxDxPd/iiqsbm5GdvUWF9bXpwT5W17dPMq9UP3Y6vwfYKHCJVe9/X1Lrs0EP6LnqDFAxMqPtlYPHsf6Htm/oS5O8yeW94wex4Y4nVlnazCpoe5P2+XGKhYAcTGH24mWlKjRktOmCA5dtTo6epWocXtcg4mlLw1f+SVU8dCBlQ/WjmCf/x8U7fUJjrJhrrqkvz0AKfbW1Yu33L+VS46AsTCCz1ACaAEUAIogX+AwKAQK6Dp+yEFcV5BmQNmzu7u7u6uTs/NTXasWbRK66iNT1Idru/xH4iMjfV4sH/vac/kyh4/hdff4gCNGUFWL1xy6gh55ssEBMdqm7zNbaIQ4qyUpCeuOmSb3yVWqDUFmSV1/f8izcDECowr/2xhoK598Ja1i29AoO87+ysH1y/YdCeTABCEWhn38aGDb3VbV2oQBAG17zeIcotNUj1v6eLu7u7m8try1pktq5do7L/kFp6L7+lDgP0lg96HEkAJoARQAiiBv0BgMIgV0BJhMWfMcGH5Qx/TsmhbZnpSTLDDNW0VFa0HHxL7mrMMtZbEO94+vkVz+12XkMLK2vp+bo3NRApHGwylIC7A0zeiidzoqicpKr3aPqUFIAjcUhzm759Q2NT1DDXLbK+2uXde1xnWEiTjmxtYElNX+P217i5D/8Q8ltP19VgcpZv3MFQR7WFiah6Y1elxDIh16c8ObD4bgIVwFT6O1u8j8ulzkztjBY3eJ0fx8M7caPI1vZ1kWnyoz70TG5esOewcU0xmHmLrfAjdQQmgBFACKAGUwOAmMBjECinWcs8YQczUI5+Yxyhay7/qyQnM0L4aX96LkwVoSXbSUZ4qJsg7TFBMavLU6f3fZigetY0hsRgm2ssKkAhtrTgi3Bayb+IwmVWm6cQeyhDgSrIyy5uI3XQG/X64/IHePHnW9EyRGS8sIiY9aQrrafm5K68ksMdCKc2Ij04rILIoDNCWcH/jCZ+SHxHPn7xIq2ezORG+nVXk5h2x6U5ol4cPoOZ+f7p8gpDqGddaXE+yqocMoqdRAigBlABKACUwCAgMArFCLbA5sESQR3CPO5YZSFu1v84EnnHLj3/P7cNhFlccdEV7zpzVx30z68nU/m4QBABnlcFIBTHyjjQ/7yLjII5aCQCYtvUaAgAAgpjTQ2lI8Ni5/3xEXi3zWSoEsQgSZgrd9ykJFzZfcP788MmbBHaVRE42VpHEDB9/LYCZGDUv1GrpaJ7J260qmtnETffQ0TMoAZQASgAlgBIYdAT+vlihlHw7unwS74jlTpUsTXZNqJEcD8/UTSZxZX03sVRCjZfZYZ2DN8MLWSfs/jxwUsJDbQHeUWf8sN0ECSDU5Xx5Y33r7OFrr2OxA7BWDMxnhXPaQf1TzTWHL13wLWCbB4SQMl4tnyA8XFLHt56JJESIsN0tyc2rdPJtHY7pPOfQ0bMoAZQASgAlgBIYdAT+uliByoOtV04RElQxLWZp9eFUs2XDuASU9pqn05pe0PAjoahXHUKq//HcaN/Rx37Nv8Q1g1L0bMc8PrENH2u7aRVSTeAbW6fgzNIXG6aqnIsZwGq0v0KsIHi7zRLqlz7WsuBCEISa43xqogjvOI0XlUyXYGKzu8E8Xi4R9Vt+jUQAIHJVflY18yLBg65OoglCCaAEUAIoAZQAC4G/LVaoTYHPjskJ884+F8jqPQIn3FTh5RJeftw6txUg+GxrQ+OQut4NA9TqiJfam09/68c8ZxYGnA6gMr99SlIiapZV3eIEhOqkxPSauh+Wa8cuPOrOuogdp7C6zv0KsQKabTfPvPm9gU1DAVKZ06k1InyYFeY5TFoFgYlNzkcVMNwS2y2DmikIoSb2xd1nqd2tRV2JRPdQAigBlABKACUwuAj8PbECGj6abNPSWKsoLyUmLCQhv3Tz1t0PPmZ3Dvk0pdqvlx4pr3HOJzzM3mjf+TfpfQ5iAHym2Tb1k5+r/zNj0BD2dPFkqU12Rd20CoIAGIKgthiL6SMmXQ9vZhMNvUb9K8QKKeb0sgPfmVyRqYQy+3N6mzesmCkjISIsNHHuGu0DZ99GlDIkC0xK/3hNaazYouPWiUnBlob7Hvnlszrt9ppk9CJKACWAEkAJoAT+NoG/J1b6zDmAm8tS3KxuXrh02zm6jINo4BACXPcjIbmSfV4Nhxv7OgWIdRlpeVjm9WKZHwHNn88tG65yO6+5Nj7IJ5V53IX5Nvb9XyBWyHG35qyzZHXvYY+G/RgmVWWG2JqZnLt0/1MGy8K27HeixygBlABKACWAEhh8BAaxWBl8sLpSRMm4qzFv0bXwpIhPr157l5P6a17B/QgwvvY4rbylK6iB7ZHibq+fbxzNOmQ2sCDQu1ECKAGUAEoAJfBvEUDFyk+VF8BleD+7YvHK9e3HtKoBGHIAsbmsvAZPZvYqGUgCyHn31RcbBjLPTB7I4+i9KAGUAEoAJYAS+AcJoGLlpwsNIra2EHoaJ/rpUHt9EC7/tHXl8YAB+cn0GiB6ESWAEkAJoARQAoOfACpWBn8ZdaUQKguxfBPT/28RdT2J7qEEUAIoAZQASuCfJYCKlX+26NCEowRQAigBlABK4P8HAVSs/P8oZzSXf5AATG2rKCysaUZniP9B6GhU//sEAITzuB0AACAASURBVKmxPDu3rLVzfYv//SwP9hwCYmN+dk5N65+Y8oGKlcFeG9D0/XMEsBmvdqxWv+UW39rfWWL/XBbRBA9+AlBLZWFhwwDc/3vKErWl+kdhFZnav+Ujegrlv5+Hm4If7J+jpOdRQJ+gACg1+bkV+H6kCiZWFZfW4Tl+5O2/J+uvhUBpyM0s/umJpb8k2XB1wN3FsxQvvS9kLwaorby4HEvgoCtJuKby0kr8wOUNKlZ+SZmhgfx/JAARsIWp0d8j0+tYXoNQ1A3VUZLzrnmkE36FWIGppObGplYShT0wUmNOYkRkQnYD/mcnl/2GQoOIrU0NjXgya2IhYm1RWtj3yB+1LKR+Q/x/I0gAk/EtTS3s3xX9G0npjBNqyAl5Yvb0e1Fz56mf3QEN8e4Gpg71LX+u7CgtVWmxEfFZpXhKVyMI13w/vlgWM1HvS037SUp5xKuzl+0ysF33cMgjTCyM8jS3eptTj+dw9V89BYil4WbnLr3L+EMzQ6nk5oLUmMiE7EZm/QFXuRxW5uKRMvnW7as0UHPKZ9tbLwIauhUOsbHwg+1jj7BcwgDfW4NJrABKeU5kZHxxt7fyP1mhKNjCYPdndyxs44v+R34klOaSYDeru8888mrory2YXBTlcu7oWeeYkj87KWow1AcYWxJlfk7f6M5Th5t71u56ktm5pjA1w2i20PQ15yNqOfQqBpZ0SsaD7SvmK0yTm7Lsqnca0zev4MYMrzPaW85Y2JlfNTx1162keeD9lIElpc+74dJg213rF8pPlZuzTNsxpquNJLeUez02Onbu5iv7W1tX6bmkd5LqM8yB3ADIBTGvj6irre73tuHwnZTCxoHE0f1eONXh+OIFs6dPnbrqwgcixCrRut/+p84QarOemZx66BHbzNTY/2zkoDLYWv3g7eomws+GMKDnoJpoW/2tO00tn106duiySzyZ8Wl7uPyLmZLU6OX3UjpVIUxsin+xd8e5t6XsH3XtirGxIOj6SUPn8GISW+nA5a5ntDesZVSYNWvXq2/cqL5+3YaNm3cdOffINaTqt2kzmNwW/vLsFs1NWlu2aG/R0tTQ2Hbc9Ft2S1ftAaScALujehoam7S0t2zRO3LJN6Wu6yqCQA2pD/UPXPqY3vZH3rxQdeQ9/W2GN6wsLhzefsWtqUN/QKXeO+ZICq18UNBZJF3gAbml0P3C9u3WqWzGPQBTqhLfnzU09c8f2K9vEIkViFD/+uiSNcdtcls6YHTl/J/aAy2JHhb71k4fwTV0jPIOr1SmWvhP5YMpsXB5kNWulXKC3FxS64yii2nyCxAaPl9bK4IZvvyKfxtbT5rpyf/JXWJT2g0d1T23vaqIAKEkGc4ave9Fers2IcXdmCI05oAt4/A/Zh+QsQFP9CQllj0Lz2foEQA1prpvX7TosEcBjID6lE97Nmx6Gp4/wF7Kf0xXD49T86/N55Wct+NzCSM5gNLqc3frmu2mseUEBKEEn5mhuP1pYb9VHAxDEKOt6iHGrtOgMfvbYdXRXEOHDOXhE+hr4+MTWXTE6kfDf8YGqGXhrzVnjJyy3xH/R1qOrhz3sAcgYvhLgz2nX+T+mhcPXawc+CNiBVArv9+bN27W9e/1AIGLP99eoLI3oIleXaCaj6ZbpaZuC2pmLTK47vnB5WfsEzkPB8GtTqfWHn0c3JPxpakwQl9lJEZ687usWhpOALXVFYV5mGnMGCMyXcc5pbG/ta+Hsuj5NIxNeLNp1mgu7gknP5VxWFUUkApdT0mKy2qbuiSWtTDnGVAbvj4y0Lno3ERkPt1zVP/pCiBXBB5WEN90O7QZIFDhB+3ZSqdD27vfUJ7HJfnxU88wDjlEAzeFHJKXvxXSyJ5QQEiyP7XkwPOafr8KEAQZRGKlOddlnQSP0IwtrrEVbCKYA4bBf4oSu1eWZwBiBVAaaqsbsIP3g8jN5V+3ymA6xQoCKBVpfubXzX3TK39ZeVGwmVllf89KABPqayobm3tvdAC+9M3huXPXnQ+raO/QtT3XEFXc9iiHjCCgLcho4dg5+iG0T4X/gg1qrXY8rii5+FhobhM9OLitLMp029Jlxx1qSbQ3AKU44vxGRQ2z7+wdx18Q+YCDAPUfNohg5my1ZAgrgP/hdnSBwiqrYEaZVttvkpmt5ZHdc0eYKU5AJSR/ee0T3+9vS5BqfO/vlR6BEVtmEl1U1ctWlp/88uZZG78fHBoJpgT0c5eQ8+3ocunBI1ZwRV6HNqg/D6/+NVUQ+VNiBVAb0ty2K81cfTuyvTEkJTismD59n1cDgiCk8khj7SWaN790GFq6Cqck3HKXroFfTnO3/FKrvxiqrToeVNHTGwVUJL9Vlxo2Wccsh2UoF2CDLo3n5p688kx4TU/PdiXg5/ZAXcTZNdN5eSTOh7CZHmjhAXLDd6sLJxwS2O07AKpJ+nB0+0Gn2I6vv/1c9P16CpDqk81050msNstqLxJinJGq3ISDvrQUkkqdzmoqbLpb3o07U9hwqdueFZpXYmvZf/KgKc5YbfE+l3wORhmm55l3B41YAYTQG8smSkrw843TMfPFknoDwJyBwbsP5RooYPovVnDVKY9vXHsXlscuQgdNDlsqI/ZMYxIrvzxhMC7X9+6yXXZdQwi/PIpeA6S2VXlbXH/wMYqt88byECBmuxybLCpl6Jrd8TPD22qKTFluGFoHg8Yw/fnyei+z2F8xLEEM4KCtJvn0onEqhyx/0DsnMLk52PronLnqtuFF7QKRWhJhtHH6zMPOBKZRop4igEmtFRXVOLrK6eme/3AeNPqdGY0ZtsU8np59mlTZPElo6TGnkg5Sta82j5FVsQyi92L7igkiNr25qHPJKbHfzQXAZn7YozKBh0/2pFdJL322mmTnqyZPM5p+zU+NmPPt2AqZwSJWQGugscrS3U/zfonDFK2M/pBYoTblvjy1Tlb5SGhHw0ZOer1q2lilG6kIQikMeblVc497chXzaEh7DSLUZpntX3/iaUADq30XtKWaKI/SsYjrcWEqAKe/M5DlH73pllcNKy5qjvUcniEjJy95HvXbnELIPx7tUBbg5tv8opQ9U4BcHut5+5F7URt7Gw+TmvzMD+gYWP1o7KWC9/XT6ud1SmOYzYlp0so3o7CMFJISLi6ezKt8B0EQXH7ACS2NSx8yeg8Mbks8q6Z03jGpWy+ckmO/S1L+QFBtf9v6wSJW4Bq/ffNVT9y5rDyaV3TB8Yjqtt4RIOzFy3J7rxdZ7uzpAADWMNiPe3qO6XwvYqVbaABq+nxTR05hzfOAXE5v0G4PMMXTfZc16d2vczjTewTtVwcmVnoPkUMSKFWxLrsXTuRfa/NXxAqAKWkfry+dPOuIfUgvYgWq+q6vLCmsoB/ZOXILl5gq88uoHvpWTq39dktxtVFsx0+bQy4HeKo248WycbL7LPzq6S12a0XocRUppX3mmXWMt1hb9rejyybI7njRj284gLr0r6Z3nqaX/573L8AHXVqKGTbpbiTdKwWq/nBqiYDA1NthjR0VEk6/rSI8UfGBb2l/MECEJscL2sZOiQN4K1Mbg+9tG8XPM36JUXRDR7RskcG17kY7nwRVDCBYthBYDweVWIFrffWkxQ875v+q3P0hsQLIhaEvNkyVWn/Hn8Cw04L64CcLZUZOPxeOUJoCnp8/cuV1SQsH4QrIDf5PDq3Qu5Fe1d79by8eUPftsqSg4svcHjsOACZ7nV0gIDb/2rtEVkEDV3oeG8k1VHLeNq98drnAWvj/4Qhu8Dy3RpiXe9aZILY4iDVZTk+feCeWdzfx4mqTjDRUz74Mb+1vE//TKQQtuQEn1eSkN96v7EgHXBdwcN4EzIyLCCBn+1ntOXojrqKPlhrAZO/La1YdsEhvZE8xXOWxXnzMMZf+DmEPErFCzbTaPEPPoaAg+rKmHC/vuD3OuRwZQ83FPjZX92zfpqutoaFz2PJTQmNHpw1B4OaiqGcm+tu36W3RWKd7xNQ7kTYW2Jbtf//8ga06uifM3AoaKAhc+cX6psG+bTq6e+59yiRDCIAo1T8iXt07tdnApp7UmuB+a+vKBQrzlu4z+4ylwoSGbCfTg6uUZ89YsPrEy3gczfLelB7w2ujQbh0dnXM2ETgAsHmR9vfO7tDV0dtv4Bja8YHobmIFUNqygx0vnTY8d9Zgl/oK3ZMPQgvoo8pwhefZVROFeLmGj5m3dJ22zjaL8PYfGIzNC35weq/6SsXZ85bsMn4eX9rd1NnFiVAeZ335+J79uzZvUN9+zPiZi09MclrWj7w6HIDwdUn+Dmd37HmW1BLjfHmDipKGsXMNjgJT2uI8H547aXD65OFNamv2XXmd1dkGIwgCU8qTva4c0t2spbNNb/+V5/Zbp3ZZVgBErkgPsDQ+aGgd0TX7A2rN9LE+vG3TMsVZSqt0b7wJrcXR3i8AIpenBlhfObLj6rtWXKnnrf0rFGcrr9pu4ZsJ0eowpTT+7f7FsgI8XNxjF2zW0T121TqpAkLgplgH42PHThudNTx6/NS5G06FHAacoLrsYLMz+7bq6OjqHXzkmVBdk+P+0GiXnq6Oju6+kzc/xRUTAULM+3rt2I5t+0+6Bech1Na8SM+bx3VNnROTfZ7orVBcqHvP1/W00gQhHq7hsguWbdLW2f8ogtPrnpL22kBaeNg8o/Aub8M2vy2ivHLLT4bWw4SSxMDkaja5SSXUuJrorN1xKTinH4NDAGquyPj8+tkja9eESmLu623jpFUefP7R/pLOfbNXcqTcsaeBHUYBuCzKRXPacPlDLn1bVqDWaJere08/za3nlLOuejSgPUpNqp+95SNb98CS6njTlbK84/d8p/ehyJnO6+TEBGacSWIi5awjJiyjYhlU1584fkasIAi58sue6SKYEROO2adwMK8jSFvkTe0jjv3/+GifSe1JrBBKo1+bXzlz6tyNh3ZfkjpeC0zBNRZEv3OwsbRx8IkvoiL4WDczw8NHr9h+qWvj0CQTseUpMWEh37ttISGRiQUdbn6g7v1RceGF9nkcQqDHTKlM8rGzfPTyfUh5M1sTyZQylt0eLSuASiyM97OzNLewtPOh/Vz72Kj4pqLCYiyeQ/WD8bXvr6wTG7P4SVh+x0+ckuJ0frr4MMUbaQhMLM9LzSqs7Wg02SKiZH95snLxFrf0yq4LoPnzaVXMbJMfHGJj3AVTSo1Vho+creMeV8MsbEFb2p0NU7l5xfc8jWbxFukK/ZfsUWKf7BQX4B6n8YxlpBMiJPs9f/wqoI7T8EJNovmqeWq2oT2M8cGUuvxYj5dP7ltYOfkmd3MVYU82oODKCwurOE5kg9ti3l6YJTpW1zq603GHmOSwQk4UQ7OsQI2luSk/ivEdpcUedOcxgDN9LyxduudzWhMzZNp1UPtYTVjlkFMVu4zpfJhlZ1CIFdASdUpZ2TgMj0AN3ywPTRLkElC+0q1rAJqLIq/u3XT4wad6EkRtq7Y7qDBMROGCRxLNzQgmF4Tb7d609aFPFhkCLZWh+2YKiMze9j6FxqEu6+VyUe5JmlcSyugigIINfLZ7PI+w+v0QIhVp+uFzbZ+6rAg3ZrbOnaObtx27/ODBNZ1Fk/h5xx92+nhZb9PJ209tHxqtnCLOxSNzI6pdSBLDb23g5Ro66+BbRgnAlQ+XDeMVkzvjlMH40bKLFfDD13TBVOWb75MIAIHb4g7NFFXacSepDkIQSmtDxTO9iZgJSy0+xNc1NrVREAQm5QU937f3zPuUagCT41yM5owSmLTpRnotc++hsywBvvj72Q1zVc974xCAzf9uuEoKM5RHdOK0+SrrzL0iLY+vkxEdNpRH+rCF6abFqvITRISUDFJqsfGWGnLTV1iH0OYCElPN544QWm3oUs540cEVYQ/XKy2+7pFKW/IHl2u1XV6Aq8PBFm789uSk2mwJvqE8yuc+tdIH/2Fc2ce7BrsvvypqhUjYXKsjKiOHT9hlFUKAQEOqx5ltyyX4uceqHb6stUpH3/jiiW0K44bzSGh41dB8Pajktsy3l2dJ8POueFjS2IhtxVEgUqrNLtHp+jGttCHcQu87C5foR3dp0868IwiMDXiwe8IIbl6lW4V0+lCF//55kkO5+A086zt/IY2ueoprTcJ/pDne2DltlMBQHn7VA6bHNRbJy4weLrTctqAm4InOaMzEPZafi+sbsbQy6LYRfjzerSKImXA+pIXYsbWGmUhh+OZtuZ/F6QkEQdpqAnfIDeMRnHPFu2siQ7egaSdgKj7B+fzaJWsu23+J++58dMuRIxrSE5W3f8ykN7ug0VJdVHDyCssv+fj22AlN0R6X54gIqt0KIvbUPHXEhK/KvHdY57pbfDd7bMcdA/oPYFJNyrNjq+RUj74Jiv3q9OC8gbbCGJHRem/pdhti7LNDE4R4p58Kbu0ARWyNOCyNGaOg7prer2by58QKgkC5NlojuDFTV536XskOBVAKH2ppPO2pqAZEoOPm7mIFpjRE2ujPVFB/9DmpqrmtMs3HSFN1sYFLQYcLLoBaop9oz5ZfZuLgHeT9cq+K/JR5atc8E8I9767WPJFR0u6f1BEBTCr2M10qJczPz8+HwWD4hvHz8w/j42Xs8fMLjV5kz1CzRL/T84bLHIvqDhjApOrEx/uXyK8wcAmO9bO7c8742NopUqsfpPQlMjiLFUCu8rigrnnglndUSkqU38ODaw/Y9jYiAEiNfve2jOYbueFuQPdPqrVWJpxcKCymqv89q4ZRX/Cl7le0JfhFtrv3OWcE1CW801VUOvMps/PHjhATjJfIjdnn3Z1EB1aEWu2wdATfDM2L4SUkKpVKpVDIJGJrdfYbYy0Z2XnHX6f8nnlrnfGDyg8XJgjzis4wjGWy/rRVxTy5dD2iivPb5Mczzemqe304ilFATnY12qJ15KVvTEZK5DvzfdqH7Yt6yT8gpHjdVBLnHathTuo2awzClrw8pjR81NKnkbmEjiLJcLkwfTT/qF0fOvPQjx1QmuCwbv6yh36Z3dJCCTs/U27RidCejKCsoQ8GsUIucL+4YPMDujEINCW56cwby80z0dCvhvlXRMVXvTm3fvXee6nt82YhQvLHa6qyUho3v7SQQFt55Jl1ygce+LUPd0L4Ok+TDTJSS29/yyIDpKnUT0ca0yVWAC7G49x0AZF2sYIgoDnjy4FFY7hHLbFMbG/byBmuxjPH8GEk1GyT2o3YpLgHm4dxcy82DqK3G3Ce3W5+ZrGCkD/uGsXXm1iBvE7PF5602iaAVtEATLTfKTNq7tZ38bQZ6gDC2e+WwUit7BwGaiuLubxto9Gr0AYCmUwmt5Ym3tSZxssrrf8+h7UE6UdQU5CN/hTR2ddjKmjHUGPg06NyIwRUroa3MwTNcSbqCnzcQkvOvC/H40uSQ/2jfuBJBdcXjRg3T+ttCl0AURL15YZNWnYskO4xRa3+tl9hzKoTTqUdP6TGPJe1Y7iZHGwJSV5X5ozAMMQKTMrytdDcdMQ7tZJEJpNJ+B8BNmoyfHxTdoc2kBAElEW91ZzOzyu93iGJBhkQix3PbRDnE97q3N7Phks+35ojKcC3pmMYiJp5e/10gWVmJQS68CYX2Fx8ENGDSyQh233zzNHcI9d6lNF/5AAfeXsDHxfv2iuBjE4naPE/oXjIPpN2GdQ77pEfysU7T+9eYi2+NjvC0y+hmUqOsd0xBiN9qOdhIHzGh+3KkhiRuYdNb3ZspoYbpvHwCqlf+9rTEnAQCRvwwvjUtedJpb19ghIQ60IebZsqu/CuL2MmYOv38xMxAgt076bSgwZ1bmrCPGKTlPadv94e+w3TS7vWzhDil7/wOa33Cf/UlrJPDw7s0H+Y/N8nVNNqGNxWFn1n57KZ6peT2se8yGVOp9eJ8QltfkXrJQJ89pN9i0dghFUPXesAddP01EZJHp5pq43j+jdL5WfFCoLg4s/OF+ETn3H6ZSTLnG5ALvp0S/uKf4/xA4jQgm3pshPSsgogYnlWbGx6Cb4HxGxiBVCwMQ5nZs9ca5PeZSGH68P0Z4osPfGmsA1GELjqi/EEDEbHsn3KGGgKNBnHPVz3YWxzG7aqrpHM3FuF8UXfHm5aqWlk4fDey/XKvr3nnjn5+fq8eGB4+PhdT18/Pz+/oLgixigGVPhQXVZ4xcNuZhyopSjsmu4ieY3rKe11kFz08ugyIV6hHS6sfXQA45pq65pwTO9ejmKFnGOnN23RhUR6ew5wGU92LpivaUl/GTH+QOSW2uq6TjMKIDYFPtk/Z6rCzkffid0sJOWxZgsE+aQXap6+fINRty+fWDt3wjBB1efFHA1kzFEh5PxA/dWzNB9Gd47eQyVeWxUmLLyX23OnHdS4bhXFCC3YdOrlu48fP37weGN36+zetSvU9l60iijEskTwew7I8ZZzxIePkNjwrqIjmaQaXzP9J/6l7CqbkQCKzwmFWesvRneOrDIljPTjhfrM5bbJjCKJerh1wbwtHzvm5dF+tBCpsba6pXM5NoBP/2KhPnvq/N1W3Vf8ayoKPzR3+HAZ1aNnTRg/4euXdq2eJcQnqGFfxRRt37t1OUF7lOecfhPRfeiqyk5DeubGt91lDKdQ/75YgZszHx7cauDGEMWAWPzaYJUQhltq/YNspoHE5vy36lOnHbEK7JiEBgiNJaE+XpE5tVQY/Hize+r0ldbBHeY0QG0oTvT2Csito5VcU+kXHRkWsRLrcV6+S6wguB8BR5dJYqYdSGA4NLUPlwph5l9rXywRQUCVm74gD5f8Tge6PxCcZ7eHTax47RHvVayAwlAni6euaeWtAKFiixNN10sOn6buFE7zrmIXKwDKCbitPHnGrrO3bV7QtueWZvraqrLjpdRuhDC9RxhFCnDFjkZrRXkVbsTRxQoClwU9WyknNHabI0NpkNLubJnHzzP+YliH9KC9hnHxb+9bvPyU3wQhVFxFuruOFGaC8o5POVQEoaRarBMRHnfaraTjZ4S0VIazONgCUrrfPWVR3naxAuFqXM4um6K46cp96/YkP75xbr2S3Hip5Q9pb21QFfdOW2HEiJXX60n0XyJoDrDYJzUCs9gshx5Fd7FSYKU7h2f4lP1mbxMKG8gAKk9L63GmELXS7dgiLq7h26yS6a5yoPaDgTDXUGlV/eAqWnTU0g86C3f4M4ZoCB+PzxrKI7DlIZM/BNynWKHm+z1aIj1cQuNeTELHFuOpv2AMr9DkK19YX/qcfmy9niMXf7m9YLSg0omPnfMPyMk3pwuO2nLDnz74B1q+HB/DK6ika+oXx4g9MvDDUVXxEdN136f2aEmFyS2FCf6WZ3XUdQzdogobm/u7teF7XDcExtf6mO+Rk110NyCfkSmo1vOS5mixRc+LadWTXBigv2oS39gNDtEdoBJinA1UeHj411z06TZ4TQsDphBaWJPWWFPy4vSmM89DG1jPt+JJnXZpRuzs/0C2x3E5Qf4pGy+EF3cpE0ptwn2ja175nF12qM1lET7vnD08XR0dQ3O6LOiE+uzb2nPUDO0KexiDZRUroDUvyGD1ZBltKyyz5kCo6TcURcYr3fMvhRDCFyNVrqGCF74ymmG42nUp75Dp6mYM+whTdkBzut3dRz65NLlKrY29bWIeXtSAwOToN8b3XNLYmzRy/Hml8WI6b7pUEj0oqK3i/S09GdkljyLKGWFDVa6n1UaKLX3FqmsgUrPvY6P7rl0eWZx9VuDqF5vGj1I+7p1SjCVQ4ObUF8ZnzDxZLCt1CfYXL1jEVXa+rmBcfXF8ZFxxA9NrnZEakGqjJSootc3kRWh8e4WJD3C+v2aasIjKxR8E9lwy4enITXmE0UaFRee/dIoVSrLDiskS6q961hyg5f1uSb6RMruvu4ZHRUVFRYYH+78yP79ZTe2o+cfy1m5WAKZYAURqbe5za8ERuk9dYgoFQUC1l5aUCL+ovEU0fawUEPM+3Dx9z6+as1UFQRCirda4BVvupHHQb3Dxsw1iEqp3fdOqsAQIxoY9O2/84EMxk+NwS1XMA+NLnxO73lSUtrr0uMjU0qZObp3pK4u3Uh0puGCXqU8Yo0jivr0+uFJu2EjVl4V9l0hnOAiCYAui9RfP2G3p39AtX1ivvZPkFtuE98tN8a+LFag8zHaDotJWQ+MbjM30pJaSEB8Xn+iMWwFdvt+Vnw5LjlG49CaBUyUivz8oIzFH0zWJ4xDJz4gVbNizRbLCzGKl4YPhCAzXNF2bctqv7yfECr34IEJ5WvBrG+sXTh4XNoznl1v3OqSYg1iBKTFW2hLSi0ys3IOCmbfvUVksw6uMOkGq9LypI8EnpvUilW4IBQ3Rr9UVxsw595VRrWhiZT4/j8y1eHZ+MKk1N8rHzua5o7u1rjRGcoHuhywqAhU/XCvJLyp3L7TL44DdwZZVrBDqC0zXSU5de/zVR7YkR+Y00mxJ3cRKa/DjgzJCGJU7mZzFCkIuDbRYIsHHN2LsgnV7H7hH1nX2CZh/Cox90Bh+czIP15Q1JvFYgFDLXY6pKyvJjBg359r7XAogJT7evsKk3fMTQZB2sTJc71nHmB2tSPsSK6At8tW5GaLC6x+ndFqbKXlv10mLjJx1PPK/OdWC1nTzbUr8fNNvxXXanqHsh2oiYnJXvNt/BVCm2TI+wbG7HkZ0vn8a8t9vlhZZsO9hVk9uKOS6MMdrGxUnCWJ4JWcuXrtBvd/bRu1j1wMzWZai6qTemB90RFl84trLSRU0Jy4avIaE67rzRBXPt9tH62NdNs8eNXLNgy77LqXgseYU3uHT7oRxIgWagx8f19iozrxtWLdmziSJSbMXr2c+q66uuc0koIqtOaalgXkjNqRf3ygzTET+1Js4RmMHcCmelldtvzZxmjYFtZZ7W5qcum0XlZEb5mJ07KxDXsdoWVWijdrM+Zec41o7m13mmBCEVayQs/0fLx3PP+/0Z7aWqs1NV1BgrI6pVx1MjjXbyDOU3+ADAw81/+U8zNC5aTLtawAAIABJREFUu152nwUKiI2l1e16CyoLfX36hn1hPRmmtrka65j5sgoNWr0OPz5TYuwuT9a2DK7N9N4zf5TUxpvZ9R3yqC7aeKPCSJWrRZ19EXqmYCrhR/S3mOxKpuFWTpYV0Bp4UWU4n8iUBcs09PZffPg2tQLLxrWtLD4gOL4axxoBK7qOI6q3gbzARFVz7w4PE0BI+XRLabT4ujsBPUrmjodp1a861mTL3PknPDtVLDHGZqHsOB03zi0C7VF85CEpblG5FbaxXXKW2pxve3LZmHErrePbe31McXTtkhIdzmmy1lV1DtvGnectE0s4K2NGYKREo/mjMSMkTrmVwgjA5XidOfUotq5bk94VddujtaJKeuachjFB47dzk4YPGzdVcbXmNv1Lj/0zqgisgzvElpLIwJD82o6a3RUsh73s9/pSw6X3W/o3MJoQUJfgoTdffNyGByxDHhweZT/VUhx3ZuVMXTPvum528ebAE9MmKT8O7Nf0wL8sVgCx0vP2Ea3dBg+eWHVtj021posM5RFYcuhlYUfbWvxcXWDktFMvIzrf5UxICE83DBeVX+sQ1fVuZLr6U2Il/NmiSSxipZEhVqx/WqyQm8s87+lv178VmFbcgMW+3icn0JNYgSgh15cLSK18HshxcJI5c/R9QCkNtd04Q1x45v5vVTAC4xNcTFQUNzkkd1SCHsQKGZv17OyO/ReeRudUYJuTDOV5GWKFEndqhtgwUdk73/srVtpqsgyVBaZsuZ7EWH2ELZE/IVYQhIqvSnI7uHjCMG6MoJj0KsNX1Sy9VdYoSPm3VQRGSCmbB1Q1x9tv0LocGXtn9gixtafs86uizm3YY99llvkpsQI3fnt6eNKI6ZdCO7qnCCXNXn+CsLD640wmgxVrqvp1BNqSnDVmjcZMM0jqDAiusFaXEJXW+kCvcAhC+X5mxnCxSVe8u9TqD6fd4yVmX3SKpY0tcNwAtbUq66P5UXlR0XVGb+J+5PZ/KyipbOHcqQU5AVcVhoutu+JRyegkA2zKez2lcbMNvekvWrj0+8s1U4Tmn//W2b6TMpzUZEXF1cwLOjPIkmCotbYsL48lddlp8WaH1h65/yGL5XRuXmFFC6UzYJZQug5gQsK7y3NH8oqvME7H0lpoUmWS5d17fnQntq7b2vcAKcv/4RYt/c+p1TBAan847Fy382Nme82Hw2+vVdxoFF7JOi+WKQgWsQJwcR6XZwtjFl0KZPuWDtFrjzBm5OoTdoVUhFTxZfckPsUDr2hjrKAtxlxbYMRs84hel6gj1/o8On/OyreOBCBS0XXdJRYBXTWBkRxS5AmFceI7PFjECiCnfrogP1xc4453A0ODgKY4Z83ZY+cZBXPqI3dKcQYd2gq27IvCAXJjltPlbfNlR/NjePiGj5y84V6H0OhC072/3nWNZY/koCcxZq6WWwJDyMK46neX14yR2/gmvpsgY3mQcQBXx5hozV14+nOnWCHHPVeRHbvFtUexQo6/J4vhklU9HcE0NgvaSp0uqIlgZA19OkyGHKID+PryfNa6ylpD24/yCstq+5ijB9e91J7INWykzv0IMqHwtek1h4SOwQEO8dIU1pN1ooq69+mD2ex3AHJj2Cvj9XNlhPkxmGGC4nIb3+R20z39LpK0F7qjJBRvvk9hCAy4Ndr5vMLoKcfdu7pq7Cno4bilOO70ytk7HvrVd7TmnTe2fDshL6fyNLRPtyTaE39XrABsbsjpPbvtwgpYfzNwga32cK6ho2asd4hh2IzL3+4ehRm17pxDIbNUBxCBSIIB0XmnBEZc4YJjLPM6hoBKJpJoo6OMYSCNDgdbus9K78NA2P6KFdcOF2ey155efVYA0ct4idQcLecYmsUewGTn/T2LFZgSabFRmH/y0ZffsczjuwBqKiyqZoXVUfDksnCbDfLjJWeu2LZn3+7DFz3jy7uENUexQs67rzZu8uKDX4rplYiacbpLrKQaLxDnEZTQd8zpbBZ6t6zg6/IurRw5fKaeV0qXPYw21kRtzs2r+inLCkSifxCH0lbl8+jogonC3NyCyx5md+S3+3+41lVPVGDM5gtWT02OnHiVAKjVt1aLSqrsenbzzNrTLkzvrZ8TK9jgFyemjl1ik8uQgHBLyt2tiqLTD0UxBd09Wf04A5f6P1SVGSGxy72zKYfrvbXGCUpveFwEwSQSiUIlRV+eLyIx1yq24wVEKb+zarT8+jMh5R1neo4Jn+26fdH8s68SWntRez0/znIFwEn2O8cKyZ9xjmS46QBy+sd7CyfI0B2qAAmPKwl7tWGGxEbLNMaDcGuI+S7JUdMuRTAsMSwB9nDw8z4r9ACJZXFXtsgP45HY8zYfholp/nZ3n3iUdVqlmCIlNRU92K667YZnJZ1+dYaVupL660i6VYmSfWHZVINXaZ3lwvQcY5dFrCDkDF9zVQm+ud0tKy5a/PyjtUw8ad7suNjTmjuO7FyjtnHrLj3N1ZuOvWb4/nQPnnEGV5Zoslf3vncaESDU1qC9Cxfc9u4aomXcRE27ulRqpMZLloE2iBjxVHe08KxL7+M7tCUp6e3VueNkT3gXIwAm4QkUgAAIn/v1udHJE3fsg2tYhBm7ZQWmktpaWhir9cCk2uxvlzfP5uedcKXdrRdAuOLIp9fOGp43C+tcYKfHbLVfIL/dJyu79MCXjq4Ztij0kKLkytP2Rb2sIsAUJlQSdmb9zBXXvne2xdQsl/XTJNSsu4Y8mG6nDQunPtqEGcqjrO/O/PEaYkWq6SZZbt7ZN2P6NbueNcyfOKKEXFjAjRFcccIhxMvmqt1XbB9faie/2SE7T/M6+6IlMJXQ1tKMa9cVcFtNpvPFjSP5MEuvx9BfDYCKK/J5YmJ46oJLRFkPnlfsic9w3D1RbtXzAMYXCskNuU/2zZdRM4ov67AVAZhCIuLxHeYbAJGJRAp9bidbWI35kUcWKRyyDcJ2tiUddzR57JSdttw+rqtL3HGFw/+/KVYARIx2Ord1/83EKnbFBbBBu6V5uYZP3H77YzW9CLC5DqvEeUVmaFj7Z7VPlwJUYlWK3xOHr/UEctZLHXFeAYXNFwJ+NLS/janEpmQfJ4dvGSQqwJYF6E3CTFhzPrqI9q4E1Obvdodk+YQ23Pve3nXs7rPCGAaad5Vu1qY91DEMxLCsFL3az889dMaOl1XtBUCtt90ojBGbfNoxnVEi7bOBlHZ4pdKkOyB81RqDkVmlH0CfuA9g/Msd0vxy616FFNO0C4R/vXcSZvxSS/9sWvUCULa/6ZwRvJLLDfwzGIvmAIhQlfb52vU3TC5TnSUK4+uyPSzvPfZKbiO1tbS2u6R2XkWQTrES14WaFGYsycM3d9MtxscbSHHHJmPGLdB9n0VFQIv3cQUMz3CVfZY/OtY2aK4I3iGHmbjmXHT7145ow0B3lUR5lc7SZgNBbdVOhguH847ZcOVtKeOL4YCKq0twv3/JJbc/YqXM587c8QK8yx8zPopFTn54y626XXDBhNzPt5XGj+Bbbc2UK/Zd0Ba+b4rQ+MnyStomQYWNCIDjbHePF5ecNn3lja/MXaUOsfK0o7Dow0CxdrslMBP22gQ1cZSDgJjibrpgyirbHLpHMEzI9rq3Yv6icx9y2Lqi3ZIFt9SVFpXVMH+VjfUeuCLAcumkkcqm8QwTCaBUfjKeKCiw6m4SBVfgav86Kquq1GHL2HGKz9oHQgGpxOu4/ERF0w8/mCz2rKGyHpVH2u7XPfg2vppZ/bLe0r8jAKc47ZswXuW+dzrj7Uisen9Hd6LUBpesaoiY++Ly3bCYDztUpmk9axcrcEuu77E1istOuXUo+35F9B/FCgK3xr25MGf0MAEF/eD8nFe3LrrFMr6AxxZ9dfyTZfILLjl8LyotKysri3q9f76itntyK0BAS5jRqlUXelyyhR4Qq1gBzTkBx1fLSq67U8k8LgLwoWdmCI9Xuu1TBCEIOeauwuaXdWSI2NZCc8FhS1D3QwBl+d1Yo7bbK4VmPKY0f9CYNOXE8yh26QVqHXfLCy24ks1cgSFi1IudkhOXPw1k2D5gfKmLiea4CRs9ChuJ2AzbG4/S8aSSgBfG1t+Lsq02Ldzk2u5xz0gGq1gBxGzvByumTdKyzuhMdvM3UxkJ5ScZtFcXqTreysw6rLTUQlN624OwrlYIwG0NZRmpmRVY9lQjCBxqunT68sP+7Z1WQAiz3DpXeZtzTI9Lz7IRwmX57V+6YO/r5M5fIqgPOqooI38hlplE11PUUmtdeS5uoYNvaMXRsYGarC/b5Pm4R61yyKT5kJIJzc11rDOzOm79Rf/hcgddPi6+qUraJ82sQvte2gCONF06c9XJ7yz2F9CS+XHfYjkpbdvO9dUA1n/ruFFaz7JouSNV+Ty+8yyyMsZMc9Wex9ldZjdAbqvPTU/NrWzuFHmd+SoINJk/U+1FUPs4IcgLerhmnuo194TOV3tTcfKH109NDE7c/kJzByaUxZmfP20dWtIZQscOqM701l2oZPo+sVvBgzyL5TLzd/n0bzHevylWCFVRZ9Ys2HHzAydTAeHzkUlcQzCSqgc/pdNn9+Iq7E6ojuLjn6i0+ZK5jYuH55vnFhfOXfOIK6HASGtpgP4iST7+0cpa+hbPHT083WweXDtnapNAn3+Bq003WiomMHHxVQf/zMzUUO/Xlw+sHS8wbNbuh1GZlUQAmjP8Diwag5HbG8PwqwJ1QY8WSo/gmXoqhdG4w5VvjwnycE3d9Jheu0FLyA0pPi7xGVrWX+NSkyI/OT87sVScR3Ds5gtOWZVYWgtLSTwgxyM2T/ddIu39AnDeGmLcI2RUrzoEpKXGffV0OLxkDGacsqmDb0JOFQyTfYyU+YWmHrX0LihKD/6e3lwSdVFdjp9XZPYmA2uXDz6+n11tH5w5cd4hqnMMoqMy0Kb/YCNenVNeqH7d0sHj/cfPPr7+34LCopPyqju6vm2J1zRnD+Meeyqwq2tL+D/2rjouqqb7v48SgmCBolhgYnciYncHdiOKiIWIYgDSDdLd3S2d0t3NwgJLbvfuvfv77LK77FKK+vwen/fl/nPn3jt35sy5c2e+c86ZcxJV5kyePHftKbPInNKC9HBP3SPzeUSkDhgH5ddC4f151gfmT5m2YMtTs+DC+rYuaE2Mk+q22ZOnrzll7JHQgCDTQHxR6IcNwrzrHvsgCQANwFdE6e9dJMQnsvrqGzPf0KioMH9rnTeP39iU0bdkAG3ffM5ICQru/dg1YGAL9EXp3Vg4lWfTxwLGgAIismxlls6YvPhaWE1bTXlJW1PC+3PX9bKYGlJKS9iV9Us3qKZwNHtYEiRFqstMF5x/UTukiy5kA7sqQq6snj5X9mU2lCOWOojwub/2r8kCZ/SzB1fMIKUs7JXUlOnST2zKmpqLk1ObhmocQXhJ4LXdBz9lQOm7pZvTNR+cv/3Jt23ETc4cpJHQTQ7Pzx699DKifNhWWlY2YvPXR7LL1ynH0UcSgNhZkWh0X0aIX0Q5Gg2vSbd38qnpIVEaXY+vlPoU3Q3QqP2Vofelt9zUi4L+IFSh0ahYWKD+IyWD4E5O8SOLgPGcwdZch6Prd34MyGfwmFSdYHf3gNScnUqFbQhErv5703QkvNz4juz+94n0iRnVGqCrcOam+ngjAP8qWKH7XMl6e2oNP8/MPfefqukGj8IrIN/wiKSU7CsjB1f64fTy6NJ1x19l0FchQJO3qnbYd2IZYapiHsgskLhqjx5Q/JD7stzUtq+RUQurZqrnQBKsyOvccrETrzwYlrI0ao3zLsntygZ2rm7u7u4ent6+QWGx2aVNo3nuBsgd1tc3Sl/XLe6lzz4UdJKchOhBJbt65v/N/nqUCrPT08QuRHHuFgEpDamWB9bL6EaUEhgSlPJYqxsyy+dIv6zsxsCyDLWsv2EAVH7M19JeZLHV2d1HX6YzV2ADxXKDFQCR+EVZdt8Fy3SmABXAdcbp3t0r79TCWGYhq7Nj8huwTT5npKTehTLMrRnFgERkis2jLWu2KTlnDw8NAUnSOrL/sn8REqRRunLtr8jsU/f41je4sGI3cMQE0JrudmrnQdPMJjZYoVEgNlc2CJ9wHNEygNgSdnWt2OQpm+3pmwnYB9hRGnR2Cc9kifNh9T00kFqT4RUWksd+/HckSBnv5k+eNH3xHg3/PARDDDJ2LZAo5R3bL/qXcNpsAW1xpof27H9k841pjQLgGqK1ZKQfRjLcONP9OkcVoPFNhmfWXPoUQZ9NBw4QXxVveWbTGtlnHsN3A/U1xN07clgvpJQI0kiwbE052ZsaPvUst7kUdOdXb5vgjAIPhe2zLnqjaDQcNF/7+r5r1oWs0tlnoCHD5NDOM+6ZbeyaWQRgg+8sWn9Gt+LHBrF/CqwAHTn+b69vFxWYtu7IPYuIAjSHC3AQ2RDrY/tYes6k//znL4E5u+Veen1rB0Fqb22y9t394tP4efiFZi9YsvP0I/uYEgQjmBNIIVQnOtyRXSHMx8MvNGvB0rVnFPViSzsG1iwACZXmqLxJfIboIqntuw7cUjX+YqK6Z4Xk3mtqPmn13ZBcJ40H68X4JwmtemDqmVkN66hKMVU8IS7M85eAlLxFUEFdS21OxKeLG/km/TVr2WEtv9SWHhyIqXWU3yEqKCi+fMOeo3JqX4KDnq+btXDj1VfmKVWQhvyvTtpXlwr8xScqdV3VPKGimwb0er84OE9IUGzJugMX5PXcotw+np4tILx0xzn9yCoQBGpjtXfOmzZn2aYTN185JzWDFFxdqtv9A1JCfLxCovMllq+WOfvIJqoISRr6xekfHkAXBmnLLhEVmi4yV3z+wkWLlyxdLrV2o/TRm5ap7cju6jAz5d1LZk3+i1fq3HuvmKxWhugAgOd/OrVceIrQAqntZ+6o2IckmF+VmCI4a8NRRe9sCJmCKvDXPL5ugehciU279x05c0fd2PDEylnLpS9pOcdBELD8cBeVK9tmTJ40bfUZA+eQih6AhGyNtnq2U2LmZB7B2fMlVq7fefm5cXJ1NwDSMG05lq8uLZk2abLYTjVr3+JWVG2y0539KwUn/zV9012XmJI+Kg3oK9S5uIGHZ/qafWeVddwrG1M+npDedPSunmNAVHSYzUdFuYdaya2D6wL238CRACFZ9nLHr3hmM9dkZESj3cvLDwzDe1jyVUJvU4K39nEpkf/8NVli923zwJQmxpYxuouiqqh7O+ZOE1u+9+QtTZcUTiPDgSpAQmecyZMT97X9Ajw+v3qibh5QCRvVXIRNFa6vUGmLEO8cadOkai75OjsHff5BlgbpnZA9/8nR39PBVEfPIsD/y43NksdU3WzNDN3jyjD0qRMeY3BL7v4HJyfz14pP1O2/to5m88lZMjsNkhuSHO481ihsZQly2Y/GmSChWoMNn8jdf+3o7WVtoKFjYuNg9vbQwUvGDlYaT97ENOFBkNCUYHn+9H1zvyAb7VfP3prGl3cMMTj9bp2/DlZoIL7G9+WSaXwzV573rRq0o+SumuR5a9n2S1rpzVD60Rh+baXYmbfB3YxZjNDXCWcq7blfYl6BjbEWT2+fW79YRGSF7KOXqm4ZMAaYaM/00b99+bryBxMnV2ezz6/vXr+uqB9Q2cUaldHlxsfmT50mJrF02fLly5cvW7JokeTabQceantWdY/Qw0ktLocWL5U3Sx5wBgiQOvVPLJA69TpjWLhhQrHhumlLtNO4UAwB3uirrXBZ/q2rr5eVvqaeuZ294cu9B65autpoPf8QT3eaCBAJJACbp7Jt/mW9VJaLuYFGcoMVGqWrJFrr9avP1p6RcV8jgzzMdT6oadtlNjFNP6hkEomCzdHdL7ntaSaHigUkIhItbknOFFp91wXDMdoP1EHor7F7c1vxnYm7jbbC7UfGATmMxcaIPB92E8Tm+qrLHnuS1sgpBSGVWVzim3s9ifuzd1VF6qu+ULh8QHLODOHpy049eqXnFNHI2vuFg5Xr39g0fe4eo/jCuixfnfc6SbU/tFFlGE0/egOEue0VmrrngVUVCweM/Sa8KfTKbmn9cC4DISKsyO7Tq5fatoGRcTERgQ5m2m/UdLyzIcyeSyURSFRsttbOFdJfsjk0hCC+MtZ4n8RM4TXyBBInaKOTQMX1xHxRuav0wcXdRk3+lpppcHX3oGSEjIHXlBZB678+3Ln2hC1DIAbiM220DRNrhtIPUvMc7sieUc1g+8Bg5yAWPVslfEY344csfv9BmxUyDgGDQlpaIG3tnb0oHMAph6ISUfC+zjZIC+NobYfBsQzMCVBxyJ76orRg/6D4nEpoD5LIYcMGUIjI7pbC1Gj/wOicKkgvEsfxECQTkJDK3JiImMzSpm4EBtHX3ljf1N2PxJEoVBKuvwfGqK21sxeOJVDIBEwvrKOVXn9rZy8CRyQRcajujraWlhZIa3sPAsPAoSAJ1V2dnxITnVBc24bAkxF1hVWtsH4khkihkHDovq52egGQts7uPjTDYxcB2Vn2LTEuJbehtQtNpOL7Id8SYjOK6vsZvgioRER9YWpEZEJJc+fArheQQkT2tpWmx/j5BqXkVQ1pL/uL0xMguT0v4O17o5DQEB8XW3NjfW0tDXXV57dObF65S70AS0D2wqAD7YF2wVFYliMHANMLyU+JTcwsau7sx1MADKwyKTomt7oNzbD1ASj43ta6rPhw/6Co3BpoH6qvrqystbsfjSeDIAWH7O/qGGBbe08/ktFEkEJAd0MqksP9A8ISimpb+1B4KuPLAmRcfxeDpZA2WB8CT6ISMfDO9lb6F27t6Kdno+vnMF31qeH+EcmFbXAsBcB0tkLboW0NFflpKal5ZXWdcE57JS4GsC/IWHhTbV0vC5rQAFInpBHSyfL4Sne8RkLDu5ncaOvoZX5NegEAhQCrK4gNj0wvbYGPvPMIJOPgDcXpXxMyqyEwFF3X//0DpBIgJanxqUVdmLHyA2Rcb2t1dkpCel5lWy+aRCYiupqLM1MLaqBoVnhVMqanpjAzJaugvq0by6ll+D4V9BxkeOu37MIu5KA46cfeG54LIOH6W6rykxNSCmra+lF4EgHT2VianpFf34kYAGQgGdfTWJIYF59X1cL9Mw4vbeQ7vwGs0GgAvtbyqrScyeg2yDS85Rnx42+CehhaDWzSqzWL99jkc1hdjkwd8y4J1dPRDm1rbW1tbWvv6Ohn+Gtm6Jrx8O4OSH1FRkJsfEZBYxv9lx94B8TWOT4+sfOORVpVSxsDIEHbWhvLsxw+3Fi/ZPMrj6zhdhoAoTXra2pjPwvrglRYzbdvJS3Y4So9Ur3WHpFTWgNuhFmkgwAR29dcmZcYn1JYC4Wj8UQ8uqO+OC09vwGGZHVKsC/iqeS8fW6VsKK87HoIW2U3BKzQvVGj+mENZTnJcdHxaTlVjdB+NIFt2UpvOzJVYfXs44ZFHU012QWlzB3fIEDE9EPzfdSNo3Gs/syij27Eh+trK/6WmppX3grrH+41bjDnsBSAbvd6c/HiW89W7oUDqdFNWkhMPYFr9xmFgOruaIcOfLHWVmh7R3cfkjUe0ocAZHtluLPp+3fq2hbeBS1DtzgNq/yXb1AaPDU/xzd8f2QbqImMbLV+cOi2XijX9ma6f6B+aENpRlJcbHxacXUTrB/D1TVARNDdpSvOmNa212dkF8OYDk9ACgHTDc0zVjWikIeCFbojTmxvXVFWYlp+fVsXaohvHBAEAHJjyMcN6y6FDTCY0h7k4JrR0DWEIyAVaXVr27XPYQPon/MpPlt7xcytNhUjoHPObOz0PyVZYRMwkfh1DoD9dQnPrl2z+kr3gMd1UNvML9+N5xQZcj2euJjgwJ/LAYCACNC6+9lvmDeR30wyKVBpy/mPUUgQpOKr9A5JHHwXzzW//ebqgPYonQ0rT3pyamoYVQCIZkelg0eeubVyCwPGW39HiILsoedpPcOnn7FLIkY/XSd+0rKyKtvN1bOsk41oh4KVsUuhOwPJ0F82R9a2qiMt1N4/oY5DmQNiCvx1vfJ+DOR/tx5mhv6GVKXzpy3iajgqGniEjn68XPqRN9tx0Y+W+CfnA/AloZqXbqhntwwq9L9PLyH17sKZVx2qipOC3ENSOf2dgJg8bU0v8ne31w2vA0QlGN5ceUaPLqcFAXh5gr1PbBuXE0b6O3iIy/kdRxyHx0ujwsOUd0tc9RzZO8Lw6v5BycpIxEzc+ykOAMRc13tLlsgaBuUjWKs3GkjBwTsq093efw5lW139VOkTL01w4B/iAEDtb6tt6R600fyb6GhL1HuoqJ9YUhRt9ercQ+uKobZKv7dasDfT7vCm/R9SW1lSGGb56JYcnTvHbutHcojbf6ZqCr7li9K59255KK7F9XeLArvTLO7cUzO1cYgv7uAwnxg3WAH6C0wU5N+afXEOSIOxFF8M+S883cctMK9hfHSNTTiIS7N5eOuZfQ3LWyhndgAW9fTkefssGEt6xPnw35omwEqNnz3UCshjRXz8gYYAfYkG9x++NbN1Da4acAE/8BJIakvxNA4qonBKxn6gPHoWkFTh/3HfudcZNY31FbnB3p6JJQPuwwffBwkdgY+2X/gU1T3UeIHSW+B0bv9Nz/phCHPw7aGpCcnKUI78+64BcnWMrozkXMktx56o636xdXBwsLM0NdTW1jG08Czo4hh2/n1tm6B4ggN/OwfIWFhGqIeHp4ebb1w9/G//X0BCR6L9uys3lPVtvKKTMguKigtyMr+GeOi/e/bktVFK7bhFIkMZBFIh2d5qKpox5V3jhQUkDByJHTKzjxus0OkhY+FwNHdB1O7aVCeXwLquX93oz9Feak+urcLNp8GlDMNjjgesJLUwUPululVRxw/aRbDe+5PPILElw0NZ8VNM/bjsacgYBJwVnIrZPDysysfRNb1xIMjMuNtMhTfGejnaewUGh4anFjQwNwqxiwHQ5X7qJy5/GhbnCMTDSqzVlN565IwDqkx1AFwQAAAgAElEQVRIVtiM/VcnSJiuvCgXdcXrxw/K7jty9vaj55+MbEMTC9pR4+oM/2oeTBA/wYGf5wAIUElEEvUn1pc/VSdIQjQWZ8ZFBHm7Ozs6Obt5+gYEhcWl5jbCxikNGaV2gIgsjLB588mu5DcgA7Azxea0vB4M/qO2BaMRhe5rh7T1jN/UapTyaCC81O/xDSX3zNZhrhoGXyGhoXGOOh+twqD/TYMhGVUZbSWv8DmNUwQ22OgfTZFQPc2Q9p+wfuOogErEokfwfQfi6+Mdnr7Ui2vgNtem0cio9ggbDQ3rCMg4v8iEZIWD7f/mJEgl4zEoeF9vb28fAonGEcn/XwPvv5lrE7RPcOCf4wAIUIh4HBaDxeIIRPKve+vjagmVhK7Pik+uHz04Dlf2sS7wLXneEd8wI7szHuvFv/cZiK9MjE5rGjF8AmfNIBnTmZOUVtP7q5vgOAv9x9Mg3bt3eEjm+GIK/r+RDRK78tIzK9s4Nh+x6kb3NH1L+wZFDTWwZD0f9TwBVkZlzcSDCQ5McGCCAxMc+O/mAEAlE3BYDAaLw3PuLv3vbvS/snUTYOVf+dkmiJ7gwAQHJjgwwYFf5AAB2ZaXEObpaGVsaGigq+8ek9eOHPeK/xdpmHj9BzkwAVZ+kFET2SY4MMGBCQ5McOC/hwMgSM720tAw9y9qaGtvqU7x/nB0y/ZXDqk9E3Dlj/zIE2Dlj/wsE0RNcGCCAxMcmODA38kBgNyjd3Llpfd+A/EWAXKf481V686+/QYdr4uav5PKibJZHJgAKyxOTJwnODDBgQkOTHDgf4YDIEDKC/zi9bViwKErSMF73l+16oRKBmQCrPyJnWACrPyJX2WCpn81B3BdGVoKjxwTajkcYv2rGzRB/Pg4QN+aR/zb/bWMj6bfkBskE3C/b+PxTxEEEott799U/lIKZ4d8ZpYDUkjDA9wwnoEUMonMEXtllIpBHDRCbs3Sm7oRXJ7sh+cGyDjs8HgBw/ON9w65MdpE7vrbxM6hTRtvQf+t+SfAyn/rl51o19/OAYBCRHR3tLb34Lj8MwI1ThfEZq1UtktnRkX5fYTQN7sSCMNGXoCEgbe3QroQY/ib+H1E/J6SQCqZiBsWJAYEKJj+Lmh7F/ofnhXZjQRx/e21FSVFhUWlVQ1dP7DfEiAia9JD3GLKuOKdscv7tyYo8MZMbzuPkhGjGP/2RoEgCYeAtbd3IweD59GdpvYn31rMP2/TjehWrl+ORgMJkDxv38jSTq78dLqo2Lr8r6GxeT2MEGyjUEpFtWSb3z1wQflL8fe8aBKa4tQ/eAyGk2aVCFKI/R1NFaVFhYXFFfWtCPwQCln56JHccL2d0M4ejphENBqIrTS+uk1w5tYvFRNynUFecab+JLACUhFdjY2QvlE/Mifhf3yaiu+tLUyLS8yA9P6XeGaj4vtrC1Li0gq7B1wVgpTeprxgn+C85r7f7CPij/+4NBqI62/66uts7+DkZKGt65jcwY7NS4WaHRFbvPN2aPWvhXjhZgLQU+Zra6r96d3rD0bRha3s8QwkYxpzI+1s7N3cncwMTGLL/vhAKCARWpHiYqb78e1rFTW7Eg7f9gCpLzfS3cba3snaSOtLePOweYebJX//FUiAZAba2zq4eXr7+Xq72plrfDIMK2gfw/4SpOBrkz3evzeMrx4a8wTsLfSzs/5iacE4LL9YW9tYW1tZWds6uPqHJ5a2Dg9f+LsaCGJ7m7762tva2Ts4ONjb2drYOoVnVCI4RT+k7txoPzsbehZ7e6eQ5NJ+LqkgiKyL11BUNImo4fhcv4u84eUAHSVxrtZfHJxs9XUtY2vZEaSBzkgVcX7B4xrJwwQrNJDcl+9neO+pWf5QtAGg24tddN8bBheOPBCD5K7yBEvNtxq2MY19eCwaiR/rA2PzbJ/sVfQaEtkJICMLoz0dHJ29fHz9fT3tLQ0NzN3zmgfjp7IaCaIhOT6WJjZOThamFr4pNayQjSCiyPvCpoUrb7h2/nfMf6wG/8bzHwRWACIq2lD+iV4w9B8fpH6RwSCuPi3Q4NUV6fUrN514FF3+OyetXyTtZ18HeopDdZ/L7V6/YsdVjXwIPVwLPea76Y2lYovlTNNw3I61f7aWf817FALU++PdB6qWqeVNbZW+1zZv1WKt9Sj1jrtFZ57T/NrHBhS/o1kgpj0/PV73vKTQElmLuCbmgEYl1CU5KNx+bB32DdIBjTe+eu6hWdkIfph+BwW/rQwKvKM2M0Bjj/g04VVPc9m+10FEmtm9S7fVQ3NrIbUxSrLb7rjV/VYWjrcBYF+e27P3jullzf1YEgBQsL2QbM8Xx4/c8i7oHU1Sj4Ckajx+6BBfOzxuC4iBFKTFWKlfXTFLePm5j19T09LS0lIS40K8HbSV5aT3nPzgnN7Njh44XmLHzE/C9FblxpkpHl84Z8bc9VeswlNKGzq4Vv4UdHNhtMqhpWIr9r8wdEkpbR2Icz9QKrW/zFL5rrJLHvr/Yx4F+wvs7566oOOTWd9SH6p+fvVF66aBfgDAfB9L84ufCYGMwiZiT6rB5WuvfVq4kBZduoKojXoud9sin417WPwCSe0lcV9MrcK+1WKoNFJvc1JEaHnXqO0E+ot1bt/4EFvPHTEWaI7U+mgWXNwIw5KoNIAEh5S5a927pmxW0oHjyAli6mNenT+hYB5T0dic4a558vKbjC5GPEIQk+3yat2yPaY5MI78LCInzgwO/EFgBdeTdldKcO6eh/FV7Ojk/9KvBJLxGAQs6uICHrEd18NKfxSsUKlUABhtGPyHWUElYiHlPqfm8y4+pprdwphhAEJ1gtXNMze+JNWSfx/VJNLI65//p/ZTqRTgu75/yfnGpzbtuuZfjqCLlEC4xfFZex66tNGHOEq56TGR+cd9G9mSlt9IOM7+/BwJ6TtRdczBGtmapLBv+0PT6G4C/QNA83T3bTrp8ac6teRkBLHQdseCGUsehLNCx1IavRSWzttslNHNCGeD9r+/cvZurerfhFYQlXHJpeMMgEJutL29a5bECe+GwakLpPRaXly+X95qFAkDJV77vNxrDwjjc3C2l5km98aY3VjAN/e6UwFzTgJBKoWEQzZYHps1beHm937lQ+fZEUr5uVvUeu8Xi2fwzdj0pnREyQGxWufUCa2UDiyB2/k1iC3wfn/ynkFd3y+62/8hsimQULmVoofU4/sYYwoySnWW8DqzUroUiNoWc3vbsl2a+WOwCMCWvj0lox3RPLTjgKQ61wcLdmtWcDUC7K4Mf3JW9qTcg+cvX6moqCjevS3/xqJi1AEb6MhwkbutlgtFcTWGkPt01YyNZ99nD8aMBbpKI+/s3fnKOwfL6j7U3kKda7vWXHdsJ9L/Vnyx39lt25QioDQaDUDW2Sod3nHbCormlHdxVTJx8eeAFaDe7bLYFL7JgiuUPb6xP/C/+AtRa5+u4/1xsELFdUb4usR+q2f17T+u6aiOzNtSHGDl9xMI4Foi7yi6jis812+kAqRiy0K9XOLzxpTIA6gC062zZl4ySGOJxAku50VWHVDJQoA0YqWmrMQOtWTWHPwbqaPR8KnXF03fedO0amDApSIDlDavkpWPqWXW1llhKS2x1SKg8NdrpcfKIZH+Nu0epdz5yeKZorcCBpzBg7gav3MrxVY/CmMtU0gxyuuEZp8M6fotKJiaqXVITi9lXCgYhGe/O7VVTOK4F0uMNcDVEvMTizae883tG85karvn+fW7LDMRoy2OKf1N1vc2ThGRtS1s5X6dWq27g2fS9H0PrWu5ZlPuXL92hUs3Xis2dercyzHDfzAAX+Wn/cSxcPjgQ4Dmf7px/o1vHrdh1q+RMsrbAL7Z6cEuocXX4liiK2KKhtgUgdseHTQapSFEY+v2G1GjhSxklZlnd+foNa2C4eEgsd8eL51x26GKDQdAaq/V9bUL5nMcEhvu6oWOqogh98RYPH+oHdSN4+qWQIfPcXGxbefUv/UM3qd2lRtc37TqmmUngt7vQAo8xfbp2uWHbEt7BiilVIfIbV+861MujQb2VcYpnDymHVX+dyxxWIz515//FLACYso+Hlh9/NaVZUJ8i09pV/d/75cdbTxgfJExH/5/fTNq3ahgBQSHUggQioI/75M+YZdQN3y8oNGGZv//agNXPeMDK8OayFXWCBcABpqrf3nj1KO2w8fSEbL/9lsgtb0g4N5eaUWX1DHACoipMT67TGjR6eAW1uIN7DbaJ7hE+mE8lIopsJbZdMUPMtI3/GWC8Tnvl08Tu2qQwgBJQH/2502iYpe1YlgDO60tS2O96BoLj8xfroqGgBYEeATV/k0aJUq75/Mjs0QPeDI2PoB4qN/rE6Jiu6yrWfMIiPC6tUxAZLdL7W/hJDVd4+Al3eRRlAejcYvS11RR3IIc8u9Vu18Tm7/dKqRs6Gsg9pv6ttWHtco5Bf/cmeDNGQpbp82Sfprdwt3HQVT43YWTeWcdeebU9LfNV9Qmv2MSM/lnbLIpY/GZSR6lv/qrnp5LRR9dvct1gOTqr2anTt6LKB0UGnBl+I0XILEp2mCnhLisfgH71+oLfTGdj/+seQWNCPV5f+eqTiTxe3LPzgq/q/uPWSc0DGkkjUYp1Ni65vC7gqGf9EfbgIMW6j65bxlXOewTETsq8uu6uD480F9j+XDnzI0KkC40Xfpal6C0f/nG+7btLNkJpsDr1Pq5K5WiaQCxNFL/5v1P+W1sneiPkvQ/le8PAStAe7jytgMfk/NiFfbM452+USOpbcTPAOD7ytIi3JydHO1srB28kkshHPHMQXxvY2q4j7OTk53NFwevyLJWOAWkETsr44M9HB0c/L4W9GCoNBBZkRbt5+7k4OAWV9pBBWg0gIqCNXyLC7D1S8NQCJCCGEdTXS0dY/evpTgAJGFh2ZGeZvqfNXXN/TJb6OMdFddenR3i6erg4BCU1kAEQVx3Y1ZckIuDg5O7f3Y9a3E4HKxQibDa7LBA/6BAXxdrUwf/+LoehnkOiCj01z29VoRXROrGC207B6eE+oG/FcR318QHuFuZ6X3WMXYNTYf0j2XOQ4a3pIX5urm72FpZOfuEpuaWNbW1d8K6MSQQIKFbK7OCnN1SWwnNuWFWhvo2obkoIhWkEluKEoP8/AL8PG3NLdwjsjs5/ziQCm8rCfd0sLWzd3JyD4oNvsYpWQGoiPaq5FBP/7SGwTU4QOgoT/VysjXR1dIzc4jOrRvY1gECFDi0OjXC2zmikEDsL4pxN9XT1jd3TijvZAw+1P6WHMsnx8SFeXnW3LBwcPCOSGtFADQQ15wV6uMTEBLk7+0bEBSVw56YOboHgIbVfg10d3RwcHD0TCyCoFBdBYnBLk4ODg4O7v7RpS19ZBqN3F0Z6ePs5OGfX9tNAwjdDUXRvg6Rua1t5UmOpnoGDnHlub5PT60R5hWVuf3Kws7BI5FD+j9YGbUtVnvjbKHldwIGd0XgM+8u5F+6VzG5i9qX5//ZNXuMaPTkzjxXEyP3qILeEUXxgxUxU/j+loKM5JSs0k4UpkhbevqcNdrxDMtNcrP9+SXTxLeZZbL6G41W6Xp1jug6c+/sYcWM+0Z50JubCiblo8oIxl0gDSB01RenJMRnFTf0t2a8PrFGREaDoTgDeov8r2wRFztmOrhnk1j2Xnq+gMg+r+Z/EKzQf3UkpORrkJenl6+/f2B0Vi2GChabHRMWWW/pkzOEBSA6W3Gl4GGtb2MoKVq+me6aKbT9kV0TnDUd00sB8fWBp8Unz1i63yS2fozXh9Q43ksQm/lkvRiv4Nw3kYOdl0ajkRGQUEdzn7Ra4jBmg0Rk5Ofzh24blg4XVDCqB0jYtprC1IT4xNTsWtgYHZ9JLEjB9cB6MAxV3xD6GaqQAyJi+5wb2ZiJlG98QYCH95JNPYhri/H2Tq7pGoIdhxRCV690Vmhd2nPHLKZnmCSNWPxp50oZ66wh1rHDyxjpDkhtTHd4eF8tvXkEsSkIEFvL0sP8vb19/AIDgpPKunCwMv3r6wSWykE6EDQqPsftyQqxVS8GtULUphhTaQnhda+SaFRibWagX1QhirNTjETC//i9PwOsEGtMT++85dVCwrX5fTw/bwrfYjlHDoka8xsReut9DFVVdOwTMrIykyLVL21ZJX3dKaORodyk9tQl6au+0HMMyfiWnRhmdWHLMukbWlnNcDIKlhupJbNAZOM1neJ2Ig3Ed9bmuXy8sFRkkZxFJoFCQ0OybD8oyK6ZP0ta3tP07YsXL58pXN+9atG85YcsMgpcPii/VHv76uH5NQvE5q0571NHogEkZFet96ujojNnSCsHIUAaGd3bVJWkumf27CVb1P2qmb/8MLDSUej94Nz5t1aB+cVFOQm2l7evv6nh04QCaCC6Lj1Eae8cnjkblfVdYr8mlNCHbUpXxVeDT5qOgXEZKXGWb65sllp34b132yhhtcm9lY5qN04rWafl5Xz1+3Lr4AaptVv2nzh75eZj99TyIJMXp/esFZ+95oWrq+IZ2aWigjNlVCp6MU1RmhdOnNdxSyoqLkh2ebp1xVZl6zT2chpZF6l6W+61kWdCxreclJDP9w8tFJrMtFkBUflB5k/l9q1cMHefWhRmYK1BhucFWalrW0Ump8eHOSud3bZq8wn9qEoyQEPWJ5mo3Ny+dO6y82pO7x/fl5e/enKP5DyxFQdV8+j/KBXdXRfy+abkLD7eLc9Cv35Ny6vowVJa4/QPHXromVFSWpIXafVa9tjrgmGLGrqlL7LR692lZXNnzt75OqMVTiCgW7KcLm1eMnOW2H2rXGg/XalIRcNyzc5vO/Q0qqA0zk3z0v4tkuJix19Za909vGLedAHR4w7ZKaaKe6bziB1/aRQS+zW5FDYo0mUPEuQ2z+dHZkyZIx8+ONxTKs3W8fOtP6lZjKcBJBx6LBcMQIPz9TkCAisPKcYP06qzK2EmQHRlmNHDm/L6TgHBXtZaFlaqu0Vmr7wWzdCMEMrsd4jwi+94kTOoX6eEKa0SWLjbKqJqaFHjvaa2mNzYr+pWzAlcx1sGZ35Cb22Akcq9F7reETG+jhYGrxX2rJ63410yncNURKr9U6kZIqe+FLEZTm0OOCk5Q3jhzcRhBpGcxf5w+mckKyCxK9Pz88Uzd/TcorLyi4qL8+I9LUyiGoIfr+Sds8UysGhI7aR8k2WCIi+ixlq251udFxGUvG8V3z84LQHoliz9GztEJPZ/9s/r+Vv3nlNbzE5KTOKffu1LySAsAch1aV5mNqEQ1DBJBI1GQkN1z66/+MkPOsJDGhnbEWGl/k7bOjg6NirI01zrY2B+9xC2cF2C6KIgo8uHD1wzyeC6T78AuotDb2wVnX1Qq5Ud3hmAOt/dxjtZWDkCSQOpeDyeQl9cfucA0G0eKkdl7n+ppy9SuA4Qm3BlzfIn9rljrfm43hi8ACn4GMNbD7VDYMMwEIhpCNB5eP2OilNYcm5hUUlxTpitrpNPuPL+uXyr70JgKDK2w+ySxIw1F/3z2pkNAFFp9sorZ0w9al5J38tMwhOIg31isNaJFAcH/gSwAsJTjbbIvGD0IGp7ss2BFdMmCWwwKefqaiAZk2x598DFN6l1CACkgRR0qv3dRfxTpF+HIgggEdlidlv28jv3BiQdtJORbda3VvFPWaMWUUoEaXBI1IXFvEvPfChoY0iCQUy230spgRknDVMJFBpAIbbnBt3YJjp5xpZPsbVwFAaL7Uu3ebJiFv+0hXs0o+qQWBwe1xv97hD/ZL5j+rmMPkWtdbghMOmv9Q98WQtbQtA1EX6R5S89KkYBK9SQZ5sEF+4xi6YrTUEq2ubyork7boaV0GE+QMY435TgXbTfNr6WDNAdNJB6a788vaJsHcewnQTRTd/eHFvMN22zVtoQbTfjY4LYfN/3W+ave5PUQrf4JLYHfb48n19QVjOltx+OJZKxrYkvDknxTRLeeMuiqLX1W5izpU86HFv3aafQ7DVHXXPpcwKIz7wnKSB1+GX6gKEAuU7nsOTuq4alCMY6iK4lsZCewQIrNICE7U71eLFakHeHSjiajiGobbk+ty/f88+FUEAaCBDKIo2kxflm7FKpwpABCr4mwenYsim8c3drRdfAURh0V7GZ/N4Z/HMfRjBE4iC1JfzzxvkC/EdsEHQOgDRKndnFDUKnHBnTMUhF5X+89zFjBLBCX5vCs6ykJWbwzLuVgmEwhNIf/HTHpEn8lyxKWWMAtfTzrnPaaVgKBY+ut7y44j9/8a45phJTCSn76v7ZPBRKJGbbXxfjlXjglAynjOwjg9wUJy+7hIdXUk5dW4d1fLyxnZ9XaP/LwB9Zr+FKHU5tWHXhtVs9y+CF42fkSIKoPIcnK+ZvVo9twhBIJGJ/vM7F2YKTl1y066B3L3KuycVpfJPmbL3+cZCQD8eW8c/edMG/YMAQhKO08SUJJabHd53WLEIMzmjjK4A7N6m/0fHFsW2nVVPre4hkChZaYnR7qxD/CpX4ZjpW6au1lN8uyDPvqOIbFkd1Pj08Nmcq3+zjXzq+PzdxVzby1bjBCojvjDGWXyO13yC1FccUG4JUfNMXpcenN/ILrTjsnDxE9Au0eMgLTdlkXcvqbiNQQnK4Mp939jpFXbeE5OTkpIQwfxfdV/eOHz2loOleDkMRR5I3jFDMz98iRD1d/xeP4IHXYWxIRUTV2KurRddjR+Q0tifzztZVT2xSBiHxYO1AtafC6Rs6eV04EoVCxlaZ35F5qOo/+Hx4itoRqHFJnH/StGPWQx8C2Fz/N+uEeRbK3tLQYvVpDUXZJaKT+Ha5tI5I3dAymNeU3liL2xsOvipsRQ/JAQKwd7ILz73zH9UqZcgLHJdkbOnbcwfNk4ZaUYHwUqMrW+aulgushLOiNoOY7nzNqyc2LuKdfVQT2kfAtPsdE+URkZJReK3J7ORab64eXDuNb9X7LBhHJRPJsTjwB4AVcof3y/MXzHIH+iOIKtWX2yowafJq+SBOjyuYzuTbG5ffMozsZg6hILKtyO7zB9fUehIAQhNUN66UNolpZD0kQfKDtT6apTfS9Qbw1thLkpxgBZsb8Hq1IBOs0Gg0bE3CI9n5vFL3CzADsBnsSjTdISHMu+UTq0QA6q0gxDNpzR1PxpoaqHe6zQ1WSGG3Z48JVoAcu4cHzj6NKusBaCAZ3+94Y6nwqtNemVA6UKBinW9J8i4+wLJZAZpz7A5v3v3JOaa0gn6U537Vu79HREBIRiNz+I8L4iCeb4+L8m82LO1kfG1qQ4ypjITgvGueTD09sVT3wmYBnrmvktgiVhoN6PdXljl0/WNmO4UGUomoXEUp/kU7b0XQlVBgp9+d2cJzFZyq2FMWqiPj1koOA1uQWB6jv30W3wBYAQl9kdpntx5VCkouHiA5K8TuwuY5U4R2mNZh6QXmBV5cJyx8QLN3YA0BIuKMbi8S4ttrVM9oEQCJ0N44X5D/CMtmhVyqeViKZ6aMVXYbGk8GaeTy6OiS0bQnpFqTs2v+mjxDOYgxm9NoyFhVkUl/SR3TKGEIp0Fs3vOte1yZcwk+VHH9XzwCZw1zBhExQMpxoIMVeefRbFYAaLLdoRXThHc89glkHQGOCjvm8AiKKXqOqDYa698b9RlIbk36cnDFvC1vklimW0BHwHNRAcHTllX0yZDSbHtzGz+P8FmNQUL8re5K8vKvO/OWY0vCqDWM+ACkkrGItiRL+RUrz3hVoik/fFBH38IGAsRsJ/mVkrt1w8sGtsiA+DbfD6fmLbkY0Ui3UUU2ZCjJzBZcfc7cyYvJ0wC3N+e3CvFOkTVgA80R6R3lJghQh1JOSvl04KJ2Apb7PpU6MiQFqfiSUO2dC+Ye147DcQEIapHmdp6/eCRk5WPrhxjAkDN1T/ALHgkaAygSv92S5BVdve+1obO7u7u7m5PxxydHdm07+9ymtGPotDqkbSO0ibst9KvR2jNYFlBteZp3Ev+WK+ZMPTMVl2cr/9G7epiwgPkOCup5ZPn6t54jeSgBOnUPih165duOJVJBkNrienLV+ld2uRy1EZtyw9wCUjoHcTmIbS3ycXJJbBxYUgzmBfHdIRrHZwksvaFp4c/qBy6f7qyYIzBlgzqj0w9m/k4KQKa5Pl2z9WZSHdOUlZ0fBHEmpyX3PbSqYf1X7EffS4B9CS+PnfxQwC3qA/CtvqonRYQXPYnk2mtGwffbXpOcPGmqzOuAHizQGfV4Ad+s3XIqjqy2eVl/Pr1BlH/J1bh27o1F36Pjf/n5Pw5WAGR54PUDJ9Q8IjOZR7LTy+MzBSZNFT/gUj7YzbuSVZbPXavmkT9kkGB8PEr8y3XzNpz2Khj6Dwx82p8AK4h0691LpnOAFbAv5Jkw7ySpy7ZQ+uz9E2CFQQtAQXdDyopyk8Ld5aVnT1l+zC2VIQsZAlYASoHLrUViK87eVn77jvNQNwwsZaOHgdbRBQu4Vu93J0X5FsoH1zF0umB/tvvJdXOWygcyhyFime6FLQI8kp/yh45LAJXU395Qkpce5aN7aC7P/K2XQ6ooNLDH9bKEwKwlOkmDCtqhBrYMsLKDBVaI/S0G5yQXbDis8IKb5Pf64fWEkcAKOtn8geQ03l26lSODFRCTbXV/sTCPsPimB1ou6ZVQ3Fg7pIEWv8cikyZtvGbdRABpACpD5/Ji8RkzJfdYpHZRaZS2oGfbbviwrATxoU/W/8Uz9Yo1SwxG/6TfAysgPt9LfcNswd0amexPAHTH3ZASFZY4G8qwv2B/kV9JUODVXx7vnTVnn2MNayADUTHqx4SmrjIspoMroC9dee8yHiFZTygbuFIh9qenTRW7oh3H1uKNiwaQjK1N93l9efccEcmTr0zs7H/8cPAKTWoZxVkvuTfzwbqZUidfp7cwUTKxs0xXbu2SMzoNvQQaDWgr8D0lKbD2nl0bkokbAWSR1sXNgjN22TFn1HG1g9Rekuju7MBNvZ3qmVVbzr605r7r5NWbW/IAACAASURBVBFR1oFgc5BdDb6n4vNpSeFlZ70LB/nLeEop+LCFh3fGoSdO9D7GdRDj3+3nFT4fM/osSCz6sJJPaMcNg1K2JRBIrI0137907q5XQWOZe1Bgmf4uQ5rE3RT6lYOTV1JZ23C7E04yMTHPZ07iWbn/JX3nGo0My7JVfOHaNDrNiBYbGYlNGv7l7A4/WBrQZnh4tujCzbdUDd2DozOKG2A9/Zy+W0AyJj/QSMsmCjoQemfwzRFS5P5myxsrBZefDy7pYHIWxGTYKC6bOUPWaIQRb4Qi2LdA9Dcv1Q0bLoZVDhVagCDBTm7F7ltGZSNJitgFjJCgdntck7puMWTXNKUt1e641Kzpuz4M8QhEwfVayS3inb5RPagQB1ALNHdMEVn10jmbpVelQnI8Ty2bvk7eEYYZQxQ3AiH/y7f+abBC7k+yVTl27Kzis5evWMfLJze2zZ86iX/62Q/RPay/BOJ0TlhktYprDodkgP3hCPZnp4uuO+GRx21jz3r+M2Alw3r3Ui6w0s8EKzY/DVYo+P7CGDcjQ1Nn79DkgmqbW8sERwMrVHK69qFpS4+6pHLvm2S1aOgZwJQEae1aOGPJWaNKJEgDibURhvs271ILb2D++aOAFQquM8XX2tDI0iMwJrcqWWkVHxOskItebxIVmLXMIG1wJBsbrGC7a15JT19zRa8UNuLvN1yy8j2wQqMBqIZQI8U9y2bxC8xcJSOn5ZmBGj63sHgB9KfLL+cTXXnMpRCBb4q6f1bexl5eYrq4nGZoJ7LG7MalD9/YQ9RPgRUAnmjzeNk0CaUoCKtOamvY+5Ui07Y9i+ZaWLEe/9QZ6CoKvbZx5pzDmk1oJrIE0UUap9YJrHicx+j9lMbwa1sX8K1VHVxxkpvMjojNlDzokM9SS46zboCALAy3fHBy65yZ83dfV9H6/OOHtpm9fwVL4MldLdgddl9cUOzsO582pv4O7KqIur5+wQmNEIZ9BqU+w1xaVOyCYUw/MwPQk+t5dsO8pXL2g/a23IWOdQUS6lL8jfW1uanXerB/yZpD9zQ472pr6xg6pzeyB5jBUmEltntnTZG6pFXSMdj56Y+pUOvjcwRnr/0YOnynCTFObe+YYIVaprNDYOq8K9pRHGgS7CsMkNsiyrfh+VhyOVJjiKmu9pA2cbaFntbW1jXxz6jFjfjzsRpHrbfayDtJfPPl4FoyEZqu+1IzcgyoQqMhmq2kF23SCBgJrNCo9bFGV2XXzZshyCc4ffHGI2+csjiaRq8SZBysysc647prPx4Rm3/4dV4Lc8EJICrN5WVEJU/5N420Ph2jMBCT46O2adOlsKqhYIUGEhyvr5K+bTxeP52kWpeDKw57N3Cv9Mg9MaZ3JQSFZHUGVy8DdBHghY83CC/YqxBX3Q/QSOHyi6cv2WOZyMRhIAWX6XB/qfgm9YAiTng3RpsmHtFotH8YrOCghZqPbun5pra0cx7NcWoyvH9NXrTrTngNc2Xf6nZ5+hTxy5qBHdxdl7ELmOB8UWTK/O3aIVXcvYm5RfjPACvUHJenBw6cM/DPgxMoIEDyurd8DLCSoXdUaPo6Nd/cIcpkYl/vcB/ONBpIQrYlOqlsl1y669JTDW2tV8ov9N0S2zEsLceIYAXoDlE7vffQVfuUJgwJoFEqXqxhg5VClQ2ifNMWqATStVQDx/fASu1rGeFZOx8m1g4x3iD1dMF/RrLCqBUkwiszQzXvHVw0Q0BIfNOLsHYWOcPOIKFET0Z4+uK7RiERlq9u6sVi0MVPNk1fcex5sIfhmbvmLSxm0Gg/C1ZsHy+fvdO8omugbpDQ7Pzk4Mz5x7wahy60hxH3wzdAUlW8mbSYsMzbcBTLQAdX5nt2vbjkg1DGygykNIRf27pw+hknliARxORbbp4psONJYCdLTUaBFXjbfvEIz+xkdCBsXYyr+1co9+Q7hCaQQuiBlAQaPJSWuRNQiabbDf3gMaSgwUtKztt1AqJSKm5FzL8WpFR91dw8f+P7wHwcQAMBMh2szJNS9s5iLr8pfQlfHq1cvEs/rZXZ8QBMfWaEjcWXoHyGY1FyX0Gkb1DBsHlosFLmHMlBOyVN48AlnSQCxy16kuMVzmRj4ANx3tmn3/u0cS+MSHUe+2ZPkTzyqXiEre2UTJ0T/ALHgtnGIJwl0qVhLcYywoJz13wM49zXTq6Ntdi3mJ9vuxpLnjDkNfblENJHvGRnHj2BjbskMnnG8n02iRUR5tqmsdVju55GQT0PL9/wzmskNRCNBlBwHfWl31JiPM1UZBcLiaw8H8xaW1G6inxsLd1C0qCY0ZcXHGTSwcrR+RtvmlQxUS+1M89PbrPEvrfBDCtEjqzfTYKoDPfn67bdGkkNhDc/t3T/Q6txOrMh5OiekLrpN8TDC4hscFDeO41P6l3qEAMmWk/qu9WiC69+DumkDwzkcHkJ8Q2nfUqZPwEJ1aR3ZtnaM2qZkEHVwXebNZHhHwUr9E38hlevqaQ1ssRjrA9CbvPYP23S5JlSyg7pA1rC3mLdDfw84rKKCbWDa0egr8TJLbYbS8j/LM3PM2P/U7v6QatAsK842jWunEABmWDl9PuCNsZoTTewfSElMH3AwHZEmxXEj0pWvFkzMyHw2iy+0Q1sQVL23eVTlx1WSmqiz5kgQPK4N0yysmi/TQLDqgKklAYqSfJMWX3DrKFvEJ2BmHKzD3Y1Iy6eAFSBt+FLi8imDgikFQZHY1nWXgyejgRWyEUGqwUFN1/QKx+Y4ShlL1azwArQ43xxwSS+6UdVg9i7hccGK2Qk1PrmSh6BpYoeeQwPjQPfEkQVOD+3Kh0HWDlkDR94lVzu5JiEp1tTAyQMLNXq8TKRKVOP27P6yAhnapffEVHBVTtk9p1/EVjeQQMoSZ8PzZwrJbNl31PfMo7JaQywsviBY8pgJ+KsBMTmeLxZv+SAM1MXDvZku53euPyU6TcWqODM/bNpkFgWo7tNdNFd52+sVRelKlBj0/x51/06AGxveoB1THKUovQy8ZsBzJ5B7fR+IjN1wYWwNiZUAdEFmvffhmRnq1w7ZRlXS6ZRq0wPLV65z7lkEK+NQh9IJSHzjI/uPqtdwpZDjZL1B26TE5WWzpDYYZrI3HEKUgjJesfmrrvgn9sOoONfPPUqzfU4vmqDWlDegB4E05Lz5sRaGWUXKDP+FLklNcDENbLO98nyNQ9TUDSgJ1v97OZF19x+oHZ2lvEZ2DYE3BcXWvrQKp5LTgAi4z4eF5q6WjdreFwaOhhpcr0nOGWr3Sg+HQFYwKGpk+dInQ3gFMpQ4Yn2D5fyT5p91nJMGMluyC8nqA3vN/PyzVt/X+m9umUQdKQdQJx1YHvSbm5ZpWSXym2qQaoP09qzbpta1ED8I3pMynaP6/PEdztVMAY3TJHu4w9hhUVvrx01DB90wsZZ8pA0qa/Z9MranfLWdQymg8S+GOOrq7bdDC///l7lIUXRqH1fre9uOvCyAMLSorJygGDfhwMLz77zY9q1se6PfQZRWc93SaukD3WCAiAb7J/unS560K2W2zgGgNmcmSu5405k/cC8Rs1+v3XxFrkQlvF1d/r7zZKb1X2KuX3LjU3FxNN/VLJCQUOt7+2T+zDivji0h5zYpL/4V59/n9NG32hGQNR+OirOxyO86ernjJoWWFc3tL7AUeudZUwpgUrrq3Q+Ij6FZ9qyG7oBtZCOrm5YXV6ExjuduAq6LBnVmftwg8C0DVcDcpowWHRfe5WL6hFR3qn71MO7kUSABmKqvz7cK8678l4+U/AO9qd9odusrH/HQgZgT9BTus3KRSuGcQLYE/p8Bs9fi2VU0jtRaDSiuzFRab0gz0xJBatMulk/fXNMleIa3jnbroaU0PXDINprv+Ak0c0XPTPb0GhUL6z60+HZfJIHrWMqkFgiSCUGKa3nE936KSAPicf096O7qqJubpg2mV/8tGZQM6y7t7enoyHXXlVBLahmhG4L4qsiDE5eVU0rb+rq7u7p7e3r64cj0TgSS4tGKNE+v0mAZ9G7rEHogw1VmDqJd5nM45hGBBqF6Kn3Ozt38tyNZzzz+rFEEizkyfwpPHPWnbJPaULhCCQCtqXI5eg8nrl7FGIK2+mGhyChNOrzlhm8W54Fo4gAjYLOdH2yUohnyqJD5knVDJI7a9O9Ht9Si+si0mhge27A+TVCQvs1epgGtsh4k7uLhXl3aA8ImcGeJLMdi4V5178pxRCwGDQBnfvhmko4jCm0ADpibm1cLHrZa4Tms2+BeLe7y/kmT5N+6gxB0s2EW/MdD83jE1x9I45hzsnKiA16tO4vHsFL5sWDwA8gF/k9luSbfVY7pAOFR/fDWViB9RINaE9zPLbpoEkpfVlPRtS7vLkgfVm7ctCVFkhCNETb66s+e2YbV0fvtehKu2cP9BKZkhj6W50ZBk/ldT0yekaFDdTWHJ+za1bJu2fTCQABfHeZ1ZNDs6dL27Vg0J0VzgYmhb0tjvd2i56yp2v8AFJrgsXhLbufhbex0BjQFmKg/rUPVuFxXuaIbRLDVwm59vPFEx6Vo9bKbiQ9QW01uCKt6vnrrt/BVpfzi5btskhmaMlAuiegpztFlx9/ldFM6A1/c8u2Ed747fnRPcqeGWi62TkqzUlR5uD9sBLYQMcFsa3RgT6Z5a3fNPfNXv+CoQWjtoe826UczEXwdy7GB1Z6a71OSS67YRjexbKuBalEaKr18U3rjutncktbBism5houFRRV/Tp0SmPkAHpCnk+f/NeKY3qDmjv6/rvOIK0zsydNXi7vS6HRAGxnanRgXtUIvnEHq/nVFMFLbtYkPsHFMvKhhe2s0WHUQkkoqPaZ9XJaQR2D/wmNRm1xuL9XdI7UmzjmBn6Qgi0zPrXmpFENXbINQsNNP8XB+uoD5Pbut/jKErbQn+CroswvHjzy3L9uSJUgvidC+4LsLaNKeiBOsLM85M7eXS+d0+GsDgtS8a0F0eZarxRUHCvoymBiQ6Lj808e7cO8LAMYqI/a8T13LOp6WS+zKgNx6TfXL3ts8208W5epHVFaW4+8Z3mkYJVF/03gKfZKq8SlzUo62HcBErrS7b6E+IZ3wXVsMX933LPtW055FePpInBEycf9kkeUnOrZZkogAIcU+Vh8UH5tktaGodukNaQbfzZKqmGZ2LFL/99O/FOSFRDdXhlj/2iVyNyjiqaptZ0kjg30ILG/oaLA8faKyf/5z+SZqx8a+pS0oUGAVJdkc2m7pDA/D9/0eas279i995iiQWALI3golYBIsHq0VUKE8XD55p27ZI9fMwouGDDao2C6fdWOik+fuWLvxWcvnisrKz15dHvT/FlShx85RJX2IqBZ/saHVwhPFjtonV7S1otF9zbHWzyRmjNl0qzD1t+qO/uQfe21Ye+OC0z+a8GOR6HlEASODHQmPN6xUFhIZPvJO8rPnz5+pmV8f/XUmYsO3voYVdzcBW0sTjWREZk0VVJGyy25sRtLI9dpHlsqLDhz3UG5l2pv1VTVleW2CgmJ77uqZBpaQgWpha7yS6bNWHf8vo6JoZ5dKoDvTXJ8tWupKB/PlLmrtsseOCC775i8XiCUuV+Ju9tSeuNtFNeITJ+9aOXGrTuk9+47fPTkhesP1Iw9cyFoIra3JtXp2vbFvJMED2vElje0IRkbMyjN/uelRASExXadvqf6Vu3Ne50H0rMERSRPPdDw+9ZMJEK9XhxZPldk8fr9D958NjbUU3t6Z9N8QdHl0gof7fM64R01+W6alxbyTRY/rJqUX9WNA9Bt+cYKBxbOEJg0ZfaanbIHDuzbd/y25dcaCkAjodrindS3z+PhXXUtLKcMhiT2NaXr3d07i3fygotfChu68CCN3Bz7UGbJZN5Fl9SMTL445xdGvD+8Q1rJMb24qr6hNjfQ4PzRy0aZTLELd/vZV2Bt9Mdd6w6YxlYPYBx8V4Xe9V3HVDygrCBsFBy8qSzu9YFF/5nEu/mGaWZ1Cxw3IJCgQvIcj0tOm7P+lLqeqbG+Q9GwJTQAr7B6InfdIKKyqiTCSfuR4vvochhrRqPRiJ2xdmYOaU3l5id3ntUuxdGAniz1w8vWPI1j0Qc0O14QnMQjuVc+dniMeVYmcl+d69urJx+bZpZUleakeNnov75/fsPqw8aZxalBRpbeBVgQaI/Xl95xzTWnoiA1UPPpQzXHVMzgqA0SEHAUlfrN9Jzshfe5A2GYKRCHN1oFPyx1Lg94c/OR2ehBUli0fu9M7k17fe7gI23v/LKS3NRQ01dPH90+vueMkl98koWqZkw3AOJh0abKN1S+ZBaXZYZbP70jbx9fO7jipJKwGAy+O+PJZomDhsWM0R/ojrN4Hdj4vZo5n48PrFCw3aE6N49eeRmQUd3V1wdrrc+Ocnl+6/JD/dAe0qhKDRCdfl9C8IR+AXuKostbyDhIxbfEr6E6V7ZM4eOTOvMxLDGzGtrPVL5QkVkeKhtEBJffcupBwctT/M0tXCtGcb/G2Z5fSAMFGtumzlwub/a16wfkgSAREf7x9KH7phWcOzNBVJa9+r0PjmklVfUNDTUVxenh9kq3FL2YQdBAIhKBohKzjE/tOfP2GxN2MkimwsL1bkoI8U+V1h7aBJDUnOV2/+Zjj7ic8rw4k2fXnxuFtKDYaIraV5Nqb+dVWul7ZpbIiygEDcQU+7/fJnUxBMPOwyySAKvUvbr3lnF0z7AGkqp096zYY5Ux6CRpKBnDrkFim4fKlSvmGSN9eBDdmPrh2oGjL5wKG9q7e7tb60piXTTOHT77zrecDUVoNBoRUaR167SadUxxYZr7h9vnFEwLugeBFBnbHmFrGJIa9f7M7nPW1TQataM06Lbssc8xdL8bEwebA/8YWOmvzfC2NTYwMLJ08IjJa8BzbPQAsZ2FaXGe1kYG+vr6BobmDj5p1fTuBZDQ9blRVjpvFRUev3yv5x6Z3Y5kqehpIAndmRPpoq32TOGR8gd9m6iceo6H1H5Igbe5xvOnz95omgdnVNdVpnvYOYQm5NTD0NieuuRw7y/GBgaG5h5RaVVQRH9beayfs5mRgb6BqUfUt4b27vbavBAXK0MDAxML+/DM8m4kkUajwApCTD69fvbslbaFZ3Zjb2uMubGDb0J2eQcc1dVQHB/oYGKgb2Bs6R4UWwJB0EULRZGmH1Wev/5g6hRS1I7rLA3TVnn+Vs8xs5Fu0oGGlXoZvVVSfqXrEF7P2FtBRnfmxLjrvnv+8OFj1U+GHpHZUMQothEguTXbS/HWrSdPFOXv3rhy+cK5M6dPHD24a4PUnvuuNX1tOdG+NuZGBgYGpvZ+qYXVdE++jIVOdYKLlurzV28/2/knNSMIjQlWqs+ea1kFlnfQFy8kZFO815f3L5UUHiu/N/ZIq6oKtDJ0DUkobe4lU1H1ucmBrl8MDQwMzB3Dk7IhdG09BQEpDnU0fK2koPDklZap89dChjUMjUborU0IcjU3NDAwsvKNzWjqwbWXp3rZWxga6BtYuCUVNNFNFgBURYzzm6cKymq6AamVCHx7sp+no72jV0BIcHCgp5tnWOb3txxiYDVRgSHVbO+VZFRxcmR83mBcQRIKVpIWamdurG9gYG7tGpVVDkMyuUpCdSR6GL5UUlbTdUxpGFELQu2vS3e2tXf38vbyCclv7OWcvEB0Y2JKcT+60eyk5DGVIAZIAGCed08blbP+NxBbE6HxTEnHOa6VczBjPWadqShoWYibo5OHp5end3RGGayzId7b0cbDNyAoumbAoRi5Ny/I1tLe3cPTOyylpI/tR4tVBA3oMTq74rJmNANxgYhsEy3HgrHqZL/ISMDbcjydfKr7RhqiuXN+5wqkdpQneTrYubh7eHgHpdX09rUVBjjbubl5BqTWMwZsANNRHuLh5Orh6eHqnlgKHSbQApHpRusWyHxh2KCCBGiotUP8EHf13yFifGCFRgMw3bXhzqY6+sbWtjZfzEwMDE1cw7M7WfbOI9cGouKV164+ZVjL8Y8CBFRFWrCrk72VpYW5ubnlFxtHt8Csmg7WJARiOiv8zFRvP3pr6+rq6OSRWtk1OImNXM2v3u2N17j31DinfTQJEXf5ALE8Uuf4yYcxFVwTPBXZkhLq5+PrHxDg7+fn6+0bmtXA0oczCgAxuc92SN4xy2hpamzqZW+5IsOq0t2tP549+Y67GvoVgOvNj/VzcHbz9nD2jc6DccWHI7fXleSX1jWEvV4guteVIbMAEJkqd7QLhsWMhFUE3Tp8wiq+gT03sOoil+juXn/0Xf6wRQgrw/AziK6OfHhF3qtkNBspcndVqp2epraxpY2Nlbmxga6xTUjWUBM2ECC3FsW62ju4u7u6+Cc10oW+gwcR05wel1Wf531x94FPKXTfEyChxcvMyD9jyB6jwVf+N1P/FFj5eW5TSTgEHIEhDC5oOcoCiDg0HIEe6SEIkAloFHoAFTFcMfzyQEyjUYg4NBozIBaiEkeqloM4usgej8XgmNEtQICCx6DxJHZDQAoRh0JhSFzBL0AyHg3vR+DG8hgFYmGlVuovTAKyehGI/t7uzo52aFsrpLmxpjRW5di9BJYdJictzDRI5xgWz6wTBMhYNJrACRwBKh6DhCPorvlBkEoijW2QxygVIGORcDgSO+iDf4SKR7kFUnBIOAo7YPQCUBlBjSkELBKBxBJ/oGq62gQgc0XgAylkMpkydPk1SvU0eidBojih8/CcFAK9j43QOoBCIlNJFV92ia/STh6Y50lFJs9MSjgnBgCPQmDH3mDKqBKkENEIOMPBDPMai0Th2Z2FPqRRcCgEZjRagc7Px5fds/xGh9Xd2fqvjbJH1zwNbyNAJeMwGLYWcXiG8dyhd2wkEk2gMP84KpmAweKpHP2c/lMjUIRB4RBn8SA8/vMKifPBKPoo3pAWZBeQ1jeWm2DOdwfS1KzPR+T0UjllHsMzDbkDkLA97ZD62pq6hpYuOJaT8UNysi5BfJX1qU3/196Zx9WUv3H83FuRslOW+NEkTDP8vJhJZpBhxswwYZoZJstQkTAiKdkqZRlblCnaidBCGrIvLbQoIal0q1u3Rcu93e7a3c45v9c5SXWXoh+mm+f8UZ3l+5zn+/7eV6/Pfb7P9/vMDMxQKnObnpL/jUmF9ZUlhXn5BRXMD1ArEJcJqiteNi0Tl3dG8RzjFidvsfrFPfqRgirAxAJOHYvF5gqkLYay0UTDHadPDb8Pf1xwOSIi8XnrdV3C+xtXqcg8QyV8jtynvNEeJpNKpKLSMNspQ38Ja8zBlRRfcT9yo0VA8dWTD4NWzl3s8bBKfrSJnZY+H7js+NtMbhKbbXpY/Xn0RW3z7LkiI6mwrryY9iI/v7Ckgv0qTKvwFIaK+FwOv0EBFY5hUnEDKzFgg9lcl6e1xP8KtC4/8vSZ9Bev17grWPsoL6ifWPkoh6nNTqPizIh14yb8HJEiv9EjyrrlaHPk3dRXadMFuNlEAGUE/aZnuPw2KRCx2jsuzqcrW32Panrwvf/Gnkdvs/xpkbPbjg2Oe6/T32xVxnv3qiMvwPjP/Wy+nbFkq5fnDvcjEc+JOcO3O9jPb97Lfnery1W9HGuId5+/eFu08sX7qlp18usoLzXM1WKtj6pCH0rdl9HC5plMstq0/fCZe9Wtawhwk47aB+QrbdX2RZR5d42ZyfxQckd/jJ92Nig8jSb/jVOau/VH053RBQphFbT4lK3+pC1Zcqsr23wlyi4McFrhHJrQOhTSZpsO3cQERaGb583ZHM0iWMkYj++ER/xT3iJE1yGrXa0RiBX1H1GZKC3E1rD3wEm/usSmPi8pZTAYpXRaTuKlQKeVG8+/+EDrDNSf4zvpAVZ3eaOJyZKLdCazuiDO1/tMNuud2O2QEUzEZ5VX1qgKvnTI5r/WiF9bWvaS/UbhtX/NR7yu+PbWlavCkxktopP/njfv6M0y5qO/bJe5xua1WOXXvmkpr+ZlVZ3ceEk5eYEeh28T+wG+9YHxs3bN+2qebw6TxaRnXDt+MpbeOuCBSThp++fOsQsplo+qoPyi+DU//rw3XWn6sypPsKqc+LV/WEdlKCsTpqpRh65j4oqL+2wsHcMKK5jVjLyLwUdvPIOwijxKECvyRNTwHONWPjnhutT8i3GjRo0ebzr12x/m/LRgof0O/1SF6hhq2Dt1c1lcEnvI1ePA8cCAoKjEPIHcf2t16w34+3YEZIKc68E7PHySC5t3WHg7C53xaYyTF7fRxjEsid6c+9wRPzFmdkLs/TyR8vm+di1Kyx9EuDrv8gsJDT4Vk1ncasMpTFz39NJBq8U7k+UjmSjvZXaY1+bt4S1qa7T7KjI7Oj3CadnaozlvkePyJnaVPoPWFST/vW+3T2BIaEDAlfSmTQiUPvuxXgSx0kVGXipgFTxJuXk1Ljbu6r2UzHxGF/k+rZbDg2FCXj1P2DL7Vi37AU53gADawMyIPxN2PUcxO6ED1jpNE2nt0zg/37O5qna9+2COSgT17HpFuSMqzzgZEJ5UIr9lF44Kaenxp2PuVihdR6nabUwmSju9xy/umYJF1W3+zzsyUT2rDr7eqKIIYkUVGbgOBIAAEOgIAUzCZ7Kbi2p1xERnbIMKWDVchWSQTuKpTMhl8ZSlwWIyIZ/Db2/xg5JeYJigvqa+7foFSprBpfdFAMTK+yILdoEAEAACQAAIAIF3QqAzi5U2yne8k76DESAABIAAEAACQEANCHwgsYIJqrPTUxJfHUkZeRWq9w3BxJyKx8k3Lkadj4m9cu1WUm45u4P5WGrAH1wEAkAACAABIAAE2iHwocQKj5F8+dxua/MxRkZGRsazHMMrOcp3n5DWFZzbs2ry6CEGk5Z67dk612zcjOX7s5rLr7TTH7gNBIAAEAACQAAIdDECH0isEPttysSF4VYDqQiCUI0XH2OQNX3kaWKinLj900b2pCAaE52uZ90+OFVPi9JjvMeD5lJw8k3gHAgAASAA7UcesgAACAdJREFUBIAAEOjSBD6cWMFxnBlvP1SjTbEirbywZ5GBFoIgmtO8HhalhloY6+oYWsYU13fpUYDOAQEgAASAABAAAioJtCtWMImQz+UQ5WOaE0cwDG0+iJ2vUalYwOPyBIqr33EMlTaQ9yQoxoy3N2hTrKC8whCn2f2J6IvmVK9MiUzMZdWwuMLGHQtQqZjP43J5ghauEB1r5Q25EbdUxOfxBZJmj1X2H24AASAABIAAEAACnZxAW2JFXF+ecSvGd9/ewz4+R3yPR93MqhFIcBzjVDyNP38qOIg4TkanllTmXgn32e60cfOOvSGXUspbFCGRckoSLobs2bbJYbObX+TdzEi7NiIrMgn/YfSB5d+Z6FDI6MsCt8BTUQ9yXxJlSDEh48m9yNC/jx71PeZ96GhodNJTxquqnBjvRfLl8EZvQiJTi8sYj28F7Nvq5OIRfuMJW6H6VicfD3APCAABIAAEgAAQkCOgUqxI6wqj99t9MWLA6IVHrtyOP+Qw/3OTKeuD7otwrJ6R4r1ujgGpKbob/rp5i+1v82aaDOunQUG09cZtDMngNtYZa6Cfc1kwVl9Hu7/htwtt1q2xt54/oZfqnBWZiHPr+CYLM0NtUqyMmLnaba9vfEaJGOVmR3stMBttYmrpHXPr1nlP85GDjacuPBz7pF5GaKfcOxHWE3sRjTQ+sXJ2sDI31qEiCEXLYJZDMo0t12E4BQJAAAgAASAABNSLgAqxggqexO6ZNrwnVXPExnt8DJfkxB38ykBL5z8Lol6iOCbKivL8Qp/QHVr9TN2j7ucX5UXv/GWQLhWhaJp8v51UKzLa6dXDdagItbfZ0t33S2pZVcWXt3z9KmqiIsFWwsr1/3NGH3Ia6GuPdKFYLJXJah/4zx7Tn6qpO311CEOC49LKE5bDKVStYWaLzz6sJqtuSmLtjIj5JYr2UNNF/nGXPH820qZQB5mvSywAsaJeH0jwFggAASAABICAPAHlYkVWV3TCfnIPCoJomZ0gFuKgJXcCZxvrUCg95gVX4bj4Scwe08GEpujxif0DEYbjaFGky6gB3RGE+h/TFdfKUFz81G36CEI/9Bm12vdeY6yl9srqNqaBiNkeLi3Q4Zu+pFiZtjtLhuO4rDRktXlPTQpVu/9vB++T1TSlmZ5TNRCE0t1goVdMJTFLJI3/cwwpVnRmbPunXoQ2sAtvnD97+3EpzALJDzicAwEgAASAABBQNwLKxQqnJMPRfACFmEsZ/cdf3t7e3p6Oy02NB/Xt23/C5oRWYsVoDVnLEi2J2Wo8sFGsLL/KQKUvzswe2Y8IvQwav/3cM0J2kKuB2k6wVRQrMsZNO3MjTQTR0NGzCWi0g5b4zyMWDFG6jVu0+zFRY7NJrGgMtvo7ka98Axd1GxnwFwgAASAABIAAECAJKBcrLNp924naCJEFMmSBxwkylbbxR3D43aI3ESviVJ8JQ3shCKI9dKLnhQJysoZYuvy2YkXy/MLCLw2oCKKpq28XmkeKHqw8yJIQKwh15A/OKXRhC7EyZIl/EogV+GwDASAABIAAEOhKBJSLFXZx2ropvck8V327qwKFDreYBlIRWZFk+psO640gSLch/3WLzO1wZEVafNVmqqEGgmjo6tkG5ZB2ULqfBSlWNMdaumeWi0GsKAwQXAACQAAIAAEg0HUIKBcr4uq8g4tNtAi1ovXZpgTh6/5ivFqm6E0iK2j11SWf6hPRj/5jHAJThOT6oA5EVjBhnveSyToaCLXHgCW+meQMjyx7/0xNYiuWgXNdTtIFGIiV1+MDfwABIAAEgAAQ6HoElIsVXMa+G7DWWJdQK5p9Jh97xCHEhpSZsH/ZnN0PG8XKl40Jts2RFddXOStfLo9noDjKjl07kcyU1ZvrfJJOJOFK0jy/IpJ2EarRoiOldWSybGuiGJcW4PBN42qgKe4PSWmCll5w/aRPN0q3XrNdYtmEH/wLtsYUhNLTaPqRG3TyGemVdWSCrcagRccgZ6U1UzgDAkAACAABIKDmBFSIFRwXlqV6LZuqr0vMt+jqj/5mrsWsr02n2/iXyHAxlx6z33oUubOJVt9ZQU8r2fXV1/YtHtpLE0EoemO/80usFEpQGSNu6fjBOlrUXiPNNuz193OznjLesDeVoqHVve/YH/edfcBszGRpIoihsprsay7zTboTgoYy3OLgI3pFvUCCo1XxO+eP1O9vMnPNpeyysuzI3z/V6zvss5WHblRLcRwTs8oee8zqRzbqPsHaJyu/gt/actMb4DcQAAJAAAgAASCgfgRUihUcRzn09GCv9ZZzZplPN59t8fumA+fyierHWFXO5b2Oq61XNB62O31jUjMSfXassyEvWK+03xVwmc4S4zjGehbrsWbRDzPNZ3xnYe3qn5AUZL9wyRpHV68DPsHn7lW0lhQyMe9u2K71q14Ztl651s33TBqNRQRTZMyUswcdVq5Y7+zm5mhnZb3B90JmLbFoGcfRmoQgj9feWK9a734oMq954kr9hgQ8BgJAAAgAASAABFoSaEOskI9h4rqKYloBjVFVJ5KSiSctW7/B35IGdlkxrbC0SiBFMRGbxRZ0tGIPJuIxS4totCJGnRBWJ78BengECAABIAAEgECXINCeWOkSnYROAAEgAASAABAAAupLAMSK+o4deA4EgAAQAAJA4KMgAGLloxhm6CQQAAJAAAgAAfUlAGJFfccOPAcCQAAIAAEg8FEQALHyUQwzdBIIAAEgAASAgPoS+B/dcf9BxX4RHAAAAABJRU5ErkJggg==)"
      ],
      "metadata": {
        "id": "JPdc1dXW6Q7Z"
      }
    },
    {
      "cell_type": "markdown",
      "source": [
        "![image.png](data:image/png;base64,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)"
      ],
      "metadata": {
        "id": "0rSajqi_gze0"
      }
    },
    {
      "cell_type": "markdown",
      "source": [
        "## 矢量化环境 定义"
      ],
      "metadata": {
        "id": "672WsXb9siLY"
      }
    },
    {
      "cell_type": "markdown",
      "source": [
        "当你计算两个神经网络在一个 **`epoch`** 上的损失时，它可能有**很高的方差**。在矢量化的环境中，我们可以并行地处理 n_envs 个环境，从而获得线性加速（这意味着理论上，我们收集样本的速度要快 n_envs 倍），我们可以用它来计算当前策略和 critic 网络的损失。当我们**使用更多的样本来计算损失**时，它将具有**更低的方差**，因此**可以更快地学习**。"
      ],
      "metadata": {
        "id": "BW8ECf1CrULr"
      }
    },
    {
      "cell_type": "markdown",
      "source": [
        "A2C 是一种同步方法，这意味着网络的参数更新是确定的 (在每个采样阶段之后)。我们仍然可以**使用异步矢量 envs 来生成多个进程**，以便在**并行**环境中执行。"
      ],
      "metadata": {
        "id": "t6Nyr_yXrjgh"
      }
    },
    {
      "cell_type": "markdown",
      "source": [
        "创建矢量环境最简单的方法是调用 **`gym.vector.make`**，它**创建同一环境的多个实例**："
      ],
      "metadata": {
        "id": "PHIC_6CirTgH"
      }
    },
    {
      "cell_type": "markdown",
      "source": [
        "https://gymnasium.farama.org/environments/box2d/"
      ],
      "metadata": {
        "id": "Vp4FcnO5SF0w"
      }
    },
    {
      "cell_type": "code",
      "source": [
        "!pip install swig\n",
        "!pip install gymnasium[box2d]"
      ],
      "metadata": {
        "colab": {
          "base_uri": "https://localhost:8080/"
        },
        "id": "r_-rD7XiRqHQ",
        "outputId": "b9feb4d7-3017-40ad-c5c6-2e83338c74fa"
      },
      "execution_count": 6,
      "outputs": [
        {
          "output_type": "stream",
          "name": "stdout",
          "text": [
            "Requirement already satisfied: swig in /usr/local/lib/python3.10/dist-packages (4.2.1)\n",
            "Requirement already satisfied: gymnasium[box2d] in /usr/local/lib/python3.10/dist-packages (1.0.0)\n",
            "Requirement already satisfied: numpy>=1.21.0 in /usr/local/lib/python3.10/dist-packages (from gymnasium[box2d]) (1.26.4)\n",
            "Requirement already satisfied: cloudpickle>=1.2.0 in /usr/local/lib/python3.10/dist-packages (from gymnasium[box2d]) (3.1.0)\n",
            "Requirement already satisfied: typing-extensions>=4.3.0 in /usr/local/lib/python3.10/dist-packages (from gymnasium[box2d]) (4.12.2)\n",
            "Requirement already satisfied: farama-notifications>=0.0.1 in /usr/local/lib/python3.10/dist-packages (from gymnasium[box2d]) (0.0.4)\n",
            "Requirement already satisfied: box2d-py==2.3.5 in /usr/local/lib/python3.10/dist-packages (from gymnasium[box2d]) (2.3.5)\n",
            "Collecting pygame>=2.1.3 (from gymnasium[box2d])\n",
            "  Downloading pygame-2.6.1-cp310-cp310-manylinux_2_17_x86_64.manylinux2014_x86_64.whl.metadata (12 kB)\n",
            "Requirement already satisfied: swig==4.* in /usr/local/lib/python3.10/dist-packages (from gymnasium[box2d]) (4.2.1)\n",
            "Downloading pygame-2.6.1-cp310-cp310-manylinux_2_17_x86_64.manylinux2014_x86_64.whl (14.0 MB)\n",
            "\u001b[2K   \u001b[90m━━━━━━━━━━━━━━━━━━━━━━━━━━━━━━━━━━━━━━━━\u001b[0m \u001b[32m14.0/14.0 MB\u001b[0m \u001b[31m29.2 MB/s\u001b[0m eta \u001b[36m0:00:00\u001b[0m\n",
            "\u001b[?25hInstalling collected packages: pygame\n",
            "  Attempting uninstall: pygame\n",
            "    Found existing installation: pygame 2.1.0\n",
            "    Uninstalling pygame-2.1.0:\n",
            "      Successfully uninstalled pygame-2.1.0\n",
            "Successfully installed pygame-2.6.1\n"
          ]
        }
      ]
    },
    {
      "cell_type": "markdown",
      "source": [
        "#### 同步环境"
      ],
      "metadata": {
        "id": "8rzg5ZwEUNFO"
      }
    },
    {
      "cell_type": "code",
      "source": [
        "# !pip install box2d-kengz"
      ],
      "metadata": {
        "colab": {
          "base_uri": "https://localhost:8080/"
        },
        "id": "DaHcUX9EkXGG",
        "outputId": "34c6bb22-e928-44fe-9151-bb8452b9479c"
      },
      "execution_count": 8,
      "outputs": [
        {
          "output_type": "stream",
          "name": "stdout",
          "text": [
            "Collecting box2d-kengz\n",
            "  Downloading Box2D-kengz-2.3.3.tar.gz (425 kB)\n",
            "\u001b[?25l     \u001b[90m━━━━━━━━━━━━━━━━━━━━━━━━━━━━━━━━━━━━━━━━\u001b[0m \u001b[32m0.0/425.4 kB\u001b[0m \u001b[31m?\u001b[0m eta \u001b[36m-:--:--\u001b[0m\r\u001b[2K     \u001b[91m━━━━━━━━━━━━━━━━━━━━━━━━━━━━━━━━━━━━━━━\u001b[0m\u001b[90m╺\u001b[0m \u001b[32m419.8/425.4 kB\u001b[0m \u001b[31m14.0 MB/s\u001b[0m eta \u001b[36m0:00:01\u001b[0m\r\u001b[2K     \u001b[90m━━━━━━━━━━━━━━━━━━━━━━━━━━━━━━━━━━━━━━━━\u001b[0m \u001b[32m425.4/425.4 kB\u001b[0m \u001b[31m9.6 MB/s\u001b[0m eta \u001b[36m0:00:00\u001b[0m\n",
            "\u001b[?25h  Preparing metadata (setup.py) ... \u001b[?25l\u001b[?25hdone\n",
            "Building wheels for collected packages: box2d-kengz\n",
            "  Building wheel for box2d-kengz (setup.py) ... \u001b[?25l\u001b[?25hdone\n",
            "  Created wheel for box2d-kengz: filename=Box2D_kengz-2.3.3-cp310-cp310-linux_x86_64.whl size=2394320 sha256=01083c1ac4a99bb288ae40483c9ff0d9907c4f9c6216ca8d9f6c262bcc00472d\n",
            "  Stored in directory: /root/.cache/pip/wheels/ab/a3/5f/6396406aa0163da86c2a8d28304a120b55cfa98363654d853b\n",
            "Successfully built box2d-kengz\n",
            "Installing collected packages: box2d-kengz\n",
            "Successfully installed box2d-kengz-2.3.3\n"
          ]
        }
      ]
    },
    {
      "cell_type": "code",
      "source": [
        "# !pip install box2d"
      ],
      "metadata": {
        "colab": {
          "base_uri": "https://localhost:8080/"
        },
        "id": "vjIk-E4xlZPP",
        "outputId": "d7221241-0a58-42b1-b5df-8fc74cec4095"
      },
      "execution_count": 16,
      "outputs": [
        {
          "output_type": "stream",
          "name": "stdout",
          "text": [
            "Requirement already satisfied: box2d in /usr/local/lib/python3.10/dist-packages (2.3.2)\n"
          ]
        }
      ]
    },
    {
      "cell_type": "code",
      "source": [
        "envs = gym.make_vec(\"LunarLander-v3\", num_envs = 3, max_episode_steps = 600)\n",
        "envs  # 同步环境"
      ],
      "metadata": {
        "id": "wftS6VGDrh5b",
        "colab": {
          "base_uri": "https://localhost:8080/"
        },
        "outputId": "af3634b8-2857-4465-ec1b-113a939519f2"
      },
      "execution_count": 9,
      "outputs": [
        {
          "output_type": "execute_result",
          "data": {
            "text/plain": [
              "SyncVectorEnv(LunarLander-v3, num_envs=3)"
            ]
          },
          "metadata": {},
          "execution_count": 9
        }
      ]
    },
    {
      "cell_type": "code",
      "source": [
        "envs = gym.make_vec(\"LunarLander-v3\", num_envs=3, vectorization_mode=\"sync\")\n",
        "envs"
      ],
      "metadata": {
        "colab": {
          "base_uri": "https://localhost:8080/"
        },
        "id": "I_yFetryTtwY",
        "outputId": "add13a96-1f93-4007-b5b5-472fcfd0cf42"
      },
      "execution_count": 10,
      "outputs": [
        {
          "output_type": "execute_result",
          "data": {
            "text/plain": [
              "SyncVectorEnv(LunarLander-v3, num_envs=3)"
            ]
          },
          "metadata": {},
          "execution_count": 10
        }
      ]
    },
    {
      "cell_type": "markdown",
      "source": [
        "## 域随机化"
      ],
      "metadata": {
        "id": "cHVOW1w2s50z"
      }
    },
    {
      "cell_type": "markdown",
      "source": [
        "如果我们想要**随机化训练环境**以获得**更健壮的代理** (可以处理环境的不同参数化，因此可能具有更高的泛化程度)，我们可以手动设置所需的参数或**使用伪随机数生成器来生成它们**。\n"
      ],
      "metadata": {
        "id": "PUEyyOn2tFJ4"
      }
    },
    {
      "cell_type": "markdown",
      "source": [
        "### 手动设置参数\n",
        "\n",
        "手动设置 3 个具有不同参数的并行 \"LunarLander-v3\" envs："
      ],
      "metadata": {
        "id": "ST9PbgwJt5St"
      }
    },
    {
      "cell_type": "markdown",
      "source": [
        "#### 异步"
      ],
      "metadata": {
        "id": "-vmBGhqqUQiR"
      }
    },
    {
      "cell_type": "code",
      "source": [
        "## 异步 !!!\n",
        "\n",
        "envs = gym.vector.AsyncVectorEnv([\n",
        "    lambda: gym.make(\n",
        "        \"LunarLander-v3\",\n",
        "        gravity=-10.0,\n",
        "        enable_wind=True,\n",
        "        wind_power=15.0,\n",
        "        turbulence_power=1.5,\n",
        "        max_episode_steps=600,\n",
        "    ),\n",
        "    lambda: gym.make(\n",
        "        \"LunarLander-v3\",\n",
        "        gravity=-9.8,\n",
        "        enable_wind=True,\n",
        "        wind_power=10.0,\n",
        "        turbulence_power=1.3,\n",
        "        max_episode_steps=600,\n",
        "    ),\n",
        "    lambda: gym.make(\n",
        "        \"LunarLander-v3\",\n",
        "        gravity=-7.0,\n",
        "        enable_wind=False,\n",
        "        max_episode_steps=600,\n",
        "    ),\n",
        "\n",
        "])\n",
        "\n",
        "envs"
      ],
      "metadata": {
        "id": "Tk0xL_Lrs5lb",
        "colab": {
          "base_uri": "https://localhost:8080/"
        },
        "outputId": "29442e53-c385-42af-9491-a59795ccc1d7"
      },
      "execution_count": 11,
      "outputs": [
        {
          "output_type": "execute_result",
          "data": {
            "text/plain": [
              "AsyncVectorEnv(num_envs=3)"
            ]
          },
          "metadata": {},
          "execution_count": 11
        }
      ]
    },
    {
      "cell_type": "markdown",
      "source": [
        "### 随机生成参数\n",
        "\n",
        "\n",
        "**随机生成** 3 个并行的 \"LunarLander-v3\" 环境的参数，使用 np.clip 以保持在推荐的参数空间中："
      ],
      "metadata": {
        "id": "S1-lVQgYtiR2"
      }
    },
    {
      "cell_type": "markdown",
      "source": [
        "分布为： 环境的标准参数为均值和标准方差 (值的范围) 的正态分布"
      ],
      "metadata": {
        "id": "O7j4FQjUyxyS"
      }
    },
    {
      "cell_type": "code",
      "source": [
        "envs = gym.vector.AsyncVectorEnv([\n",
        "    lambda: gym.make(\n",
        "        \"LunarLander-v3\",\n",
        "        gravity = np.clip(np.random.normal(loc=-10.0, scale=1.0), a_min=-11.99, a_max=-0.01),\n",
        "        enable_wind=np.random.choice([True, False]),\n",
        "        wind_power=np.clip(np.random.normal(loc=15.0,scale=1.0), a_min=0.01, a_max=19.99),\n",
        "        turbulence_power=np.clip(np.random.normal(loc=1.5, scale=0.5), a_min=0.01, a_max=1.99),\n",
        "        max_episode_steps=600,\n",
        "    )\n",
        "    for i in range(3)\n",
        "])\n",
        "envs"
      ],
      "metadata": {
        "id": "ICDHqTaTtib8",
        "colab": {
          "base_uri": "https://localhost:8080/"
        },
        "outputId": "559e173b-4c2e-4954-f2b0-fd7124f98289"
      },
      "execution_count": 12,
      "outputs": [
        {
          "output_type": "execute_result",
          "data": {
            "text/plain": [
              "AsyncVectorEnv(num_envs=3)"
            ]
          },
          "metadata": {},
          "execution_count": 12
        }
      ]
    },
    {
      "cell_type": "markdown",
      "source": [
        "## 训练"
      ],
      "metadata": {
        "id": "R3YCgX9ouTK6"
      }
    },
    {
      "cell_type": "code",
      "source": [
        "# 参数设置\n",
        "\n",
        "# 环境参数\n",
        "n_envs = 10  # 实验验证过的， 10 个并行环境是用时最少的\n",
        "n_updates = 1000\n",
        "n_steps_per_update = 128\n",
        "randomize_domain = False  # 默认是 A2C\n",
        "\n",
        "# agent 参数\n",
        "gamma = 0.999\n",
        "lam = 0.95 # GAE 的参数\n",
        "ent_coef = 0.01\n",
        "actor_lr = 0.001\n",
        "critic_lr = 0.005\n",
        "# actor 有低一些的学习率， 则价值目标更平稳，从而更好地估计 critic\n",
        "\n",
        "# 环境配置\n",
        "if randomize_domain: # 域随机化\n",
        "  envs = gym.vector.AsyncVectorEnv([\n",
        "    lambda: gym.make(\n",
        "        \"lunarLander-v3\",\n",
        "        gravity = np.clip(np.random.normal(loc=-10.0, scale=1.0), a_min=-11.99, a_max=-0.01),\n",
        "        enable_wind=np.random.choice([True, False]),\n",
        "        wind_power=np.clip(np.random.normal(loc=15.0,scale=1.0), a_min=0.01, a_max=19.99),\n",
        "        turbulence_power=np.clip(np.random.normal(loc=1.5, scale=0.5), a_min=0.01, a_max=1.99),\n",
        "        max_episode_steps=600,\n",
        "    )\n",
        "    for i in range(n_envs)\n",
        "  ])\n",
        "else:  # 无 域随机化\n",
        "  envs = gym.make_vec(\"LunarLander-v3\", num_envs=n_envs, max_episode_steps=600)\n",
        "\n",
        "obs_shape = envs.single_observation_space.shape[0]\n",
        "action_shape = envs.single_action_space.n\n",
        "\n",
        "# 设置 device\n",
        "use_cuda = False\n",
        "if use_cuda:\n",
        "  device = torch.device(\"cuda\" if torch.cuda.is_available() else \"cpu\")\n",
        "else:\n",
        "  device = torch.device(\"cpu\")\n",
        "\n",
        "## 初始化 agent\n",
        "agent = A2C(obs_shape, action_shape, device, critic_lr, actor_lr, n_envs)\n"
      ],
      "metadata": {
        "id": "WsxZxHfezEbY"
      },
      "execution_count": 13,
      "outputs": []
    },
    {
      "cell_type": "markdown",
      "source": [
        "使用 RecordEpisodeStatistics 包装器来记录回合长度和回报，并且我们还保存损失和熵，以便在代理完成训练后绘制它们。\n",
        "\n",
        "回合结束环境会自动重置，固定步数。"
      ],
      "metadata": {
        "id": "2ITi9ufLzMCH"
      }
    },
    {
      "cell_type": "markdown",
      "source": [
        "https://gymnasium.farama.org/api/vector/wrappers/#gymnasium.wrappers.vector.RecordEpisodeStatistics"
      ],
      "metadata": {
        "id": "eSk-40JEmWuy"
      }
    },
    {
      "cell_type": "code",
      "source": [
        "# 创建一个 wrapper 环境， 存储 回合回报 和 回合长度\n",
        "envs_wrapper = gym.wrappers.vector.RecordEpisodeStatistics(envs, buffer_length=n_envs * n_updates)\n",
        "\n",
        "critic_losses = []\n",
        "actor_losses = []\n",
        "entropies = []\n",
        "\n",
        "# 用 tqdm 来获取 训练的进度条\n",
        "for sample_phase in tqdm(range(n_updates)):\n",
        "  ep_value_preds = torch.zeros(n_steps_per_update, n_envs, device=device)\n",
        "  ep_rewards = torch.zeros(n_steps_per_update, n_envs, device=device)\n",
        "  ep_action_log_probs = torch.zeros(n_steps_per_update, n_envs, device=device)\n",
        "  masks = torch.zeros(n_steps_per_update, n_envs, device=device)\n",
        "\n",
        "  # 在训练开始时重置所有环境，获取初始状态\n",
        "  if sample_phase == 0:\n",
        "    states, info = envs_wrapper.reset(seed=42)\n",
        "\n",
        "  # 在并行环境中 玩 n 步 来收集数据\n",
        "  for step in range(n_steps_per_update):\n",
        "    actions, action_log_probs, state_value_preds, entropy = agent.select_action(states)\n",
        "    # 执行动作获取 下一个状态 和 奖励\n",
        "    states, rewards, terminated, truncated, infos = envs_wrapper.step(actions.cpu().numpy())\n",
        "    # 储存互动的数据\n",
        "    ep_value_preds[step] = torch.squeeze(state_value_preds)\n",
        "    ep_rewards[step] = torch.tensor(rewards, device=device)\n",
        "    ep_action_log_probs[step] = action_log_probs\n",
        "\n",
        "    # 添加一个 mask , 用于后续的计算\n",
        "    # 如果回合正在进行， mask = 1, 回合若是终止， mask = 0； 类似于 dones\n",
        "    # 这里 不截断 为回合\n",
        "    masks[step] = torch.tensor([not term for term in terminated])\n",
        "\n",
        "  # 收集一定量的数据后， 计算损失\n",
        "  critic_loss, actor_loss = agent.get_losses(\n",
        "      ep_rewards,\n",
        "      ep_action_log_probs,\n",
        "      ep_value_preds,\n",
        "      entropy,\n",
        "      masks,\n",
        "      gamma,\n",
        "      lam,\n",
        "      ent_coef,\n",
        "      device,\n",
        "  )\n",
        "\n",
        "  # 更新 actor 和 critic 网络\n",
        "  agent.update_parameters(critic_loss, actor_loss)\n",
        "\n",
        "  # 损失的log  和 熵\n",
        "  critic_losses.append(critic_loss.detach().cpu().numpy())\n",
        "  actor_losses.append(actor_loss.detach().cpu().numpy())\n",
        "  entropies.append(entropy.detach().mean().cpu().numpy())\n"
      ],
      "metadata": {
        "id": "cAgYKZSYuTd0",
        "colab": {
          "base_uri": "https://localhost:8080/"
        },
        "outputId": "fc2ce4bb-16cb-4521-cc03-801f68f3d9cc"
      },
      "execution_count": 19,
      "outputs": [
        {
          "output_type": "stream",
          "name": "stderr",
          "text": [
            "100%|██████████| 1000/1000 [08:39<00:00,  1.93it/s]\n"
          ]
        }
      ]
    },
    {
      "cell_type": "markdown",
      "source": [
        "## 可视化"
      ],
      "metadata": {
        "id": "q1ARIh9HuTwS"
      }
    },
    {
      "cell_type": "code",
      "source": [
        "rolling_length = 20\n",
        "fig, axs = plt.subplots(nrows=2, ncols=2, figsize=(12, 5))\n",
        "fig.suptitle(\n",
        "    f\"Training plots for {agent.__class__.__name__} in the LunarLander-v3 environment \\n \\\n",
        "    (n_envs={n_envs}, n_steps_per_update={n_steps_per_update}, randomize_domain={randomize_domain})\"\n",
        ")\n",
        "\n",
        "# 回合的回报\n",
        "axs[0][0].set_title(\"Episode Returns\")\n",
        "### 平滑后的数据\n",
        "episode_returns_moving_average = (\n",
        "    np.convolve(\n",
        "        np.array(envs_wrapper.return_queue).flatten(),\n",
        "        np.ones(rolling_length),\n",
        "        mode=\"valid\",\n",
        "    )/ rolling_length\n",
        ")\n",
        "axs[0][0].plot(\n",
        "    np.arange(len(episode_returns_moving_average))/ n_envs,\n",
        "    episode_returns_moving_average,\n",
        ")\n",
        "axs[0][0].set_xlabel(\"Number of episodes\")\n",
        "\n",
        "# 熵\n",
        "axs[1][0].set_title(\"Entropy\")\n",
        "### 平滑后的数据\n",
        "entropy_moving_average = (\n",
        "    np.convolve(\n",
        "        np.array(entropies),\n",
        "        np.ones(rolling_length),\n",
        "        mode=\"valid\",\n",
        "    )/ rolling_length\n",
        ")\n",
        "axs[1][0].plot(entropy_moving_average)\n",
        "axs[1][0].set_xlabel(\"Number of updates\")\n",
        "\n",
        "# critic loss\n",
        "axs[0][1].set_title(\"Critic Loss\")\n",
        "### 平滑后的数据\n",
        "critic_losses_moving_average = (\n",
        "    np.convolve(\n",
        "        np.array(critic_losses).flatten(),\n",
        "        np.ones(rolling_length),\n",
        "        mode=\"valid\",\n",
        "    )/ rolling_length\n",
        ")\n",
        "axs[0][1].plot(critic_losses_moving_average)\n",
        "axs[0][1].set_xlabel(\"Number of updates\")\n",
        "\n",
        "# actor loss\n",
        "axs[1][1].set_title(\"Actor Loss\")\n",
        "### 平滑后的数据\n",
        "actor_losses_moving_average = (\n",
        "    np.convolve(\n",
        "        np.array(actor_losses).flatten(),\n",
        "        np.ones(rolling_length),\n",
        "        mode=\"valid\",\n",
        "    )/ rolling_length\n",
        ")\n",
        "axs[1][1].plot(actor_losses_moving_average)\n",
        "axs[1][1].set_xlabel(\"Number of updates\")\n",
        "\n",
        "plt.tight_layout()\n",
        "plt.show()\n"
      ],
      "metadata": {
        "id": "PjyOu43cuT6q",
        "colab": {
          "base_uri": "https://localhost:8080/",
          "height": 455
        },
        "outputId": "16a99db5-a302-4baa-f4bd-6c30713a054f"
      },
      "execution_count": 23,
      "outputs": [
        {
          "output_type": "display_data",
          "data": {
            "text/plain": [
              "<Figure size 1200x500 with 4 Axes>"
            ],
            "image/png": "[encoded data removed]"
          },
          "metadata": {}
        }
      ]
    },
    {
      "cell_type": "markdown",
      "source": [
        "与同步环境相比，**异步**环境可以带来**更快的训练时间和更高的数据收集加速**。这是因为异步环境允许多个代理并行地与它们的环境交互，而同步环境允许**串行地运行多个环境**。这将为异步环境带来更高的效率和更快的训练时间。\n",
        "\n",
        "\n",
        "与同步环境相比，**异步环境**的训练时间要**快得多**\n",
        "\n",
        "\n"
      ],
      "metadata": {
        "id": "vyJaf_LwzyE8"
      }
    },
    {
      "cell_type": "markdown",
      "source": [
        "然而，重要的是要注意，增加并行向量环境的数量可能会导致**在一定数量的环境后训练时间变慢**（见下图，其中智能体被训练直到平均训练回报高于 -120）。训练时间较慢可能是因为在相对较少的环境数量之后，**环境的梯度已经足够好了**（特别是如果环境不是很复杂的话）。在这种情况下，增加环境的数量并**不会提高学习速度，实际上会增加运行时间，这可能是由于计算梯度所需的额外时间。**对于 LunarLander-v3，最佳性能配置使用具有**10 个并行环境的 AsyncVectorEnv**，但具有更高复杂性的环境可能需要更多并行环境来实现最佳性能。"
      ],
      "metadata": {
        "id": "iG-V1T750WOi"
      }
    },
    {
      "cell_type": "markdown",
      "source": [
        "## 存储/加载 权重"
      ],
      "metadata": {
        "id": "jgEtuRreyeVf"
      }
    },
    {
      "cell_type": "code",
      "source": [
        "from google.colab import drive\n",
        "drive.mount('/content/drive')"
      ],
      "metadata": {
        "colab": {
          "base_uri": "https://localhost:8080/"
        },
        "id": "ivJZMYVtzGB7",
        "outputId": "a74878ad-fedf-4730-fe6d-499906b8d5e1"
      },
      "execution_count": 24,
      "outputs": [
        {
          "output_type": "stream",
          "name": "stdout",
          "text": [
            "Mounted at /content/drive\n"
          ]
        }
      ]
    },
    {
      "cell_type": "code",
      "source": [
        "%cd /content/drive/MyDrive/Actor-Critics_Test\n",
        "!ls\n",
        "\n",
        "# 在 目录 /content/drive/MyDrive 下新建一个文件夹 Actor-Critics_Test"
      ],
      "metadata": {
        "colab": {
          "base_uri": "https://localhost:8080/"
        },
        "id": "TZ8C92m_zLPC",
        "outputId": "f8ab1027-f72c-4cc7-9892-5fa3a2faad25"
      },
      "execution_count": 25,
      "outputs": [
        {
          "output_type": "stream",
          "name": "stdout",
          "text": [
            "/content/drive/MyDrive/Actor-Critics_Test\n",
            "Actor-Critics.csv\n"
          ]
        }
      ]
    },
    {
      "cell_type": "code",
      "source": [
        "# 存储 网络权重\n",
        "actor_weights_path = \"/content/drive/MyDrive/Actor-Critics_Test/weights/actor_weights.h5\"\n",
        "critic_weights_path = \"/content/drive/MyDrive/Actor-Critics_Test/weights/critic_weights.h5\"\n",
        "\n",
        "if not os.path.exists(\"weights\"):\n",
        "  os.mkdir(\"weights\")\n",
        "\n",
        "torch.save(agent.actor.state_dict(), actor_weights_path)\n",
        "torch.save(agent.critic.state_dict(), critic_weights_path)"
      ],
      "metadata": {
        "id": "F5tYLzKP1uvi"
      },
      "execution_count": 27,
      "outputs": []
    },
    {
      "cell_type": "code",
      "source": [
        "## 加载 网络权重\n",
        "\n",
        "agent = A2C(obs_shape, action_shape, device, critic_lr, actor_lr, n_envs=1)\n",
        "\n",
        "agent.actor.load_state_dict(torch.load(actor_weights_path))\n",
        "agent.critic.load_state_dict(torch.load(critic_weights_path))\n",
        "agent.actor.eval()\n",
        "agent.critic.eval()"
      ],
      "metadata": {
        "colab": {
          "base_uri": "https://localhost:8080/"
        },
        "id": "b7VQWSsX1fet",
        "outputId": "9de6c7e2-12c1-4221-fe60-230c408a91a9"
      },
      "execution_count": 29,
      "outputs": [
        {
          "output_type": "stream",
          "name": "stderr",
          "text": [
            "<ipython-input-29-d432d605a136>:5: FutureWarning: You are using `torch.load` with `weights_only=False` (the current default value), which uses the default pickle module implicitly. It is possible to construct malicious pickle data which will execute arbitrary code during unpickling (See https://github.com/pytorch/pytorch/blob/main/SECURITY.md#untrusted-models for more details). In a future release, the default value for `weights_only` will be flipped to `True`. This limits the functions that could be executed during unpickling. Arbitrary objects will no longer be allowed to be loaded via this mode unless they are explicitly allowlisted by the user via `torch.serialization.add_safe_globals`. We recommend you start setting `weights_only=True` for any use case where you don't have full control of the loaded file. Please open an issue on GitHub for any issues related to this experimental feature.\n",
            "  agent.actor.load_state_dict(torch.load(actor_weights_path))\n",
            "<ipython-input-29-d432d605a136>:6: FutureWarning: You are using `torch.load` with `weights_only=False` (the current default value), which uses the default pickle module implicitly. It is possible to construct malicious pickle data which will execute arbitrary code during unpickling (See https://github.com/pytorch/pytorch/blob/main/SECURITY.md#untrusted-models for more details). In a future release, the default value for `weights_only` will be flipped to `True`. This limits the functions that could be executed during unpickling. Arbitrary objects will no longer be allowed to be loaded via this mode unless they are explicitly allowlisted by the user via `torch.serialization.add_safe_globals`. We recommend you start setting `weights_only=True` for any use case where you don't have full control of the loaded file. Please open an issue on GitHub for any issues related to this experimental feature.\n",
            "  agent.critic.load_state_dict(torch.load(critic_weights_path))\n"
          ]
        },
        {
          "output_type": "execute_result",
          "data": {
            "text/plain": [
              "Sequential(\n",
              "  (0): Linear(in_features=8, out_features=32, bias=True)\n",
              "  (1): ReLU()\n",
              "  (2): Linear(in_features=32, out_features=32, bias=True)\n",
              "  (3): ReLU()\n",
              "  (4): Linear(in_features=32, out_features=1, bias=True)\n",
              ")"
            ]
          },
          "metadata": {},
          "execution_count": 29
        }
      ]
    },
    {
      "cell_type": "markdown",
      "source": [
        "## 策略可视化"
      ],
      "metadata": {
        "id": "CXEjNfn-2K6I"
      }
    },
    {
      "cell_type": "code",
      "source": [
        "from IPython import display\n",
        "%matplotlib inline\n",
        "\n",
        "n_showcase_episodes = 2 # 演示 2 个回合\n",
        "\n",
        "for episode in range(n_showcase_episodes):\n",
        "  print(f\"starting episode {episode}...\")\n",
        "\n",
        "  if randomize_domain: # 域随机化\n",
        "    env = gym.vector.AsyncVectorEnv([\n",
        "        lambda: gym.make(\n",
        "            \"LunarLander-v3\",\n",
        "            render_mode=\"rgb_array\",\n",
        "            gravity = np.clip(np.random.normal(loc=-10.0, scale=1.0), a_min=-11.99, a_max=-0.01),\n",
        "            enable_wind=np.random.choice([True, False]),\n",
        "            wind_power=np.clip(np.random.normal(loc=15.0,scale=1.0), a_min=0.01, a_max=19.99),\n",
        "            turbulence_power=np.clip(np.random.normal(loc=1.5, scale=0.5), a_min=0.01, a_max=1.99),\n",
        "            max_episode_steps=600,\n",
        "        )\n",
        "        for i in range(1)\n",
        "    ])\n",
        "  else:  #\n",
        "    env = gym.make_vec(\"LunarLander-v3\", render_mode=\"rgb_array\", max_episode_steps=600)\n",
        "\n",
        "  # 获取初始状态\n",
        "  state, info = env.reset()\n",
        "  img = plt.imshow(env.render()[0]) # only call this once\n",
        "\n",
        "  done = False\n",
        "  while not done:\n",
        "    # 可视化\n",
        "    img.set_data(env.render()[0]) # just update the data\n",
        "    display.display(plt.gcf())\n",
        "    display.clear_output(wait=True)\n",
        "    with torch.no_grad():\n",
        "      actions, _, _, _ = agent.select_action(state[None,:])\n",
        "    state, reward, terminated, truncated, info = env.step([actions.item()])\n",
        "    done = terminated or truncated\n",
        "\n",
        "env.close()\n"
      ],
      "metadata": {
        "colab": {
          "base_uri": "https://localhost:8080/",
          "height": 396
        },
        "id": "7dIo0gms2Y4D",
        "outputId": "afe2a573-6af7-4167-cede-28f22f47c7ca"
      },
      "execution_count": 47,
      "outputs": [
        {
          "output_type": "display_data",
          "data": {
            "text/plain": [
              "<Figure size 640x480 with 1 Axes>"
            ],
            "image/png": "[encoded data removed]"
          },
          "metadata": {}
        }
      ]
    },
    {
      "cell_type": "markdown",
      "source": [
        "## 回报分析"
      ],
      "metadata": {
        "id": "sjnteV3SBVtp"
      }
    },
    {
      "cell_type": "code",
      "source": [
        "import pandas as pd\n",
        "\n",
        "\n",
        "my_df = pd.DataFrame(\n",
        "    {\n",
        "        \"randomize_domain=False\": episode_returns_moving_average\n",
        "    }\n",
        ")\n",
        "\n",
        "my_df.to_csv(\"/content/drive/MyDrive/Actor-Critics_Test/A2C.csv\")\n",
        "my_df"
      ],
      "metadata": {
        "colab": {
          "base_uri": "https://localhost:8080/",
          "height": 423
        },
        "id": "ZbaxR1WrBWEk",
        "outputId": "14ae2e65-d955-41a0-e947-0976c709fb50"
      },
      "execution_count": 49,
      "outputs": [
        {
          "output_type": "execute_result",
          "data": {
            "text/plain": [
              "      randomize_domain=False\n",
              "0                -158.242634\n",
              "1                -169.507533\n",
              "2                -183.674368\n",
              "3                -184.298293\n",
              "4                -183.368921\n",
              "...                      ...\n",
              "4861               37.268605\n",
              "4862               36.688973\n",
              "4863               45.210451\n",
              "4864               36.061573\n",
              "4865               36.404375\n",
              "\n",
              "[4866 rows x 1 columns]"
            ],
            "text/html": [
              "\n",
              "  <div id=\"df-67fef4dd-3307-4e9d-80dc-fa1c40c53c64\" class=\"colab-df-container\">\n",
              "    <div>\n",
              "<style scoped>\n",
              "    .dataframe tbody tr th:only-of-type {\n",
              "        vertical-align: middle;\n",
              "    }\n",
              "\n",
              "    .dataframe tbody tr th {\n",
              "        vertical-align: top;\n",
              "    }\n",
              "\n",
              "    .dataframe thead th {\n",
              "        text-align: right;\n",
              "    }\n",
              "</style>\n",
              "<table border=\"1\" class=\"dataframe\">\n",
              "  <thead>\n",
              "    <tr style=\"text-align: right;\">\n",
              "      <th></th>\n",
              "      <th>randomize_domain=False</th>\n",
              "    </tr>\n",
              "  </thead>\n",
              "  <tbody>\n",
              "    <tr>\n",
              "      <th>0</th>\n",
              "      <td>-158.242634</td>\n",
              "    </tr>\n",
              "    <tr>\n",
              "      <th>1</th>\n",
              "      <td>-169.507533</td>\n",
              "    </tr>\n",
              "    <tr>\n",
              "      <th>2</th>\n",
              "      <td>-183.674368</td>\n",
              "    </tr>\n",
              "    <tr>\n",
              "      <th>3</th>\n",
              "      <td>-184.298293</td>\n",
              "    </tr>\n",
              "    <tr>\n",
              "      <th>4</th>\n",
              "      <td>-183.368921</td>\n",
              "    </tr>\n",
              "    <tr>\n",
              "      <th>...</th>\n",
              "      <td>...</td>\n",
              "    </tr>\n",
              "    <tr>\n",
              "      <th>4861</th>\n",
              "      <td>37.268605</td>\n",
              "    </tr>\n",
              "    <tr>\n",
              "      <th>4862</th>\n",
              "      <td>36.688973</td>\n",
              "    </tr>\n",
              "    <tr>\n",
              "      <th>4863</th>\n",
              "      <td>45.210451</td>\n",
              "    </tr>\n",
              "    <tr>\n",
              "      <th>4864</th>\n",
              "      <td>36.061573</td>\n",
              "    </tr>\n",
              "    <tr>\n",
              "      <th>4865</th>\n",
              "      <td>36.404375</td>\n",
              "    </tr>\n",
              "  </tbody>\n",
              "</table>\n",
              "<p>4866 rows × 1 columns</p>\n",
              "</div>\n",
              "    <div class=\"colab-df-buttons\">\n",
              "\n",
              "  <div class=\"colab-df-container\">\n",
              "    <button class=\"colab-df-convert\" onclick=\"convertToInteractive('df-67fef4dd-3307-4e9d-80dc-fa1c40c53c64')\"\n",
              "            title=\"Convert this dataframe to an interactive table.\"\n",
              "            style=\"display:none;\">\n",
              "\n",
              "  <svg xmlns=\"http://www.w3.org/2000/svg\" height=\"24px\" viewBox=\"0 -960 960 960\">\n",
              "    <path d=\"M120-120v-720h720v720H120Zm60-500h600v-160H180v160Zm220 220h160v-160H400v160Zm0 220h160v-160H400v160ZM180-400h160v-160H180v160Zm440 0h160v-160H620v160ZM180-180h160v-160H180v160Zm440 0h160v-160H620v160Z\"/>\n",
              "  </svg>\n",
              "    </button>\n",
              "\n",
              "  <style>\n",
              "    .colab-df-container {\n",
              "      display:flex;\n",
              "      gap: 12px;\n",
              "    }\n",
              "\n",
              "    .colab-df-convert {\n",
              "      background-color: #E8F0FE;\n",
              "      border: none;\n",
              "      border-radius: 50%;\n",
              "      cursor: pointer;\n",
              "      display: none;\n",
              "      fill: #1967D2;\n",
              "      height: 32px;\n",
              "      padding: 0 0 0 0;\n",
              "      width: 32px;\n",
              "    }\n",
              "\n",
              "    .colab-df-convert:hover {\n",
              "      background-color: #E2EBFA;\n",
              "      box-shadow: 0px 1px 2px rgba(60, 64, 67, 0.3), 0px 1px 3px 1px rgba(60, 64, 67, 0.15);\n",
              "      fill: #174EA6;\n",
              "    }\n",
              "\n",
              "    .colab-df-buttons div {\n",
              "      margin-bottom: 4px;\n",
              "    }\n",
              "\n",
              "    [theme=dark] .colab-df-convert {\n",
              "      background-color: #3B4455;\n",
              "      fill: #D2E3FC;\n",
              "    }\n",
              "\n",
              "    [theme=dark] .colab-df-convert:hover {\n",
              "      background-color: #434B5C;\n",
              "      box-shadow: 0px 1px 3px 1px rgba(0, 0, 0, 0.15);\n",
              "      filter: drop-shadow(0px 1px 2px rgba(0, 0, 0, 0.3));\n",
              "      fill: #FFFFFF;\n",
              "    }\n",
              "  </style>\n",
              "\n",
              "    <script>\n",
              "      const buttonEl =\n",
              "        document.querySelector('#df-67fef4dd-3307-4e9d-80dc-fa1c40c53c64 button.colab-df-convert');\n",
              "      buttonEl.style.display =\n",
              "        google.colab.kernel.accessAllowed ? 'block' : 'none';\n",
              "\n",
              "      async function convertToInteractive(key) {\n",
              "        const element = document.querySelector('#df-67fef4dd-3307-4e9d-80dc-fa1c40c53c64');\n",
              "        const dataTable =\n",
              "          await google.colab.kernel.invokeFunction('convertToInteractive',\n",
              "                                                    [key], {});\n",
              "        if (!dataTable) return;\n",
              "\n",
              "        const docLinkHtml = 'Like what you see? Visit the ' +\n",
              "          '<a target=\"_blank\" href=https://colab.research.google.com/notebooks/data_table.ipynb>data table notebook</a>'\n",
              "          + ' to learn more about interactive tables.';\n",
              "        element.innerHTML = '';\n",
              "        dataTable['output_type'] = 'display_data';\n",
              "        await google.colab.output.renderOutput(dataTable, element);\n",
              "        const docLink = document.createElement('div');\n",
              "        docLink.innerHTML = docLinkHtml;\n",
              "        element.appendChild(docLink);\n",
              "      }\n",
              "    </script>\n",
              "  </div>\n",
              "\n",
              "\n",
              "<div id=\"df-e1de7b2f-a25f-4158-aea1-e31dc174623f\">\n",
              "  <button class=\"colab-df-quickchart\" onclick=\"quickchart('df-e1de7b2f-a25f-4158-aea1-e31dc174623f')\"\n",
              "            title=\"Suggest charts\"\n",
              "            style=\"display:none;\">\n",
              "\n",
              "<svg xmlns=\"http://www.w3.org/2000/svg\" height=\"24px\"viewBox=\"0 0 24 24\"\n",
              "     width=\"24px\">\n",
              "    <g>\n",
              "        <path d=\"M19 3H5c-1.1 0-2 .9-2 2v14c0 1.1.9 2 2 2h14c1.1 0 2-.9 2-2V5c0-1.1-.9-2-2-2zM9 17H7v-7h2v7zm4 0h-2V7h2v10zm4 0h-2v-4h2v4z\"/>\n",
              "    </g>\n",
              "</svg>\n",
              "  </button>\n",
              "\n",
              "<style>\n",
              "  .colab-df-quickchart {\n",
              "      --bg-color: #E8F0FE;\n",
              "      --fill-color: #1967D2;\n",
              "      --hover-bg-color: #E2EBFA;\n",
              "      --hover-fill-color: #174EA6;\n",
              "      --disabled-fill-color: #AAA;\n",
              "      --disabled-bg-color: #DDD;\n",
              "  }\n",
              "\n",
              "  [theme=dark] .colab-df-quickchart {\n",
              "      --bg-color: #3B4455;\n",
              "      --fill-color: #D2E3FC;\n",
              "      --hover-bg-color: #434B5C;\n",
              "      --hover-fill-color: #FFFFFF;\n",
              "      --disabled-bg-color: #3B4455;\n",
              "      --disabled-fill-color: #666;\n",
              "  }\n",
              "\n",
              "  .colab-df-quickchart {\n",
              "    background-color: var(--bg-color);\n",
              "    border: none;\n",
              "    border-radius: 50%;\n",
              "    cursor: pointer;\n",
              "    display: none;\n",
              "    fill: var(--fill-color);\n",
              "    height: 32px;\n",
              "    padding: 0;\n",
              "    width: 32px;\n",
              "  }\n",
              "\n",
              "  .colab-df-quickchart:hover {\n",
              "    background-color: var(--hover-bg-color);\n",
              "    box-shadow: 0 1px 2px rgba(60, 64, 67, 0.3), 0 1px 3px 1px rgba(60, 64, 67, 0.15);\n",
              "    fill: var(--button-hover-fill-color);\n",
              "  }\n",
              "\n",
              "  .colab-df-quickchart-complete:disabled,\n",
              "  .colab-df-quickchart-complete:disabled:hover {\n",
              "    background-color: var(--disabled-bg-color);\n",
              "    fill: var(--disabled-fill-color);\n",
              "    box-shadow: none;\n",
              "  }\n",
              "\n",
              "  .colab-df-spinner {\n",
              "    border: 2px solid var(--fill-color);\n",
              "    border-color: transparent;\n",
              "    border-bottom-color: var(--fill-color);\n",
              "    animation:\n",
              "      spin 1s steps(1) infinite;\n",
              "  }\n",
              "\n",
              "  @keyframes spin {\n",
              "    0% {\n",
              "      border-color: transparent;\n",
              "      border-bottom-color: var(--fill-color);\n",
              "      border-left-color: var(--fill-color);\n",
              "    }\n",
              "    20% {\n",
              "      border-color: transparent;\n",
              "      border-left-color: var(--fill-color);\n",
              "      border-top-color: var(--fill-color);\n",
              "    }\n",
              "    30% {\n",
              "      border-color: transparent;\n",
              "      border-left-color: var(--fill-color);\n",
              "      border-top-color: var(--fill-color);\n",
              "      border-right-color: var(--fill-color);\n",
              "    }\n",
              "    40% {\n",
              "      border-color: transparent;\n",
              "      border-right-color: var(--fill-color);\n",
              "      border-top-color: var(--fill-color);\n",
              "    }\n",
              "    60% {\n",
              "      border-color: transparent;\n",
              "      border-right-color: var(--fill-color);\n",
              "    }\n",
              "    80% {\n",
              "      border-color: transparent;\n",
              "      border-right-color: var(--fill-color);\n",
              "      border-bottom-color: var(--fill-color);\n",
              "    }\n",
              "    90% {\n",
              "      border-color: transparent;\n",
              "      border-bottom-color: var(--fill-color);\n",
              "    }\n",
              "  }\n",
              "</style>\n",
              "\n",
              "  <script>\n",
              "    async function quickchart(key) {\n",
              "      const quickchartButtonEl =\n",
              "        document.querySelector('#' + key + ' button');\n",
              "      quickchartButtonEl.disabled = true;  // To prevent multiple clicks.\n",
              "      quickchartButtonEl.classList.add('colab-df-spinner');\n",
              "      try {\n",
              "        const charts = await google.colab.kernel.invokeFunction(\n",
              "            'suggestCharts', [key], {});\n",
              "      } catch (error) {\n",
              "        console.error('Error during call to suggestCharts:', error);\n",
              "      }\n",
              "      quickchartButtonEl.classList.remove('colab-df-spinner');\n",
              "      quickchartButtonEl.classList.add('colab-df-quickchart-complete');\n",
              "    }\n",
              "    (() => {\n",
              "      let quickchartButtonEl =\n",
              "        document.querySelector('#df-e1de7b2f-a25f-4158-aea1-e31dc174623f button');\n",
              "      quickchartButtonEl.style.display =\n",
              "        google.colab.kernel.accessAllowed ? 'block' : 'none';\n",
              "    })();\n",
              "  </script>\n",
              "</div>\n",
              "    </div>\n",
              "  </div>\n"
            ],
            "application/vnd.google.colaboratory.intrinsic+json": {
              "type": "dataframe",
              "variable_name": "my_df",
              "summary": "{\n  \"name\": \"my_df\",\n  \"rows\": 4866,\n  \"fields\": [\n    {\n      \"column\": \"randomize_domain=False\",\n      \"properties\": {\n        \"dtype\": \"number\",\n        \"std\": 93.28505826463729,\n        \"min\": -218.72867348476979,\n        \"max\": 120.63877842501385,\n        \"num_unique_values\": 4866,\n        \"samples\": [\n          -108.83371863435688,\n          34.7985145891107,\n          -40.86189322367545\n        ],\n        \"semantic_type\": \"\",\n        \"description\": \"\"\n      }\n    }\n  ]\n}"
            }
          },
          "metadata": {},
          "execution_count": 49
        }
      ]
    }
  ]
}