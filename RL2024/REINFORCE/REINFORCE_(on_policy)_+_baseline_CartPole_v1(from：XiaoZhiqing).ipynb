{
  "nbformat": 4,
  "nbformat_minor": 0,
  "metadata": {
    "colab": {
      "provenance": []
    },
    "kernelspec": {
      "name": "python3",
      "display_name": "Python 3"
    },
    "language_info": {
      "name": "python"
    }
  },
  "cells": [
    {
      "cell_type": "markdown",
      "source": [
        "*  整理自 https://github.com/ZhiqingXiao/rl-book/blob/master/en2024/code/CartPole-v0_VPGwBaseline_torch.ipynb\n",
        "\n",
        "\n",
        "<mark>将 价值 作为 基线的估计。</mark>"
      ],
      "metadata": {
        "id": "K2XzEEs1B7wf"
      }
    },
    {
      "cell_type": "code",
      "source": [
        "!pip install gymnasium"
      ],
      "metadata": {
        "colab": {
          "base_uri": "https://localhost:8080/"
        },
        "id": "6dc3a0OUD6aq",
        "outputId": "2d93b580-68bb-4ee4-bde5-565f992687a4"
      },
      "execution_count": null,
      "outputs": [
        {
          "output_type": "stream",
          "name": "stdout",
          "text": [
            "Requirement already satisfied: gymnasium in /usr/local/lib/python3.10/dist-packages (0.29.1)\n",
            "Requirement already satisfied: numpy>=1.21.0 in /usr/local/lib/python3.10/dist-packages (from gymnasium) (1.26.4)\n",
            "Requirement already satisfied: cloudpickle>=1.2.0 in /usr/local/lib/python3.10/dist-packages (from gymnasium) (2.2.1)\n",
            "Requirement already satisfied: typing-extensions>=4.3.0 in /usr/local/lib/python3.10/dist-packages (from gymnasium) (4.12.2)\n",
            "Requirement already satisfied: farama-notifications>=0.0.1 in /usr/local/lib/python3.10/dist-packages (from gymnasium) (0.0.4)\n"
          ]
        }
      ]
    },
    {
      "cell_type": "code",
      "execution_count": null,
      "metadata": {
        "id": "xaGangygB7Eb"
      },
      "outputs": [],
      "source": [
        "%matplotlib inline\n",
        "\n",
        "import sys\n",
        "import logging\n",
        "import itertools  # 用于构建不限制次数的循环\n",
        "\n",
        "import numpy as np\n",
        "np.random.seed(0)\n",
        "import pandas as pd\n",
        "import gymnasium as gym\n",
        "import matplotlib.pyplot as plt\n",
        "import torch\n",
        "torch.manual_seed(0)\n",
        "import torch.nn as nn\n",
        "import torch.optim as optim\n",
        "import torch.distributions as distributions\n",
        "\n",
        "logging.basicConfig(level=logging.INFO,\n",
        "          format='%(asctime)s [%(levelname)s]%(message)s',\n",
        "          stream=sys.stdout, datefmt='%H；%M:%S')\n",
        "\n",
        "import warnings   # 忽略警告\n",
        "warnings.filterwarnings(\"ignore\")"
      ]
    },
    {
      "cell_type": "markdown",
      "source": [
        "## 环境\n",
        "\n",
        "\n",
        "* https://gymnasium.farama.org/environments/classic_control/cart_pole/"
      ],
      "metadata": {
        "id": "3opYAxHGFlJO"
      }
    },
    {
      "cell_type": "code",
      "source": [
        "env = gym.make('CartPole-v1', render_mode='rgb_array')  # 奖励阈值 500\n",
        "print(env.action_space.n) # 动作数"
      ],
      "metadata": {
        "colab": {
          "base_uri": "https://localhost:8080/"
        },
        "id": "sqXDTH56D5ea",
        "outputId": "16fda914-3949-4590-bf2a-d61325f92a49"
      },
      "execution_count": null,
      "outputs": [
        {
          "output_type": "stream",
          "name": "stdout",
          "text": [
            "2\n"
          ]
        }
      ]
    },
    {
      "cell_type": "markdown",
      "source": [
        "## 算法 模块"
      ],
      "metadata": {
        "id": "Dz8JvGWOGvwW"
      }
    },
    {
      "cell_type": "code",
      "source": [
        "class REINFORCEAgent:\n",
        "  def __init__(self, env):\n",
        "    self.action_n = env.action_space.n\n",
        "    self.gamma = 0.99 # 折扣因子\n",
        "\n",
        "    self.policy_net = self.build_net(\n",
        "        input_size = env.observation_space.shape[0],\n",
        "        hidden_sizes = [],\n",
        "        output_size = self.action_n, output_activator=nn.Softmax(1))  # nn.Softmax(dim=None)： dim=0表示对列进行归一化，dim=1表示对行进行归一化\n",
        "    self.policy_optimizer = optim.Adam(self.policy_net.parameters(), lr=0.005)\n",
        "\n",
        "    ### 修改 1： 增加对 基线的估计 网络\n",
        "    self.baseline_net = self.build_net(\n",
        "        input_size = env.observation_space.shape[0],\n",
        "        hidden_sizes = [])\n",
        "    self.baseline_optimizer = optim.Adam(self.policy_net.parameters(), lr=0.01)\n",
        "    self.baseline_loss = nn.MSELoss()\n",
        "\n",
        "\n",
        "  def build_net(self, input_size, hidden_sizes, output_size=1,\n",
        "          output_activator=None, use_bias=False):  # 修改 2： output_size=1\n",
        "    layers = []\n",
        "    for input_size, output_size in zip([input_size,]+hidden_sizes, hidden_sizes+[output_size,]):\n",
        "      layers.append(nn.Linear(input_size, output_size, bias=use_bias))\n",
        "      layers.append(nn.ReLU())\n",
        "    layers = layers[:-1]\n",
        "    if output_activator:\n",
        "      layers.append(output_activator)\n",
        "    model = nn.Sequential(*layers)\n",
        "    return model\n",
        "\n",
        "  def reset(self, mode=None):\n",
        "    self.mode = mode\n",
        "    if self.mode == \"train\":\n",
        "      self.trajectory = []\n",
        "\n",
        "  def step(self, observation, reward, terminated):\n",
        "    state_tensor = torch.as_tensor(observation, dtype=torch.float).unsqueeze(0)\n",
        "    prob_tensor = self.policy_net(state_tensor)  #\n",
        "    action = distributions.Categorical(prob_tensor).sample().item()\n",
        "    if self.mode == \"train\":  # 训练状态进行采样， 测试时直接返回动作 即可\n",
        "      self.trajectory += [observation, reward, terminated, action]\n",
        "    return action\n",
        "\n",
        "  def close(self):\n",
        "    if self.mode == \"train\":\n",
        "      self.learn()\n",
        "\n",
        "  def learn(self):  # 学习 模块\n",
        "    state_tensor = torch.as_tensor(self.trajectory[0::4], dtype=torch.float)\n",
        "    reward_tensor = torch.as_tensor(self.trajectory[1::4], dtype=torch.float)\n",
        "    action_tensor = torch.as_tensor(self.trajectory[3::4], dtype=torch.long)\n",
        "    arange_tensor = torch.arange(state_tensor.shape[0],dtype=torch.float)\n",
        "\n",
        "    #\n",
        "    discount_tensor = self.gamma ** arange_tensor\n",
        "    discounted_reward_tensor = discount_tensor * reward_tensor\n",
        "    discounted_return_tensor = discounted_reward_tensor.flip(0).cumsum(0).flip(0)\n",
        "    # 更新 baseline 网络的 参数\n",
        "    return_tensor = discounted_return_tensor / discount_tensor\n",
        "    pred_tensor = self.baseline_net(state_tensor)\n",
        "    psi_tensor = (discounted_return_tensor - discount_tensor * pred_tensor).detach()\n",
        "    baseline_loss_tensor = self.baseline_loss(pred_tensor,return_tensor.unsqueeze(1))\n",
        "    self.baseline_optimizer.zero_grad()\n",
        "    baseline_loss_tensor.backward()\n",
        "    self.baseline_optimizer.step()\n",
        "\n",
        "    # # 更新 策略网络的 参数\n",
        "    all_pi_tensor = self.policy_net(state_tensor)\n",
        "    pi_tensor = torch.gather(all_pi_tensor, 1, action_tensor.unsqueeze(1)).squeeze(1)\n",
        "    log_pi_tensor = torch.log(torch.clamp(pi_tensor, 1e-6, 1,))  # torch.clamp 将输入张量的元素限制在指定范围内\n",
        "    policy_loss_tensor = -(discounted_return_tensor * log_pi_tensor).mean() #\n",
        "    self.policy_optimizer.zero_grad() # 重置 梯度\n",
        "    policy_loss_tensor.backward() # 反向传播\n",
        "    self.policy_optimizer.step() # 更新权重\n",
        "\n",
        "agent = REINFORCEAgent(env)"
      ],
      "metadata": {
        "id": "ZccYBq1JGymR"
      },
      "execution_count": null,
      "outputs": []
    },
    {
      "cell_type": "markdown",
      "source": [
        "## 训练"
      ],
      "metadata": {
        "id": "qF_FSgh7JdQ5"
      }
    },
    {
      "cell_type": "code",
      "source": [
        "def play_episode(env, agent, seed=None, mode=None, render=False):\n",
        "  observation, _ = env.reset(seed=seed)\n",
        "  reward, terminated, truncated = 0., False, False\n",
        "  agent.reset(mode=mode)\n",
        "  episode_reward, elapsed_steps = 0., 0\n",
        "  while True:\n",
        "    action = agent.step(observation, reward, terminated)\n",
        "    observation, reward, terminated, truncated, _ = env.step(action)\n",
        "    if render:\n",
        "      env.render()\n",
        "    if terminated or truncated:\n",
        "      break\n",
        "    episode_reward += reward\n",
        "    elapsed_steps += 1 # 走过的步数\n",
        "  agent.close()\n",
        "\n",
        "  return episode_reward, elapsed_steps\n",
        "\n",
        "logging.info(\"===== train =====\")\n",
        "episode_rewards = []\n",
        "for episode in itertools.count(): # 从 0 到无穷大的 迭代次数\n",
        "  episode_reward, elapsed_steps = play_episode(env, agent, seed=episode, mode=\"train\")\n",
        "  episode_rewards.append(episode_reward)\n",
        "  logging.info('train episode %d：reward = %.2f, steps = %d',\n",
        "               episode, episode_reward, elapsed_steps)\n",
        "  if np.mean(episode_rewards[-20:]) > 300: # 获得有效的策略了   ！！！\n",
        "    break\n",
        "\n",
        "plt.plot(episode_rewards)\n",
        "\n",
        "logging.info(\"===== test =====\")\n",
        "episode_rewards_test = []\n",
        "for episode in range(100):\n",
        "  epsiode_reward, elapsed_steps = play_episode(env, agent)\n",
        "  episode_rewards_test.append(episode_reward)\n",
        "  logging.info('test episode % d: reward = %.2f, steps=%d',\n",
        "        episode, episode_reward, elapsed_steps)\n",
        "logging.info(\"average episode reward = %.2f ± %.2f\",\n",
        "       np.mean(episode_rewards_test), np.std(episode_rewards_test))\n",
        "\n",
        "env.close()"
      ],
      "metadata": {
        "id": "7RC8I1wiZZBw",
        "colab": {
          "base_uri": "https://localhost:8080/",
          "height": 430
        },
        "outputId": "ca441d5a-ba43-446c-cc71-472e10110297"
      },
      "execution_count": null,
      "outputs": [
        {
          "output_type": "display_data",
          "data": {
            "text/plain": [
              "<Figure size 640x480 with 1 Axes>"
            ],
            "image/png": "[encoded data removed]"
          },
          "metadata": {}
        }
      ]
    },
    {
      "cell_type": "code",
      "source": [
        "# 平滑\n",
        "\n",
        "def moving_average(a, window_size):\n",
        "    cumulative_sum = np.cumsum(np.insert(a, 0, 0))\n",
        "    middle = (cumulative_sum[window_size:] - cumulative_sum[:-window_size]) / window_size\n",
        "    r = np.arange(1, window_size-1, 2)\n",
        "    begin = np.cumsum(a[:window_size-1])[::2] / r\n",
        "    end = (np.cumsum(a[:-window_size:-1])[::2] / r)[::-1]\n",
        "    return np.concatenate((begin, middle, end))\n",
        "\n",
        "episodes_list = list(range(len(episode_rewards)))  # x\n",
        "mv_return = moving_average(episode_rewards, 29)  # 9 可考虑改大些，让图好看些\n",
        "plt.plot(episodes_list, mv_return)  # x y\n",
        "plt.xlabel('Episodes')\n",
        "plt.ylabel('Returns')\n",
        "plt.title('REINFORCE on {}'.format(env_name))\n",
        "plt.show()"
      ],
      "metadata": {
        "id": "gYxv9kzdHqHd"
      },
      "execution_count": null,
      "outputs": []
    }
  ]
}